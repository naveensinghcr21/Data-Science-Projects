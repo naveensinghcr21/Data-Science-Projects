{
  "nbformat": 4,
  "nbformat_minor": 0,
  "metadata": {
    "kernelspec": {
      "display_name": "Python 3",
      "language": "python",
      "name": "python3"
    },
    "language_info": {
      "codemirror_mode": {
        "name": "ipython",
        "version": 3
      },
      "file_extension": ".py",
      "mimetype": "text/x-python",
      "name": "python",
      "nbconvert_exporter": "python",
      "pygments_lexer": "ipython3",
      "version": "3.7.6"
    },
    "colab": {
      "name": "Copy of us_accidents_analysis.ipynb",
      "provenance": [],
      "collapsed_sections": [],
      "include_colab_link": true
    }
  },
  "cells": [
    {
      "cell_type": "markdown",
      "metadata": {
        "id": "view-in-github",
        "colab_type": "text"
      },
      "source": [
        "<a href=\"https://colab.research.google.com/github/naveensinghcr21/Data-Science-Projects/blob/main/Copy_of_us_accidents_analysis.ipynb\" target=\"_parent\"><img src=\"https://colab.research.google.com/assets/colab-badge.svg\" alt=\"Open In Colab\"/></a>"
      ]
    },
    {
      "cell_type": "code",
      "metadata": {
        "id": "qPrIeiUfmavJ"
      },
      "source": [
        "# Jovian Commit Essentials\n",
        "# Please retain and execute this cell without modifying the contents for `jovian.commit` to work\n",
        "!pip install jovian --upgrade -q\n",
        "import jovian\n",
        "jovian.set_project('us-accidents-analysis')\n",
        "jovian.set_colab_id('1nEW4G7NN2O43uunOJB9TBygqIHroLjlG')"
      ],
      "execution_count": null,
      "outputs": []
    },
    {
      "cell_type": "markdown",
      "metadata": {
        "id": "xR1zseDimavM"
      },
      "source": [
        "# us-accidents-analysis\n",
        "\n",
        "Use the \"Run\" button to execute the code."
      ]
    },
    {
      "cell_type": "markdown",
      "metadata": {
        "id": "qqplsXNrnJjO"
      },
      "source": [
        "#US Accidents Exploratory Data Analysis\n",
        "\n",
        "TODO-Talk about EDA\n",
        "\n",
        "TODO- Talk about the DataSet(Source,What it contains,How is it useful)\n",
        "*   Kaggle\n",
        "*   Information about Accidents\n",
        "*   can be useful to prevent Accidents\n",
        "\n",
        "\n",
        "\n",
        "\n",
        "\n",
        "\n",
        "\n"
      ]
    },
    {
      "cell_type": "markdown",
      "metadata": {
        "id": "NRXUmJxDnxQU"
      },
      "source": [
        "##Data Preparation and Cleaning\n",
        "\n",
        "\n",
        "1.   Load the file using pandas\n",
        "2.   Look at some of the information about the data and the columns\n",
        "3.   fix any missing or incorrect values\n",
        "\n",
        "\n",
        "\n",
        "\n"
      ]
    },
    {
      "cell_type": "code",
      "metadata": {
        "id": "hHt3M9uYn3dH"
      },
      "source": [
        "import pandas as pd"
      ],
      "execution_count": null,
      "outputs": []
    },
    {
      "cell_type": "code",
      "metadata": {
        "colab": {
          "base_uri": "https://localhost:8080/"
        },
        "id": "_BZVX6Wbn4Pf",
        "outputId": "5c221fb7-4149-486a-c816-647dd1483570"
      },
      "source": [
        "df=pd.read_csv(\"/content/drive/MyDrive/Colab Notebooks/US_Accidents_Dec20_Updated1.csv\")"
      ],
      "execution_count": null,
      "outputs": [
        {
          "output_type": "stream",
          "text": [
            "/usr/local/lib/python3.7/dist-packages/IPython/core/interactiveshell.py:2718: DtypeWarning: Columns (30,31,32,33,34,35,36,37,38,39,40,41,42) have mixed types.Specify dtype option on import or set low_memory=False.\n",
            "  interactivity=interactivity, compiler=compiler, result=result)\n"
          ],
          "name": "stderr"
        }
      ]
    },
    {
      "cell_type": "code",
      "metadata": {
        "colab": {
          "base_uri": "https://localhost:8080/",
          "height": 958
        },
        "id": "8poHobcFn-kA",
        "outputId": "ec77e316-1319-411b-b267-3b53619258f9"
      },
      "source": [
        "df"
      ],
      "execution_count": null,
      "outputs": [
        {
          "output_type": "execute_result",
          "data": {
            "text/html": [
              "<div>\n",
              "<style scoped>\n",
              "    .dataframe tbody tr th:only-of-type {\n",
              "        vertical-align: middle;\n",
              "    }\n",
              "\n",
              "    .dataframe tbody tr th {\n",
              "        vertical-align: top;\n",
              "    }\n",
              "\n",
              "    .dataframe thead th {\n",
              "        text-align: right;\n",
              "    }\n",
              "</style>\n",
              "<table border=\"1\" class=\"dataframe\">\n",
              "  <thead>\n",
              "    <tr style=\"text-align: right;\">\n",
              "      <th></th>\n",
              "      <th>ID</th>\n",
              "      <th>Severity</th>\n",
              "      <th>Start_Time</th>\n",
              "      <th>End_Time</th>\n",
              "      <th>Start_Lat</th>\n",
              "      <th>Start_Lng</th>\n",
              "      <th>End_Lat</th>\n",
              "      <th>End_Lng</th>\n",
              "      <th>Distance(mi)</th>\n",
              "      <th>Description</th>\n",
              "      <th>Number</th>\n",
              "      <th>Street</th>\n",
              "      <th>Side</th>\n",
              "      <th>City</th>\n",
              "      <th>County</th>\n",
              "      <th>State</th>\n",
              "      <th>Zipcode</th>\n",
              "      <th>Country</th>\n",
              "      <th>Timezone</th>\n",
              "      <th>Airport_Code</th>\n",
              "      <th>Weather_Timestamp</th>\n",
              "      <th>Temperature(F)</th>\n",
              "      <th>Wind_Chill(F)</th>\n",
              "      <th>Humidity(%)</th>\n",
              "      <th>Pressure(in)</th>\n",
              "      <th>Visibility(mi)</th>\n",
              "      <th>Wind_Direction</th>\n",
              "      <th>Wind_Speed(mph)</th>\n",
              "      <th>Precipitation(in)</th>\n",
              "      <th>Weather_Condition</th>\n",
              "      <th>Amenity</th>\n",
              "      <th>Bump</th>\n",
              "      <th>Crossing</th>\n",
              "      <th>Give_Way</th>\n",
              "      <th>Junction</th>\n",
              "      <th>No_Exit</th>\n",
              "      <th>Railway</th>\n",
              "      <th>Roundabout</th>\n",
              "      <th>Station</th>\n",
              "      <th>Stop</th>\n",
              "      <th>Traffic_Calming</th>\n",
              "      <th>Traffic_Signal</th>\n",
              "      <th>Turning_Loop</th>\n",
              "      <th>Sunrise_Sunset</th>\n",
              "      <th>Civil_Twilight</th>\n",
              "      <th>Nautical_Twilight</th>\n",
              "      <th>Astronomical_Twilight</th>\n",
              "    </tr>\n",
              "  </thead>\n",
              "  <tbody>\n",
              "    <tr>\n",
              "      <th>0</th>\n",
              "      <td>A-1</td>\n",
              "      <td>2.0</td>\n",
              "      <td>2019-05-21 08:29:55</td>\n",
              "      <td>2019-05-21 09:29:40</td>\n",
              "      <td>34.808868</td>\n",
              "      <td>-82.269157</td>\n",
              "      <td>34.808868</td>\n",
              "      <td>-82.269157</td>\n",
              "      <td>0.000</td>\n",
              "      <td>Accident on Tanner Rd at Pennbrooke Ln.</td>\n",
              "      <td>439.0</td>\n",
              "      <td>Tanner Rd</td>\n",
              "      <td>R</td>\n",
              "      <td>Greenville</td>\n",
              "      <td>Greenville</td>\n",
              "      <td>SC</td>\n",
              "      <td>29607-6027</td>\n",
              "      <td>US</td>\n",
              "      <td>US/Eastern</td>\n",
              "      <td>KGMU</td>\n",
              "      <td>2019-05-21 08:53:00</td>\n",
              "      <td>76.0</td>\n",
              "      <td>76.0</td>\n",
              "      <td>52.0</td>\n",
              "      <td>28.91</td>\n",
              "      <td>10.0</td>\n",
              "      <td>N</td>\n",
              "      <td>7.0</td>\n",
              "      <td>0.0</td>\n",
              "      <td>Fair</td>\n",
              "      <td>False</td>\n",
              "      <td>False</td>\n",
              "      <td>False</td>\n",
              "      <td>False</td>\n",
              "      <td>False</td>\n",
              "      <td>False</td>\n",
              "      <td>False</td>\n",
              "      <td>False</td>\n",
              "      <td>False</td>\n",
              "      <td>False</td>\n",
              "      <td>False</td>\n",
              "      <td>False</td>\n",
              "      <td>False</td>\n",
              "      <td>Day</td>\n",
              "      <td>Day</td>\n",
              "      <td>Day</td>\n",
              "      <td>Day</td>\n",
              "    </tr>\n",
              "    <tr>\n",
              "      <th>1</th>\n",
              "      <td>A-2</td>\n",
              "      <td>2.0</td>\n",
              "      <td>2019-10-07 17:43:09</td>\n",
              "      <td>2019-10-07 19:42:50</td>\n",
              "      <td>35.090080</td>\n",
              "      <td>-80.745560</td>\n",
              "      <td>35.090080</td>\n",
              "      <td>-80.745560</td>\n",
              "      <td>0.000</td>\n",
              "      <td>Accident on Houston Branch Rd at Providence Br...</td>\n",
              "      <td>3299.0</td>\n",
              "      <td>Providence Branch Ln</td>\n",
              "      <td>R</td>\n",
              "      <td>Charlotte</td>\n",
              "      <td>Mecklenburg</td>\n",
              "      <td>NC</td>\n",
              "      <td>28270-8560</td>\n",
              "      <td>US</td>\n",
              "      <td>US/Eastern</td>\n",
              "      <td>KEQY</td>\n",
              "      <td>2019-10-07 17:53:00</td>\n",
              "      <td>76.0</td>\n",
              "      <td>76.0</td>\n",
              "      <td>62.0</td>\n",
              "      <td>29.30</td>\n",
              "      <td>10.0</td>\n",
              "      <td>VAR</td>\n",
              "      <td>3.0</td>\n",
              "      <td>0.0</td>\n",
              "      <td>Cloudy</td>\n",
              "      <td>False</td>\n",
              "      <td>False</td>\n",
              "      <td>False</td>\n",
              "      <td>False</td>\n",
              "      <td>False</td>\n",
              "      <td>False</td>\n",
              "      <td>False</td>\n",
              "      <td>False</td>\n",
              "      <td>False</td>\n",
              "      <td>False</td>\n",
              "      <td>False</td>\n",
              "      <td>False</td>\n",
              "      <td>False</td>\n",
              "      <td>Day</td>\n",
              "      <td>Day</td>\n",
              "      <td>Day</td>\n",
              "      <td>Day</td>\n",
              "    </tr>\n",
              "    <tr>\n",
              "      <th>2</th>\n",
              "      <td>A-3</td>\n",
              "      <td>2.0</td>\n",
              "      <td>2020-12-13 21:53:00</td>\n",
              "      <td>2020-12-13 22:44:00</td>\n",
              "      <td>37.145730</td>\n",
              "      <td>-121.985052</td>\n",
              "      <td>37.165850</td>\n",
              "      <td>-121.988062</td>\n",
              "      <td>1.400</td>\n",
              "      <td>Stationary traffic on CA-17 from Summit Rd (CA...</td>\n",
              "      <td>NaN</td>\n",
              "      <td>Santa Cruz Hwy</td>\n",
              "      <td>R</td>\n",
              "      <td>Los Gatos</td>\n",
              "      <td>Santa Clara</td>\n",
              "      <td>CA</td>\n",
              "      <td>95033</td>\n",
              "      <td>US</td>\n",
              "      <td>US/Pacific</td>\n",
              "      <td>KSJC</td>\n",
              "      <td>2020-12-13 21:53:00</td>\n",
              "      <td>51.0</td>\n",
              "      <td>51.0</td>\n",
              "      <td>80.0</td>\n",
              "      <td>30.17</td>\n",
              "      <td>10.0</td>\n",
              "      <td>W</td>\n",
              "      <td>6.0</td>\n",
              "      <td>0.0</td>\n",
              "      <td>Fair</td>\n",
              "      <td>False</td>\n",
              "      <td>False</td>\n",
              "      <td>False</td>\n",
              "      <td>False</td>\n",
              "      <td>False</td>\n",
              "      <td>False</td>\n",
              "      <td>False</td>\n",
              "      <td>False</td>\n",
              "      <td>False</td>\n",
              "      <td>False</td>\n",
              "      <td>False</td>\n",
              "      <td>False</td>\n",
              "      <td>False</td>\n",
              "      <td>Night</td>\n",
              "      <td>Night</td>\n",
              "      <td>Night</td>\n",
              "      <td>Night</td>\n",
              "    </tr>\n",
              "    <tr>\n",
              "      <th>3</th>\n",
              "      <td>A-4</td>\n",
              "      <td>2.0</td>\n",
              "      <td>2018-04-17 16:51:23</td>\n",
              "      <td>2018-04-17 17:50:46</td>\n",
              "      <td>39.110390</td>\n",
              "      <td>-119.773781</td>\n",
              "      <td>39.110390</td>\n",
              "      <td>-119.773781</td>\n",
              "      <td>0.000</td>\n",
              "      <td>Accident on US-395 Southbound at Topsy Ln.</td>\n",
              "      <td>NaN</td>\n",
              "      <td>US Highway 395 S</td>\n",
              "      <td>R</td>\n",
              "      <td>Carson City</td>\n",
              "      <td>Douglas</td>\n",
              "      <td>NV</td>\n",
              "      <td>89705</td>\n",
              "      <td>US</td>\n",
              "      <td>US/Pacific</td>\n",
              "      <td>KCXP</td>\n",
              "      <td>2018-04-17 16:55:00</td>\n",
              "      <td>53.6</td>\n",
              "      <td>NaN</td>\n",
              "      <td>16.0</td>\n",
              "      <td>30.16</td>\n",
              "      <td>10.0</td>\n",
              "      <td>SSW</td>\n",
              "      <td>4.6</td>\n",
              "      <td>NaN</td>\n",
              "      <td>Clear</td>\n",
              "      <td>False</td>\n",
              "      <td>False</td>\n",
              "      <td>False</td>\n",
              "      <td>False</td>\n",
              "      <td>False</td>\n",
              "      <td>False</td>\n",
              "      <td>False</td>\n",
              "      <td>False</td>\n",
              "      <td>False</td>\n",
              "      <td>False</td>\n",
              "      <td>False</td>\n",
              "      <td>True</td>\n",
              "      <td>False</td>\n",
              "      <td>Day</td>\n",
              "      <td>Day</td>\n",
              "      <td>Day</td>\n",
              "      <td>Day</td>\n",
              "    </tr>\n",
              "    <tr>\n",
              "      <th>4</th>\n",
              "      <td>A-5</td>\n",
              "      <td>3.0</td>\n",
              "      <td>2016-08-31 17:40:49</td>\n",
              "      <td>2016-08-31 18:10:49</td>\n",
              "      <td>26.102942</td>\n",
              "      <td>-80.265091</td>\n",
              "      <td>26.102942</td>\n",
              "      <td>-80.265091</td>\n",
              "      <td>0.000</td>\n",
              "      <td>Accident on I-595 Westbound at Exit 4 / Pine I...</td>\n",
              "      <td>NaN</td>\n",
              "      <td>I-595 W</td>\n",
              "      <td>R</td>\n",
              "      <td>Fort Lauderdale</td>\n",
              "      <td>Broward</td>\n",
              "      <td>FL</td>\n",
              "      <td>33324</td>\n",
              "      <td>US</td>\n",
              "      <td>US/Eastern</td>\n",
              "      <td>KHWO</td>\n",
              "      <td>2016-08-31 17:53:00</td>\n",
              "      <td>84.2</td>\n",
              "      <td>NaN</td>\n",
              "      <td>84.0</td>\n",
              "      <td>29.92</td>\n",
              "      <td>10.0</td>\n",
              "      <td>SSE</td>\n",
              "      <td>13.8</td>\n",
              "      <td>NaN</td>\n",
              "      <td>Overcast</td>\n",
              "      <td>False</td>\n",
              "      <td>False</td>\n",
              "      <td>False</td>\n",
              "      <td>False</td>\n",
              "      <td>True</td>\n",
              "      <td>False</td>\n",
              "      <td>False</td>\n",
              "      <td>False</td>\n",
              "      <td>False</td>\n",
              "      <td>False</td>\n",
              "      <td>False</td>\n",
              "      <td>True</td>\n",
              "      <td>False</td>\n",
              "      <td>Day</td>\n",
              "      <td>Day</td>\n",
              "      <td>Day</td>\n",
              "      <td>Day</td>\n",
              "    </tr>\n",
              "    <tr>\n",
              "      <th>...</th>\n",
              "      <td>...</td>\n",
              "      <td>...</td>\n",
              "      <td>...</td>\n",
              "      <td>...</td>\n",
              "      <td>...</td>\n",
              "      <td>...</td>\n",
              "      <td>...</td>\n",
              "      <td>...</td>\n",
              "      <td>...</td>\n",
              "      <td>...</td>\n",
              "      <td>...</td>\n",
              "      <td>...</td>\n",
              "      <td>...</td>\n",
              "      <td>...</td>\n",
              "      <td>...</td>\n",
              "      <td>...</td>\n",
              "      <td>...</td>\n",
              "      <td>...</td>\n",
              "      <td>...</td>\n",
              "      <td>...</td>\n",
              "      <td>...</td>\n",
              "      <td>...</td>\n",
              "      <td>...</td>\n",
              "      <td>...</td>\n",
              "      <td>...</td>\n",
              "      <td>...</td>\n",
              "      <td>...</td>\n",
              "      <td>...</td>\n",
              "      <td>...</td>\n",
              "      <td>...</td>\n",
              "      <td>...</td>\n",
              "      <td>...</td>\n",
              "      <td>...</td>\n",
              "      <td>...</td>\n",
              "      <td>...</td>\n",
              "      <td>...</td>\n",
              "      <td>...</td>\n",
              "      <td>...</td>\n",
              "      <td>...</td>\n",
              "      <td>...</td>\n",
              "      <td>...</td>\n",
              "      <td>...</td>\n",
              "      <td>...</td>\n",
              "      <td>...</td>\n",
              "      <td>...</td>\n",
              "      <td>...</td>\n",
              "      <td>...</td>\n",
              "    </tr>\n",
              "    <tr>\n",
              "      <th>1914297</th>\n",
              "      <td>A-1914298</td>\n",
              "      <td>2.0</td>\n",
              "      <td>2020-11-21 01:47:52</td>\n",
              "      <td>2020-11-21 03:29:06</td>\n",
              "      <td>38.950985</td>\n",
              "      <td>-77.349189</td>\n",
              "      <td>38.953105</td>\n",
              "      <td>-77.360149</td>\n",
              "      <td>0.607</td>\n",
              "      <td>Incident on DULLES TOLL RD near DULLES TOLL RD...</td>\n",
              "      <td>NaN</td>\n",
              "      <td>Dulles Toll Rd</td>\n",
              "      <td>R</td>\n",
              "      <td>Reston</td>\n",
              "      <td>Fairfax County</td>\n",
              "      <td>VA</td>\n",
              "      <td>20190</td>\n",
              "      <td>US</td>\n",
              "      <td>US/Eastern</td>\n",
              "      <td>KIAD</td>\n",
              "      <td>2020-11-21 01:52:00</td>\n",
              "      <td>43.0</td>\n",
              "      <td>43.0</td>\n",
              "      <td>76.0</td>\n",
              "      <td>29.98</td>\n",
              "      <td>10.0</td>\n",
              "      <td>CALM</td>\n",
              "      <td>0.0</td>\n",
              "      <td>0.0</td>\n",
              "      <td>Fair</td>\n",
              "      <td>False</td>\n",
              "      <td>False</td>\n",
              "      <td>False</td>\n",
              "      <td>False</td>\n",
              "      <td>True</td>\n",
              "      <td>False</td>\n",
              "      <td>False</td>\n",
              "      <td>False</td>\n",
              "      <td>False</td>\n",
              "      <td>False</td>\n",
              "      <td>False</td>\n",
              "      <td>False</td>\n",
              "      <td>False</td>\n",
              "      <td>Night</td>\n",
              "      <td>Night</td>\n",
              "      <td>Night</td>\n",
              "      <td>Night</td>\n",
              "    </tr>\n",
              "    <tr>\n",
              "      <th>1914298</th>\n",
              "      <td>A-1914299</td>\n",
              "      <td>2.0</td>\n",
              "      <td>2020-01-31 16:38:00</td>\n",
              "      <td>2020-01-31 17:37:00</td>\n",
              "      <td>41.066780</td>\n",
              "      <td>-111.969950</td>\n",
              "      <td>41.066780</td>\n",
              "      <td>-111.969950</td>\n",
              "      <td>0.000</td>\n",
              "      <td>At UT-232/Exit 331 - Accident.</td>\n",
              "      <td>NaN</td>\n",
              "      <td>I-15 N</td>\n",
              "      <td>R</td>\n",
              "      <td>Layton</td>\n",
              "      <td>Davis</td>\n",
              "      <td>UT</td>\n",
              "      <td>84041</td>\n",
              "      <td>US</td>\n",
              "      <td>US/Mountain</td>\n",
              "      <td>KHIF</td>\n",
              "      <td>2020-01-31 16:58:00</td>\n",
              "      <td>37.0</td>\n",
              "      <td>37.0</td>\n",
              "      <td>59.0</td>\n",
              "      <td>25.54</td>\n",
              "      <td>10.0</td>\n",
              "      <td>CALM</td>\n",
              "      <td>0.0</td>\n",
              "      <td>0.0</td>\n",
              "      <td>Cloudy</td>\n",
              "      <td>False</td>\n",
              "      <td>False</td>\n",
              "      <td>False</td>\n",
              "      <td>False</td>\n",
              "      <td>False</td>\n",
              "      <td>False</td>\n",
              "      <td>False</td>\n",
              "      <td>False</td>\n",
              "      <td>False</td>\n",
              "      <td>False</td>\n",
              "      <td>False</td>\n",
              "      <td>False</td>\n",
              "      <td>False</td>\n",
              "      <td>Day</td>\n",
              "      <td>Day</td>\n",
              "      <td>Day</td>\n",
              "      <td>Day</td>\n",
              "    </tr>\n",
              "    <tr>\n",
              "      <th>1914299</th>\n",
              "      <td>A-1914300</td>\n",
              "      <td>2.0</td>\n",
              "      <td>2018-05-08 12:17:02</td>\n",
              "      <td>2018-05-08 18:17:02</td>\n",
              "      <td>34.227380</td>\n",
              "      <td>-118.410620</td>\n",
              "      <td>34.229260</td>\n",
              "      <td>-118.409840</td>\n",
              "      <td>0.137</td>\n",
              "      <td>At Sheldon St - Accident.</td>\n",
              "      <td>NaN</td>\n",
              "      <td>Hollywood Fwy N</td>\n",
              "      <td>R</td>\n",
              "      <td>Sun Valley</td>\n",
              "      <td>Los Angeles</td>\n",
              "      <td>CA</td>\n",
              "      <td>91352</td>\n",
              "      <td>US</td>\n",
              "      <td>US/Pacific</td>\n",
              "      <td>KBUR</td>\n",
              "      <td>2018-05-08 11:53:00</td>\n",
              "      <td>75.0</td>\n",
              "      <td>NaN</td>\n",
              "      <td>50.0</td>\n",
              "      <td>29.98</td>\n",
              "      <td>9.0</td>\n",
              "      <td>SE</td>\n",
              "      <td>6.9</td>\n",
              "      <td>NaN</td>\n",
              "      <td>Clear</td>\n",
              "      <td>False</td>\n",
              "      <td>False</td>\n",
              "      <td>False</td>\n",
              "      <td>False</td>\n",
              "      <td>False</td>\n",
              "      <td>False</td>\n",
              "      <td>False</td>\n",
              "      <td>False</td>\n",
              "      <td>False</td>\n",
              "      <td>False</td>\n",
              "      <td>False</td>\n",
              "      <td>False</td>\n",
              "      <td>False</td>\n",
              "      <td>Day</td>\n",
              "      <td>Day</td>\n",
              "      <td>Day</td>\n",
              "      <td>Day</td>\n",
              "    </tr>\n",
              "    <tr>\n",
              "      <th>1914300</th>\n",
              "      <td>A-1914301</td>\n",
              "      <td>2.0</td>\n",
              "      <td>2020-11-12 17:44:19</td>\n",
              "      <td>2020-11-12 19:02:33</td>\n",
              "      <td>37.601169</td>\n",
              "      <td>-77.419313</td>\n",
              "      <td>37.602609</td>\n",
              "      <td>-77.423563</td>\n",
              "      <td>0.253</td>\n",
              "      <td>Incident on AZALEA AVE near CAROLINA AVE Drive...</td>\n",
              "      <td>198.0</td>\n",
              "      <td>E Azalea Ave</td>\n",
              "      <td>R</td>\n",
              "      <td>Richmond</td>\n",
              "      <td>Henrico</td>\n",
              "      <td>VA</td>\n",
              "      <td>23222</td>\n",
              "      <td>US</td>\n",
              "      <td>US/Eastern</td>\n",
              "      <td>KRIC</td>\n",
              "      <td>2020-11-12 17:54:00</td>\n",
              "      <td>54.0</td>\n",
              "      <td>54.0</td>\n",
              "      <td>93.0</td>\n",
              "      <td>29.80</td>\n",
              "      <td>10.0</td>\n",
              "      <td>N</td>\n",
              "      <td>10.0</td>\n",
              "      <td>0.0</td>\n",
              "      <td>Mostly Cloudy</td>\n",
              "      <td>False</td>\n",
              "      <td>False</td>\n",
              "      <td>False</td>\n",
              "      <td>False</td>\n",
              "      <td>False</td>\n",
              "      <td>False</td>\n",
              "      <td>False</td>\n",
              "      <td>False</td>\n",
              "      <td>False</td>\n",
              "      <td>False</td>\n",
              "      <td>False</td>\n",
              "      <td>False</td>\n",
              "      <td>False</td>\n",
              "      <td>Night</td>\n",
              "      <td>Night</td>\n",
              "      <td>Day</td>\n",
              "      <td>Day</td>\n",
              "    </tr>\n",
              "    <tr>\n",
              "      <th>1914301</th>\n",
              "      <td>A</td>\n",
              "      <td>NaN</td>\n",
              "      <td>NaN</td>\n",
              "      <td>NaN</td>\n",
              "      <td>NaN</td>\n",
              "      <td>NaN</td>\n",
              "      <td>NaN</td>\n",
              "      <td>NaN</td>\n",
              "      <td>NaN</td>\n",
              "      <td>NaN</td>\n",
              "      <td>NaN</td>\n",
              "      <td>NaN</td>\n",
              "      <td>NaN</td>\n",
              "      <td>NaN</td>\n",
              "      <td>NaN</td>\n",
              "      <td>NaN</td>\n",
              "      <td>NaN</td>\n",
              "      <td>NaN</td>\n",
              "      <td>NaN</td>\n",
              "      <td>NaN</td>\n",
              "      <td>NaN</td>\n",
              "      <td>NaN</td>\n",
              "      <td>NaN</td>\n",
              "      <td>NaN</td>\n",
              "      <td>NaN</td>\n",
              "      <td>NaN</td>\n",
              "      <td>NaN</td>\n",
              "      <td>NaN</td>\n",
              "      <td>NaN</td>\n",
              "      <td>NaN</td>\n",
              "      <td>NaN</td>\n",
              "      <td>NaN</td>\n",
              "      <td>NaN</td>\n",
              "      <td>NaN</td>\n",
              "      <td>NaN</td>\n",
              "      <td>NaN</td>\n",
              "      <td>NaN</td>\n",
              "      <td>NaN</td>\n",
              "      <td>NaN</td>\n",
              "      <td>NaN</td>\n",
              "      <td>NaN</td>\n",
              "      <td>NaN</td>\n",
              "      <td>NaN</td>\n",
              "      <td>NaN</td>\n",
              "      <td>NaN</td>\n",
              "      <td>NaN</td>\n",
              "      <td>NaN</td>\n",
              "    </tr>\n",
              "  </tbody>\n",
              "</table>\n",
              "<p>1914302 rows × 47 columns</p>\n",
              "</div>"
            ],
            "text/plain": [
              "                ID  Severity  ... Nautical_Twilight Astronomical_Twilight\n",
              "0              A-1       2.0  ...               Day                   Day\n",
              "1              A-2       2.0  ...               Day                   Day\n",
              "2              A-3       2.0  ...             Night                 Night\n",
              "3              A-4       2.0  ...               Day                   Day\n",
              "4              A-5       3.0  ...               Day                   Day\n",
              "...            ...       ...  ...               ...                   ...\n",
              "1914297  A-1914298       2.0  ...             Night                 Night\n",
              "1914298  A-1914299       2.0  ...               Day                   Day\n",
              "1914299  A-1914300       2.0  ...               Day                   Day\n",
              "1914300  A-1914301       2.0  ...               Day                   Day\n",
              "1914301          A       NaN  ...               NaN                   NaN\n",
              "\n",
              "[1914302 rows x 47 columns]"
            ]
          },
          "metadata": {
            "tags": []
          },
          "execution_count": 50
        }
      ]
    },
    {
      "cell_type": "code",
      "metadata": {
        "colab": {
          "base_uri": "https://localhost:8080/"
        },
        "id": "ZX4eOLS_n-ae",
        "outputId": "9526f88b-7c4c-46ff-81c5-5a5c1bafa44a"
      },
      "source": [
        "df.columns"
      ],
      "execution_count": null,
      "outputs": [
        {
          "output_type": "execute_result",
          "data": {
            "text/plain": [
              "Index(['ID', 'Severity', 'Start_Time', 'End_Time', 'Start_Lat', 'Start_Lng',\n",
              "       'End_Lat', 'End_Lng', 'Distance(mi)', 'Description', 'Number', 'Street',\n",
              "       'Side', 'City', 'County', 'State', 'Zipcode', 'Country', 'Timezone',\n",
              "       'Airport_Code', 'Weather_Timestamp', 'Temperature(F)', 'Wind_Chill(F)',\n",
              "       'Humidity(%)', 'Pressure(in)', 'Visibility(mi)', 'Wind_Direction',\n",
              "       'Wind_Speed(mph)', 'Precipitation(in)', 'Weather_Condition', 'Amenity',\n",
              "       'Bump', 'Crossing', 'Give_Way', 'Junction', 'No_Exit', 'Railway',\n",
              "       'Roundabout', 'Station', 'Stop', 'Traffic_Calming', 'Traffic_Signal',\n",
              "       'Turning_Loop', 'Sunrise_Sunset', 'Civil_Twilight', 'Nautical_Twilight',\n",
              "       'Astronomical_Twilight'],\n",
              "      dtype='object')"
            ]
          },
          "metadata": {
            "tags": []
          },
          "execution_count": 51
        }
      ]
    },
    {
      "cell_type": "code",
      "metadata": {
        "colab": {
          "base_uri": "https://localhost:8080/"
        },
        "id": "_8D0_QLSn4Kv",
        "outputId": "0bd16b65-c0bf-40e4-b9e2-06afd472301a"
      },
      "source": [
        "df.info()"
      ],
      "execution_count": null,
      "outputs": [
        {
          "output_type": "stream",
          "text": [
            "<class 'pandas.core.frame.DataFrame'>\n",
            "RangeIndex: 1914302 entries, 0 to 1914301\n",
            "Data columns (total 47 columns):\n",
            " #   Column                 Dtype  \n",
            "---  ------                 -----  \n",
            " 0   ID                     object \n",
            " 1   Severity               float64\n",
            " 2   Start_Time             object \n",
            " 3   End_Time               object \n",
            " 4   Start_Lat              float64\n",
            " 5   Start_Lng              float64\n",
            " 6   End_Lat                float64\n",
            " 7   End_Lng                float64\n",
            " 8   Distance(mi)           float64\n",
            " 9   Description            object \n",
            " 10  Number                 float64\n",
            " 11  Street                 object \n",
            " 12  Side                   object \n",
            " 13  City                   object \n",
            " 14  County                 object \n",
            " 15  State                  object \n",
            " 16  Zipcode                object \n",
            " 17  Country                object \n",
            " 18  Timezone               object \n",
            " 19  Airport_Code           object \n",
            " 20  Weather_Timestamp      object \n",
            " 21  Temperature(F)         float64\n",
            " 22  Wind_Chill(F)          float64\n",
            " 23  Humidity(%)            float64\n",
            " 24  Pressure(in)           float64\n",
            " 25  Visibility(mi)         float64\n",
            " 26  Wind_Direction         object \n",
            " 27  Wind_Speed(mph)        float64\n",
            " 28  Precipitation(in)      float64\n",
            " 29  Weather_Condition      object \n",
            " 30  Amenity                object \n",
            " 31  Bump                   object \n",
            " 32  Crossing               object \n",
            " 33  Give_Way               object \n",
            " 34  Junction               object \n",
            " 35  No_Exit                object \n",
            " 36  Railway                object \n",
            " 37  Roundabout             object \n",
            " 38  Station                object \n",
            " 39  Stop                   object \n",
            " 40  Traffic_Calming        object \n",
            " 41  Traffic_Signal         object \n",
            " 42  Turning_Loop           object \n",
            " 43  Sunrise_Sunset         object \n",
            " 44  Civil_Twilight         object \n",
            " 45  Nautical_Twilight      object \n",
            " 46  Astronomical_Twilight  object \n",
            "dtypes: float64(14), object(33)\n",
            "memory usage: 686.4+ MB\n"
          ],
          "name": "stdout"
        }
      ]
    },
    {
      "cell_type": "markdown",
      "metadata": {
        "id": "kGDzejhkzWvl"
      },
      "source": [
        "to get the descriptions of all those numerical columns"
      ]
    },
    {
      "cell_type": "code",
      "metadata": {
        "colab": {
          "base_uri": "https://localhost:8080/",
          "height": 315
        },
        "id": "ANO_NY8MzWA8",
        "outputId": "40eca703-2ec8-4b78-edb5-3e6a41ba6fe3"
      },
      "source": [
        "df.describe()"
      ],
      "execution_count": null,
      "outputs": [
        {
          "output_type": "execute_result",
          "data": {
            "text/html": [
              "<div>\n",
              "<style scoped>\n",
              "    .dataframe tbody tr th:only-of-type {\n",
              "        vertical-align: middle;\n",
              "    }\n",
              "\n",
              "    .dataframe tbody tr th {\n",
              "        vertical-align: top;\n",
              "    }\n",
              "\n",
              "    .dataframe thead th {\n",
              "        text-align: right;\n",
              "    }\n",
              "</style>\n",
              "<table border=\"1\" class=\"dataframe\">\n",
              "  <thead>\n",
              "    <tr style=\"text-align: right;\">\n",
              "      <th></th>\n",
              "      <th>Severity</th>\n",
              "      <th>Start_Lat</th>\n",
              "      <th>Start_Lng</th>\n",
              "      <th>End_Lat</th>\n",
              "      <th>End_Lng</th>\n",
              "      <th>Distance(mi)</th>\n",
              "      <th>Number</th>\n",
              "      <th>Temperature(F)</th>\n",
              "      <th>Wind_Chill(F)</th>\n",
              "      <th>Humidity(%)</th>\n",
              "      <th>Pressure(in)</th>\n",
              "      <th>Visibility(mi)</th>\n",
              "      <th>Wind_Speed(mph)</th>\n",
              "      <th>Precipitation(in)</th>\n",
              "    </tr>\n",
              "  </thead>\n",
              "  <tbody>\n",
              "    <tr>\n",
              "      <th>count</th>\n",
              "      <td>1.914301e+06</td>\n",
              "      <td>1.914301e+06</td>\n",
              "      <td>1.914301e+06</td>\n",
              "      <td>1.727695e+06</td>\n",
              "      <td>1.727695e+06</td>\n",
              "      <td>1.914301e+06</td>\n",
              "      <td>6.688900e+05</td>\n",
              "      <td>1.870092e+06</td>\n",
              "      <td>1.134931e+06</td>\n",
              "      <td>1.867405e+06</td>\n",
              "      <td>1.876852e+06</td>\n",
              "      <td>1.866857e+06</td>\n",
              "      <td>1.711957e+06</td>\n",
              "      <td>1.057830e+06</td>\n",
              "    </tr>\n",
              "    <tr>\n",
              "      <th>mean</th>\n",
              "      <td>2.288417e+00</td>\n",
              "      <td>3.652954e+01</td>\n",
              "      <td>-9.642782e+01</td>\n",
              "      <td>3.651601e+01</td>\n",
              "      <td>-9.620712e+01</td>\n",
              "      <td>3.983951e-01</td>\n",
              "      <td>6.778514e+03</td>\n",
              "      <td>6.098770e+01</td>\n",
              "      <td>5.501002e+01</td>\n",
              "      <td>6.539207e+01</td>\n",
              "      <td>2.965743e+01</td>\n",
              "      <td>9.115488e+00</td>\n",
              "      <td>7.817824e+00</td>\n",
              "      <td>1.125812e-02</td>\n",
              "    </tr>\n",
              "    <tr>\n",
              "      <th>std</th>\n",
              "      <td>5.538773e-01</td>\n",
              "      <td>5.015336e+00</td>\n",
              "      <td>1.775399e+01</td>\n",
              "      <td>5.017398e+00</td>\n",
              "      <td>1.765940e+01</td>\n",
              "      <td>1.591139e+00</td>\n",
              "      <td>1.829364e+04</td>\n",
              "      <td>1.844917e+01</td>\n",
              "      <td>2.220082e+01</td>\n",
              "      <td>2.288292e+01</td>\n",
              "      <td>9.081940e-01</td>\n",
              "      <td>2.839634e+00</td>\n",
              "      <td>5.465976e+00</td>\n",
              "      <td>1.570016e-01</td>\n",
              "    </tr>\n",
              "    <tr>\n",
              "      <th>min</th>\n",
              "      <td>1.000000e+00</td>\n",
              "      <td>2.455527e+01</td>\n",
              "      <td>-1.244976e+02</td>\n",
              "      <td>2.455527e+01</td>\n",
              "      <td>-1.244978e+02</td>\n",
              "      <td>0.000000e+00</td>\n",
              "      <td>0.000000e+00</td>\n",
              "      <td>-8.900000e+01</td>\n",
              "      <td>-8.900000e+01</td>\n",
              "      <td>1.000000e+00</td>\n",
              "      <td>0.000000e+00</td>\n",
              "      <td>0.000000e+00</td>\n",
              "      <td>0.000000e+00</td>\n",
              "      <td>0.000000e+00</td>\n",
              "    </tr>\n",
              "    <tr>\n",
              "      <th>25%</th>\n",
              "      <td>2.000000e+00</td>\n",
              "      <td>3.366287e+01</td>\n",
              "      <td>-1.178234e+02</td>\n",
              "      <td>3.364386e+01</td>\n",
              "      <td>-1.177038e+02</td>\n",
              "      <td>0.000000e+00</td>\n",
              "      <td>9.670000e+02</td>\n",
              "      <td>4.890000e+01</td>\n",
              "      <td>3.900000e+01</td>\n",
              "      <td>4.900000e+01</td>\n",
              "      <td>2.959000e+01</td>\n",
              "      <td>1.000000e+01</td>\n",
              "      <td>4.600000e+00</td>\n",
              "      <td>0.000000e+00</td>\n",
              "    </tr>\n",
              "    <tr>\n",
              "      <th>50%</th>\n",
              "      <td>2.000000e+00</td>\n",
              "      <td>3.609934e+01</td>\n",
              "      <td>-9.116592e+01</td>\n",
              "      <td>3.605813e+01</td>\n",
              "      <td>-9.105144e+01</td>\n",
              "      <td>0.000000e+00</td>\n",
              "      <td>3.094000e+03</td>\n",
              "      <td>6.300000e+01</td>\n",
              "      <td>5.800000e+01</td>\n",
              "      <td>6.800000e+01</td>\n",
              "      <td>2.992000e+01</td>\n",
              "      <td>1.000000e+01</td>\n",
              "      <td>7.000000e+00</td>\n",
              "      <td>0.000000e+00</td>\n",
              "    </tr>\n",
              "    <tr>\n",
              "      <th>75%</th>\n",
              "      <td>3.000000e+00</td>\n",
              "      <td>4.037268e+01</td>\n",
              "      <td>-8.085837e+01</td>\n",
              "      <td>4.032777e+01</td>\n",
              "      <td>-8.084725e+01</td>\n",
              "      <td>2.790000e-01</td>\n",
              "      <td>7.981000e+03</td>\n",
              "      <td>7.500000e+01</td>\n",
              "      <td>7.200000e+01</td>\n",
              "      <td>8.500000e+01</td>\n",
              "      <td>3.007000e+01</td>\n",
              "      <td>1.000000e+01</td>\n",
              "      <td>1.040000e+01</td>\n",
              "      <td>0.000000e+00</td>\n",
              "    </tr>\n",
              "    <tr>\n",
              "      <th>max</th>\n",
              "      <td>4.000000e+00</td>\n",
              "      <td>4.900220e+01</td>\n",
              "      <td>-6.711317e+01</td>\n",
              "      <td>4.900220e+01</td>\n",
              "      <td>-6.710924e+01</td>\n",
              "      <td>2.512200e+02</td>\n",
              "      <td>9.999997e+06</td>\n",
              "      <td>2.030000e+02</td>\n",
              "      <td>1.740000e+02</td>\n",
              "      <td>1.000000e+02</td>\n",
              "      <td>5.804000e+01</td>\n",
              "      <td>1.400000e+02</td>\n",
              "      <td>9.840000e+02</td>\n",
              "      <td>2.400000e+01</td>\n",
              "    </tr>\n",
              "  </tbody>\n",
              "</table>\n",
              "</div>"
            ],
            "text/plain": [
              "           Severity     Start_Lat  ...  Wind_Speed(mph)  Precipitation(in)\n",
              "count  1.914301e+06  1.914301e+06  ...     1.711957e+06       1.057830e+06\n",
              "mean   2.288417e+00  3.652954e+01  ...     7.817824e+00       1.125812e-02\n",
              "std    5.538773e-01  5.015336e+00  ...     5.465976e+00       1.570016e-01\n",
              "min    1.000000e+00  2.455527e+01  ...     0.000000e+00       0.000000e+00\n",
              "25%    2.000000e+00  3.366287e+01  ...     4.600000e+00       0.000000e+00\n",
              "50%    2.000000e+00  3.609934e+01  ...     7.000000e+00       0.000000e+00\n",
              "75%    3.000000e+00  4.037268e+01  ...     1.040000e+01       0.000000e+00\n",
              "max    4.000000e+00  4.900220e+01  ...     9.840000e+02       2.400000e+01\n",
              "\n",
              "[8 rows x 14 columns]"
            ]
          },
          "metadata": {
            "tags": []
          },
          "execution_count": 53
        }
      ]
    },
    {
      "cell_type": "markdown",
      "metadata": {
        "id": "ffcqTNre2hy_"
      },
      "source": [
        "to count number of numeric columns:\n"
      ]
    },
    {
      "cell_type": "code",
      "metadata": {
        "colab": {
          "base_uri": "https://localhost:8080/"
        },
        "id": "jJ7My6MDzV8S",
        "outputId": "286656bc-659c-4807-bfba-c58d3474c295"
      },
      "source": [
        "numerics = ['int16', 'int32', 'int64', 'float16', 'float32', 'float64']\n",
        "\n",
        "newdf = df.select_dtypes(include=numerics)\n",
        "len(newdf.columns)"
      ],
      "execution_count": null,
      "outputs": [
        {
          "output_type": "execute_result",
          "data": {
            "text/plain": [
              "14"
            ]
          },
          "metadata": {
            "tags": []
          },
          "execution_count": 54
        }
      ]
    },
    {
      "cell_type": "code",
      "metadata": {
        "colab": {
          "base_uri": "https://localhost:8080/",
          "height": 437
        },
        "id": "okIUqeVWFaTv",
        "outputId": "5e23ef26-38ff-45fe-e7b5-5b76810013f0"
      },
      "source": [
        "newdf #new dataframe with columns containing only numeric values."
      ],
      "execution_count": null,
      "outputs": [
        {
          "output_type": "execute_result",
          "data": {
            "text/html": [
              "<div>\n",
              "<style scoped>\n",
              "    .dataframe tbody tr th:only-of-type {\n",
              "        vertical-align: middle;\n",
              "    }\n",
              "\n",
              "    .dataframe tbody tr th {\n",
              "        vertical-align: top;\n",
              "    }\n",
              "\n",
              "    .dataframe thead th {\n",
              "        text-align: right;\n",
              "    }\n",
              "</style>\n",
              "<table border=\"1\" class=\"dataframe\">\n",
              "  <thead>\n",
              "    <tr style=\"text-align: right;\">\n",
              "      <th></th>\n",
              "      <th>Severity</th>\n",
              "      <th>Start_Lat</th>\n",
              "      <th>Start_Lng</th>\n",
              "      <th>End_Lat</th>\n",
              "      <th>End_Lng</th>\n",
              "      <th>Distance(mi)</th>\n",
              "      <th>Number</th>\n",
              "      <th>Temperature(F)</th>\n",
              "      <th>Wind_Chill(F)</th>\n",
              "      <th>Humidity(%)</th>\n",
              "      <th>Pressure(in)</th>\n",
              "      <th>Visibility(mi)</th>\n",
              "      <th>Wind_Speed(mph)</th>\n",
              "      <th>Precipitation(in)</th>\n",
              "    </tr>\n",
              "  </thead>\n",
              "  <tbody>\n",
              "    <tr>\n",
              "      <th>0</th>\n",
              "      <td>2.0</td>\n",
              "      <td>34.808868</td>\n",
              "      <td>-82.269157</td>\n",
              "      <td>34.808868</td>\n",
              "      <td>-82.269157</td>\n",
              "      <td>0.000</td>\n",
              "      <td>439.0</td>\n",
              "      <td>76.0</td>\n",
              "      <td>76.0</td>\n",
              "      <td>52.0</td>\n",
              "      <td>28.91</td>\n",
              "      <td>10.0</td>\n",
              "      <td>7.0</td>\n",
              "      <td>0.0</td>\n",
              "    </tr>\n",
              "    <tr>\n",
              "      <th>1</th>\n",
              "      <td>2.0</td>\n",
              "      <td>35.090080</td>\n",
              "      <td>-80.745560</td>\n",
              "      <td>35.090080</td>\n",
              "      <td>-80.745560</td>\n",
              "      <td>0.000</td>\n",
              "      <td>3299.0</td>\n",
              "      <td>76.0</td>\n",
              "      <td>76.0</td>\n",
              "      <td>62.0</td>\n",
              "      <td>29.30</td>\n",
              "      <td>10.0</td>\n",
              "      <td>3.0</td>\n",
              "      <td>0.0</td>\n",
              "    </tr>\n",
              "    <tr>\n",
              "      <th>2</th>\n",
              "      <td>2.0</td>\n",
              "      <td>37.145730</td>\n",
              "      <td>-121.985052</td>\n",
              "      <td>37.165850</td>\n",
              "      <td>-121.988062</td>\n",
              "      <td>1.400</td>\n",
              "      <td>NaN</td>\n",
              "      <td>51.0</td>\n",
              "      <td>51.0</td>\n",
              "      <td>80.0</td>\n",
              "      <td>30.17</td>\n",
              "      <td>10.0</td>\n",
              "      <td>6.0</td>\n",
              "      <td>0.0</td>\n",
              "    </tr>\n",
              "    <tr>\n",
              "      <th>3</th>\n",
              "      <td>2.0</td>\n",
              "      <td>39.110390</td>\n",
              "      <td>-119.773781</td>\n",
              "      <td>39.110390</td>\n",
              "      <td>-119.773781</td>\n",
              "      <td>0.000</td>\n",
              "      <td>NaN</td>\n",
              "      <td>53.6</td>\n",
              "      <td>NaN</td>\n",
              "      <td>16.0</td>\n",
              "      <td>30.16</td>\n",
              "      <td>10.0</td>\n",
              "      <td>4.6</td>\n",
              "      <td>NaN</td>\n",
              "    </tr>\n",
              "    <tr>\n",
              "      <th>4</th>\n",
              "      <td>3.0</td>\n",
              "      <td>26.102942</td>\n",
              "      <td>-80.265091</td>\n",
              "      <td>26.102942</td>\n",
              "      <td>-80.265091</td>\n",
              "      <td>0.000</td>\n",
              "      <td>NaN</td>\n",
              "      <td>84.2</td>\n",
              "      <td>NaN</td>\n",
              "      <td>84.0</td>\n",
              "      <td>29.92</td>\n",
              "      <td>10.0</td>\n",
              "      <td>13.8</td>\n",
              "      <td>NaN</td>\n",
              "    </tr>\n",
              "    <tr>\n",
              "      <th>...</th>\n",
              "      <td>...</td>\n",
              "      <td>...</td>\n",
              "      <td>...</td>\n",
              "      <td>...</td>\n",
              "      <td>...</td>\n",
              "      <td>...</td>\n",
              "      <td>...</td>\n",
              "      <td>...</td>\n",
              "      <td>...</td>\n",
              "      <td>...</td>\n",
              "      <td>...</td>\n",
              "      <td>...</td>\n",
              "      <td>...</td>\n",
              "      <td>...</td>\n",
              "    </tr>\n",
              "    <tr>\n",
              "      <th>1914297</th>\n",
              "      <td>2.0</td>\n",
              "      <td>38.950985</td>\n",
              "      <td>-77.349189</td>\n",
              "      <td>38.953105</td>\n",
              "      <td>-77.360149</td>\n",
              "      <td>0.607</td>\n",
              "      <td>NaN</td>\n",
              "      <td>43.0</td>\n",
              "      <td>43.0</td>\n",
              "      <td>76.0</td>\n",
              "      <td>29.98</td>\n",
              "      <td>10.0</td>\n",
              "      <td>0.0</td>\n",
              "      <td>0.0</td>\n",
              "    </tr>\n",
              "    <tr>\n",
              "      <th>1914298</th>\n",
              "      <td>2.0</td>\n",
              "      <td>41.066780</td>\n",
              "      <td>-111.969950</td>\n",
              "      <td>41.066780</td>\n",
              "      <td>-111.969950</td>\n",
              "      <td>0.000</td>\n",
              "      <td>NaN</td>\n",
              "      <td>37.0</td>\n",
              "      <td>37.0</td>\n",
              "      <td>59.0</td>\n",
              "      <td>25.54</td>\n",
              "      <td>10.0</td>\n",
              "      <td>0.0</td>\n",
              "      <td>0.0</td>\n",
              "    </tr>\n",
              "    <tr>\n",
              "      <th>1914299</th>\n",
              "      <td>2.0</td>\n",
              "      <td>34.227380</td>\n",
              "      <td>-118.410620</td>\n",
              "      <td>34.229260</td>\n",
              "      <td>-118.409840</td>\n",
              "      <td>0.137</td>\n",
              "      <td>NaN</td>\n",
              "      <td>75.0</td>\n",
              "      <td>NaN</td>\n",
              "      <td>50.0</td>\n",
              "      <td>29.98</td>\n",
              "      <td>9.0</td>\n",
              "      <td>6.9</td>\n",
              "      <td>NaN</td>\n",
              "    </tr>\n",
              "    <tr>\n",
              "      <th>1914300</th>\n",
              "      <td>2.0</td>\n",
              "      <td>37.601169</td>\n",
              "      <td>-77.419313</td>\n",
              "      <td>37.602609</td>\n",
              "      <td>-77.423563</td>\n",
              "      <td>0.253</td>\n",
              "      <td>198.0</td>\n",
              "      <td>54.0</td>\n",
              "      <td>54.0</td>\n",
              "      <td>93.0</td>\n",
              "      <td>29.80</td>\n",
              "      <td>10.0</td>\n",
              "      <td>10.0</td>\n",
              "      <td>0.0</td>\n",
              "    </tr>\n",
              "    <tr>\n",
              "      <th>1914301</th>\n",
              "      <td>NaN</td>\n",
              "      <td>NaN</td>\n",
              "      <td>NaN</td>\n",
              "      <td>NaN</td>\n",
              "      <td>NaN</td>\n",
              "      <td>NaN</td>\n",
              "      <td>NaN</td>\n",
              "      <td>NaN</td>\n",
              "      <td>NaN</td>\n",
              "      <td>NaN</td>\n",
              "      <td>NaN</td>\n",
              "      <td>NaN</td>\n",
              "      <td>NaN</td>\n",
              "      <td>NaN</td>\n",
              "    </tr>\n",
              "  </tbody>\n",
              "</table>\n",
              "<p>1914302 rows × 14 columns</p>\n",
              "</div>"
            ],
            "text/plain": [
              "         Severity  Start_Lat  ...  Wind_Speed(mph)  Precipitation(in)\n",
              "0             2.0  34.808868  ...              7.0                0.0\n",
              "1             2.0  35.090080  ...              3.0                0.0\n",
              "2             2.0  37.145730  ...              6.0                0.0\n",
              "3             2.0  39.110390  ...              4.6                NaN\n",
              "4             3.0  26.102942  ...             13.8                NaN\n",
              "...           ...        ...  ...              ...                ...\n",
              "1914297       2.0  38.950985  ...              0.0                0.0\n",
              "1914298       2.0  41.066780  ...              0.0                0.0\n",
              "1914299       2.0  34.227380  ...              6.9                NaN\n",
              "1914300       2.0  37.601169  ...             10.0                0.0\n",
              "1914301       NaN        NaN  ...              NaN                NaN\n",
              "\n",
              "[1914302 rows x 14 columns]"
            ]
          },
          "metadata": {
            "tags": []
          },
          "execution_count": 55
        }
      ]
    },
    {
      "cell_type": "markdown",
      "metadata": {
        "id": "dDb_VHMo9aJZ"
      },
      "source": [
        "Checking for missing values and incorrect data and cleaning the table"
      ]
    },
    {
      "cell_type": "code",
      "metadata": {
        "colab": {
          "base_uri": "https://localhost:8080/"
        },
        "id": "3iHBm8frzV5s",
        "outputId": "add8c794-c9c1-4f05-aee3-c0bc8f8189a5"
      },
      "source": [
        "#count of missing values per columns:\n",
        "df.isna().sum()"
      ],
      "execution_count": null,
      "outputs": [
        {
          "output_type": "execute_result",
          "data": {
            "text/plain": [
              "ID                             0\n",
              "Severity                       1\n",
              "Start_Time                     1\n",
              "End_Time                       1\n",
              "Start_Lat                      1\n",
              "Start_Lng                      1\n",
              "End_Lat                   186607\n",
              "End_Lng                   186607\n",
              "Distance(mi)                   1\n",
              "Description                    1\n",
              "Number                   1245412\n",
              "Street                         1\n",
              "Side                           1\n",
              "City                          77\n",
              "County                         1\n",
              "State                          1\n",
              "Zipcode                      721\n",
              "Country                        1\n",
              "Timezone                    2258\n",
              "Airport_Code                4304\n",
              "Weather_Timestamp          30847\n",
              "Temperature(F)             44210\n",
              "Wind_Chill(F)             779371\n",
              "Humidity(%)                46897\n",
              "Pressure(in)               37450\n",
              "Visibility(mi)             47445\n",
              "Wind_Direction             41687\n",
              "Wind_Speed(mph)           202345\n",
              "Precipitation(in)         856472\n",
              "Weather_Condition          47314\n",
              "Amenity                        1\n",
              "Bump                           1\n",
              "Crossing                       1\n",
              "Give_Way                       1\n",
              "Junction                       1\n",
              "No_Exit                        1\n",
              "Railway                        1\n",
              "Roundabout                     1\n",
              "Station                        1\n",
              "Stop                           1\n",
              "Traffic_Calming                1\n",
              "Traffic_Signal                 1\n",
              "Turning_Loop                   1\n",
              "Sunrise_Sunset                78\n",
              "Civil_Twilight                78\n",
              "Nautical_Twilight             78\n",
              "Astronomical_Twilight         78\n",
              "dtype: int64"
            ]
          },
          "metadata": {
            "tags": []
          },
          "execution_count": 56
        }
      ]
    },
    {
      "cell_type": "code",
      "metadata": {
        "colab": {
          "base_uri": "https://localhost:8080/",
          "height": 437
        },
        "id": "DwdJRzbGHPmk",
        "outputId": "8da6147f-0208-4d9e-b99a-344bbde60b04"
      },
      "source": [
        "df.isna() #OR pd.isnull(df) both are same"
      ],
      "execution_count": null,
      "outputs": [
        {
          "output_type": "execute_result",
          "data": {
            "text/html": [
              "<div>\n",
              "<style scoped>\n",
              "    .dataframe tbody tr th:only-of-type {\n",
              "        vertical-align: middle;\n",
              "    }\n",
              "\n",
              "    .dataframe tbody tr th {\n",
              "        vertical-align: top;\n",
              "    }\n",
              "\n",
              "    .dataframe thead th {\n",
              "        text-align: right;\n",
              "    }\n",
              "</style>\n",
              "<table border=\"1\" class=\"dataframe\">\n",
              "  <thead>\n",
              "    <tr style=\"text-align: right;\">\n",
              "      <th></th>\n",
              "      <th>ID</th>\n",
              "      <th>Severity</th>\n",
              "      <th>Start_Time</th>\n",
              "      <th>End_Time</th>\n",
              "      <th>Start_Lat</th>\n",
              "      <th>Start_Lng</th>\n",
              "      <th>End_Lat</th>\n",
              "      <th>End_Lng</th>\n",
              "      <th>Distance(mi)</th>\n",
              "      <th>Description</th>\n",
              "      <th>Number</th>\n",
              "      <th>Street</th>\n",
              "      <th>Side</th>\n",
              "      <th>City</th>\n",
              "      <th>County</th>\n",
              "      <th>State</th>\n",
              "      <th>Zipcode</th>\n",
              "      <th>Country</th>\n",
              "      <th>Timezone</th>\n",
              "      <th>Airport_Code</th>\n",
              "      <th>Weather_Timestamp</th>\n",
              "      <th>Temperature(F)</th>\n",
              "      <th>Wind_Chill(F)</th>\n",
              "      <th>Humidity(%)</th>\n",
              "      <th>Pressure(in)</th>\n",
              "      <th>Visibility(mi)</th>\n",
              "      <th>Wind_Direction</th>\n",
              "      <th>Wind_Speed(mph)</th>\n",
              "      <th>Precipitation(in)</th>\n",
              "      <th>Weather_Condition</th>\n",
              "      <th>Amenity</th>\n",
              "      <th>Bump</th>\n",
              "      <th>Crossing</th>\n",
              "      <th>Give_Way</th>\n",
              "      <th>Junction</th>\n",
              "      <th>No_Exit</th>\n",
              "      <th>Railway</th>\n",
              "      <th>Roundabout</th>\n",
              "      <th>Station</th>\n",
              "      <th>Stop</th>\n",
              "      <th>Traffic_Calming</th>\n",
              "      <th>Traffic_Signal</th>\n",
              "      <th>Turning_Loop</th>\n",
              "      <th>Sunrise_Sunset</th>\n",
              "      <th>Civil_Twilight</th>\n",
              "      <th>Nautical_Twilight</th>\n",
              "      <th>Astronomical_Twilight</th>\n",
              "    </tr>\n",
              "  </thead>\n",
              "  <tbody>\n",
              "    <tr>\n",
              "      <th>0</th>\n",
              "      <td>False</td>\n",
              "      <td>False</td>\n",
              "      <td>False</td>\n",
              "      <td>False</td>\n",
              "      <td>False</td>\n",
              "      <td>False</td>\n",
              "      <td>False</td>\n",
              "      <td>False</td>\n",
              "      <td>False</td>\n",
              "      <td>False</td>\n",
              "      <td>False</td>\n",
              "      <td>False</td>\n",
              "      <td>False</td>\n",
              "      <td>False</td>\n",
              "      <td>False</td>\n",
              "      <td>False</td>\n",
              "      <td>False</td>\n",
              "      <td>False</td>\n",
              "      <td>False</td>\n",
              "      <td>False</td>\n",
              "      <td>False</td>\n",
              "      <td>False</td>\n",
              "      <td>False</td>\n",
              "      <td>False</td>\n",
              "      <td>False</td>\n",
              "      <td>False</td>\n",
              "      <td>False</td>\n",
              "      <td>False</td>\n",
              "      <td>False</td>\n",
              "      <td>False</td>\n",
              "      <td>False</td>\n",
              "      <td>False</td>\n",
              "      <td>False</td>\n",
              "      <td>False</td>\n",
              "      <td>False</td>\n",
              "      <td>False</td>\n",
              "      <td>False</td>\n",
              "      <td>False</td>\n",
              "      <td>False</td>\n",
              "      <td>False</td>\n",
              "      <td>False</td>\n",
              "      <td>False</td>\n",
              "      <td>False</td>\n",
              "      <td>False</td>\n",
              "      <td>False</td>\n",
              "      <td>False</td>\n",
              "      <td>False</td>\n",
              "    </tr>\n",
              "    <tr>\n",
              "      <th>1</th>\n",
              "      <td>False</td>\n",
              "      <td>False</td>\n",
              "      <td>False</td>\n",
              "      <td>False</td>\n",
              "      <td>False</td>\n",
              "      <td>False</td>\n",
              "      <td>False</td>\n",
              "      <td>False</td>\n",
              "      <td>False</td>\n",
              "      <td>False</td>\n",
              "      <td>False</td>\n",
              "      <td>False</td>\n",
              "      <td>False</td>\n",
              "      <td>False</td>\n",
              "      <td>False</td>\n",
              "      <td>False</td>\n",
              "      <td>False</td>\n",
              "      <td>False</td>\n",
              "      <td>False</td>\n",
              "      <td>False</td>\n",
              "      <td>False</td>\n",
              "      <td>False</td>\n",
              "      <td>False</td>\n",
              "      <td>False</td>\n",
              "      <td>False</td>\n",
              "      <td>False</td>\n",
              "      <td>False</td>\n",
              "      <td>False</td>\n",
              "      <td>False</td>\n",
              "      <td>False</td>\n",
              "      <td>False</td>\n",
              "      <td>False</td>\n",
              "      <td>False</td>\n",
              "      <td>False</td>\n",
              "      <td>False</td>\n",
              "      <td>False</td>\n",
              "      <td>False</td>\n",
              "      <td>False</td>\n",
              "      <td>False</td>\n",
              "      <td>False</td>\n",
              "      <td>False</td>\n",
              "      <td>False</td>\n",
              "      <td>False</td>\n",
              "      <td>False</td>\n",
              "      <td>False</td>\n",
              "      <td>False</td>\n",
              "      <td>False</td>\n",
              "    </tr>\n",
              "    <tr>\n",
              "      <th>2</th>\n",
              "      <td>False</td>\n",
              "      <td>False</td>\n",
              "      <td>False</td>\n",
              "      <td>False</td>\n",
              "      <td>False</td>\n",
              "      <td>False</td>\n",
              "      <td>False</td>\n",
              "      <td>False</td>\n",
              "      <td>False</td>\n",
              "      <td>False</td>\n",
              "      <td>True</td>\n",
              "      <td>False</td>\n",
              "      <td>False</td>\n",
              "      <td>False</td>\n",
              "      <td>False</td>\n",
              "      <td>False</td>\n",
              "      <td>False</td>\n",
              "      <td>False</td>\n",
              "      <td>False</td>\n",
              "      <td>False</td>\n",
              "      <td>False</td>\n",
              "      <td>False</td>\n",
              "      <td>False</td>\n",
              "      <td>False</td>\n",
              "      <td>False</td>\n",
              "      <td>False</td>\n",
              "      <td>False</td>\n",
              "      <td>False</td>\n",
              "      <td>False</td>\n",
              "      <td>False</td>\n",
              "      <td>False</td>\n",
              "      <td>False</td>\n",
              "      <td>False</td>\n",
              "      <td>False</td>\n",
              "      <td>False</td>\n",
              "      <td>False</td>\n",
              "      <td>False</td>\n",
              "      <td>False</td>\n",
              "      <td>False</td>\n",
              "      <td>False</td>\n",
              "      <td>False</td>\n",
              "      <td>False</td>\n",
              "      <td>False</td>\n",
              "      <td>False</td>\n",
              "      <td>False</td>\n",
              "      <td>False</td>\n",
              "      <td>False</td>\n",
              "    </tr>\n",
              "    <tr>\n",
              "      <th>3</th>\n",
              "      <td>False</td>\n",
              "      <td>False</td>\n",
              "      <td>False</td>\n",
              "      <td>False</td>\n",
              "      <td>False</td>\n",
              "      <td>False</td>\n",
              "      <td>False</td>\n",
              "      <td>False</td>\n",
              "      <td>False</td>\n",
              "      <td>False</td>\n",
              "      <td>True</td>\n",
              "      <td>False</td>\n",
              "      <td>False</td>\n",
              "      <td>False</td>\n",
              "      <td>False</td>\n",
              "      <td>False</td>\n",
              "      <td>False</td>\n",
              "      <td>False</td>\n",
              "      <td>False</td>\n",
              "      <td>False</td>\n",
              "      <td>False</td>\n",
              "      <td>False</td>\n",
              "      <td>True</td>\n",
              "      <td>False</td>\n",
              "      <td>False</td>\n",
              "      <td>False</td>\n",
              "      <td>False</td>\n",
              "      <td>False</td>\n",
              "      <td>True</td>\n",
              "      <td>False</td>\n",
              "      <td>False</td>\n",
              "      <td>False</td>\n",
              "      <td>False</td>\n",
              "      <td>False</td>\n",
              "      <td>False</td>\n",
              "      <td>False</td>\n",
              "      <td>False</td>\n",
              "      <td>False</td>\n",
              "      <td>False</td>\n",
              "      <td>False</td>\n",
              "      <td>False</td>\n",
              "      <td>False</td>\n",
              "      <td>False</td>\n",
              "      <td>False</td>\n",
              "      <td>False</td>\n",
              "      <td>False</td>\n",
              "      <td>False</td>\n",
              "    </tr>\n",
              "    <tr>\n",
              "      <th>4</th>\n",
              "      <td>False</td>\n",
              "      <td>False</td>\n",
              "      <td>False</td>\n",
              "      <td>False</td>\n",
              "      <td>False</td>\n",
              "      <td>False</td>\n",
              "      <td>False</td>\n",
              "      <td>False</td>\n",
              "      <td>False</td>\n",
              "      <td>False</td>\n",
              "      <td>True</td>\n",
              "      <td>False</td>\n",
              "      <td>False</td>\n",
              "      <td>False</td>\n",
              "      <td>False</td>\n",
              "      <td>False</td>\n",
              "      <td>False</td>\n",
              "      <td>False</td>\n",
              "      <td>False</td>\n",
              "      <td>False</td>\n",
              "      <td>False</td>\n",
              "      <td>False</td>\n",
              "      <td>True</td>\n",
              "      <td>False</td>\n",
              "      <td>False</td>\n",
              "      <td>False</td>\n",
              "      <td>False</td>\n",
              "      <td>False</td>\n",
              "      <td>True</td>\n",
              "      <td>False</td>\n",
              "      <td>False</td>\n",
              "      <td>False</td>\n",
              "      <td>False</td>\n",
              "      <td>False</td>\n",
              "      <td>False</td>\n",
              "      <td>False</td>\n",
              "      <td>False</td>\n",
              "      <td>False</td>\n",
              "      <td>False</td>\n",
              "      <td>False</td>\n",
              "      <td>False</td>\n",
              "      <td>False</td>\n",
              "      <td>False</td>\n",
              "      <td>False</td>\n",
              "      <td>False</td>\n",
              "      <td>False</td>\n",
              "      <td>False</td>\n",
              "    </tr>\n",
              "    <tr>\n",
              "      <th>...</th>\n",
              "      <td>...</td>\n",
              "      <td>...</td>\n",
              "      <td>...</td>\n",
              "      <td>...</td>\n",
              "      <td>...</td>\n",
              "      <td>...</td>\n",
              "      <td>...</td>\n",
              "      <td>...</td>\n",
              "      <td>...</td>\n",
              "      <td>...</td>\n",
              "      <td>...</td>\n",
              "      <td>...</td>\n",
              "      <td>...</td>\n",
              "      <td>...</td>\n",
              "      <td>...</td>\n",
              "      <td>...</td>\n",
              "      <td>...</td>\n",
              "      <td>...</td>\n",
              "      <td>...</td>\n",
              "      <td>...</td>\n",
              "      <td>...</td>\n",
              "      <td>...</td>\n",
              "      <td>...</td>\n",
              "      <td>...</td>\n",
              "      <td>...</td>\n",
              "      <td>...</td>\n",
              "      <td>...</td>\n",
              "      <td>...</td>\n",
              "      <td>...</td>\n",
              "      <td>...</td>\n",
              "      <td>...</td>\n",
              "      <td>...</td>\n",
              "      <td>...</td>\n",
              "      <td>...</td>\n",
              "      <td>...</td>\n",
              "      <td>...</td>\n",
              "      <td>...</td>\n",
              "      <td>...</td>\n",
              "      <td>...</td>\n",
              "      <td>...</td>\n",
              "      <td>...</td>\n",
              "      <td>...</td>\n",
              "      <td>...</td>\n",
              "      <td>...</td>\n",
              "      <td>...</td>\n",
              "      <td>...</td>\n",
              "      <td>...</td>\n",
              "    </tr>\n",
              "    <tr>\n",
              "      <th>1914297</th>\n",
              "      <td>False</td>\n",
              "      <td>False</td>\n",
              "      <td>False</td>\n",
              "      <td>False</td>\n",
              "      <td>False</td>\n",
              "      <td>False</td>\n",
              "      <td>False</td>\n",
              "      <td>False</td>\n",
              "      <td>False</td>\n",
              "      <td>False</td>\n",
              "      <td>True</td>\n",
              "      <td>False</td>\n",
              "      <td>False</td>\n",
              "      <td>False</td>\n",
              "      <td>False</td>\n",
              "      <td>False</td>\n",
              "      <td>False</td>\n",
              "      <td>False</td>\n",
              "      <td>False</td>\n",
              "      <td>False</td>\n",
              "      <td>False</td>\n",
              "      <td>False</td>\n",
              "      <td>False</td>\n",
              "      <td>False</td>\n",
              "      <td>False</td>\n",
              "      <td>False</td>\n",
              "      <td>False</td>\n",
              "      <td>False</td>\n",
              "      <td>False</td>\n",
              "      <td>False</td>\n",
              "      <td>False</td>\n",
              "      <td>False</td>\n",
              "      <td>False</td>\n",
              "      <td>False</td>\n",
              "      <td>False</td>\n",
              "      <td>False</td>\n",
              "      <td>False</td>\n",
              "      <td>False</td>\n",
              "      <td>False</td>\n",
              "      <td>False</td>\n",
              "      <td>False</td>\n",
              "      <td>False</td>\n",
              "      <td>False</td>\n",
              "      <td>False</td>\n",
              "      <td>False</td>\n",
              "      <td>False</td>\n",
              "      <td>False</td>\n",
              "    </tr>\n",
              "    <tr>\n",
              "      <th>1914298</th>\n",
              "      <td>False</td>\n",
              "      <td>False</td>\n",
              "      <td>False</td>\n",
              "      <td>False</td>\n",
              "      <td>False</td>\n",
              "      <td>False</td>\n",
              "      <td>False</td>\n",
              "      <td>False</td>\n",
              "      <td>False</td>\n",
              "      <td>False</td>\n",
              "      <td>True</td>\n",
              "      <td>False</td>\n",
              "      <td>False</td>\n",
              "      <td>False</td>\n",
              "      <td>False</td>\n",
              "      <td>False</td>\n",
              "      <td>False</td>\n",
              "      <td>False</td>\n",
              "      <td>False</td>\n",
              "      <td>False</td>\n",
              "      <td>False</td>\n",
              "      <td>False</td>\n",
              "      <td>False</td>\n",
              "      <td>False</td>\n",
              "      <td>False</td>\n",
              "      <td>False</td>\n",
              "      <td>False</td>\n",
              "      <td>False</td>\n",
              "      <td>False</td>\n",
              "      <td>False</td>\n",
              "      <td>False</td>\n",
              "      <td>False</td>\n",
              "      <td>False</td>\n",
              "      <td>False</td>\n",
              "      <td>False</td>\n",
              "      <td>False</td>\n",
              "      <td>False</td>\n",
              "      <td>False</td>\n",
              "      <td>False</td>\n",
              "      <td>False</td>\n",
              "      <td>False</td>\n",
              "      <td>False</td>\n",
              "      <td>False</td>\n",
              "      <td>False</td>\n",
              "      <td>False</td>\n",
              "      <td>False</td>\n",
              "      <td>False</td>\n",
              "    </tr>\n",
              "    <tr>\n",
              "      <th>1914299</th>\n",
              "      <td>False</td>\n",
              "      <td>False</td>\n",
              "      <td>False</td>\n",
              "      <td>False</td>\n",
              "      <td>False</td>\n",
              "      <td>False</td>\n",
              "      <td>False</td>\n",
              "      <td>False</td>\n",
              "      <td>False</td>\n",
              "      <td>False</td>\n",
              "      <td>True</td>\n",
              "      <td>False</td>\n",
              "      <td>False</td>\n",
              "      <td>False</td>\n",
              "      <td>False</td>\n",
              "      <td>False</td>\n",
              "      <td>False</td>\n",
              "      <td>False</td>\n",
              "      <td>False</td>\n",
              "      <td>False</td>\n",
              "      <td>False</td>\n",
              "      <td>False</td>\n",
              "      <td>True</td>\n",
              "      <td>False</td>\n",
              "      <td>False</td>\n",
              "      <td>False</td>\n",
              "      <td>False</td>\n",
              "      <td>False</td>\n",
              "      <td>True</td>\n",
              "      <td>False</td>\n",
              "      <td>False</td>\n",
              "      <td>False</td>\n",
              "      <td>False</td>\n",
              "      <td>False</td>\n",
              "      <td>False</td>\n",
              "      <td>False</td>\n",
              "      <td>False</td>\n",
              "      <td>False</td>\n",
              "      <td>False</td>\n",
              "      <td>False</td>\n",
              "      <td>False</td>\n",
              "      <td>False</td>\n",
              "      <td>False</td>\n",
              "      <td>False</td>\n",
              "      <td>False</td>\n",
              "      <td>False</td>\n",
              "      <td>False</td>\n",
              "    </tr>\n",
              "    <tr>\n",
              "      <th>1914300</th>\n",
              "      <td>False</td>\n",
              "      <td>False</td>\n",
              "      <td>False</td>\n",
              "      <td>False</td>\n",
              "      <td>False</td>\n",
              "      <td>False</td>\n",
              "      <td>False</td>\n",
              "      <td>False</td>\n",
              "      <td>False</td>\n",
              "      <td>False</td>\n",
              "      <td>False</td>\n",
              "      <td>False</td>\n",
              "      <td>False</td>\n",
              "      <td>False</td>\n",
              "      <td>False</td>\n",
              "      <td>False</td>\n",
              "      <td>False</td>\n",
              "      <td>False</td>\n",
              "      <td>False</td>\n",
              "      <td>False</td>\n",
              "      <td>False</td>\n",
              "      <td>False</td>\n",
              "      <td>False</td>\n",
              "      <td>False</td>\n",
              "      <td>False</td>\n",
              "      <td>False</td>\n",
              "      <td>False</td>\n",
              "      <td>False</td>\n",
              "      <td>False</td>\n",
              "      <td>False</td>\n",
              "      <td>False</td>\n",
              "      <td>False</td>\n",
              "      <td>False</td>\n",
              "      <td>False</td>\n",
              "      <td>False</td>\n",
              "      <td>False</td>\n",
              "      <td>False</td>\n",
              "      <td>False</td>\n",
              "      <td>False</td>\n",
              "      <td>False</td>\n",
              "      <td>False</td>\n",
              "      <td>False</td>\n",
              "      <td>False</td>\n",
              "      <td>False</td>\n",
              "      <td>False</td>\n",
              "      <td>False</td>\n",
              "      <td>False</td>\n",
              "    </tr>\n",
              "    <tr>\n",
              "      <th>1914301</th>\n",
              "      <td>False</td>\n",
              "      <td>True</td>\n",
              "      <td>True</td>\n",
              "      <td>True</td>\n",
              "      <td>True</td>\n",
              "      <td>True</td>\n",
              "      <td>True</td>\n",
              "      <td>True</td>\n",
              "      <td>True</td>\n",
              "      <td>True</td>\n",
              "      <td>True</td>\n",
              "      <td>True</td>\n",
              "      <td>True</td>\n",
              "      <td>True</td>\n",
              "      <td>True</td>\n",
              "      <td>True</td>\n",
              "      <td>True</td>\n",
              "      <td>True</td>\n",
              "      <td>True</td>\n",
              "      <td>True</td>\n",
              "      <td>True</td>\n",
              "      <td>True</td>\n",
              "      <td>True</td>\n",
              "      <td>True</td>\n",
              "      <td>True</td>\n",
              "      <td>True</td>\n",
              "      <td>True</td>\n",
              "      <td>True</td>\n",
              "      <td>True</td>\n",
              "      <td>True</td>\n",
              "      <td>True</td>\n",
              "      <td>True</td>\n",
              "      <td>True</td>\n",
              "      <td>True</td>\n",
              "      <td>True</td>\n",
              "      <td>True</td>\n",
              "      <td>True</td>\n",
              "      <td>True</td>\n",
              "      <td>True</td>\n",
              "      <td>True</td>\n",
              "      <td>True</td>\n",
              "      <td>True</td>\n",
              "      <td>True</td>\n",
              "      <td>True</td>\n",
              "      <td>True</td>\n",
              "      <td>True</td>\n",
              "      <td>True</td>\n",
              "    </tr>\n",
              "  </tbody>\n",
              "</table>\n",
              "<p>1914302 rows × 47 columns</p>\n",
              "</div>"
            ],
            "text/plain": [
              "            ID  Severity  ...  Nautical_Twilight  Astronomical_Twilight\n",
              "0        False     False  ...              False                  False\n",
              "1        False     False  ...              False                  False\n",
              "2        False     False  ...              False                  False\n",
              "3        False     False  ...              False                  False\n",
              "4        False     False  ...              False                  False\n",
              "...        ...       ...  ...                ...                    ...\n",
              "1914297  False     False  ...              False                  False\n",
              "1914298  False     False  ...              False                  False\n",
              "1914299  False     False  ...              False                  False\n",
              "1914300  False     False  ...              False                  False\n",
              "1914301  False      True  ...               True                   True\n",
              "\n",
              "[1914302 rows x 47 columns]"
            ]
          },
          "metadata": {
            "tags": []
          },
          "execution_count": 57
        }
      ]
    },
    {
      "cell_type": "markdown",
      "metadata": {
        "id": "74e5AoqS-huv"
      },
      "source": [
        ""
      ]
    },
    {
      "cell_type": "code",
      "metadata": {
        "id": "Exz1tViXzV0e",
        "colab": {
          "base_uri": "https://localhost:8080/"
        },
        "outputId": "e88ea448-ca9f-4f0d-a2a2-ec08b1c98c1a"
      },
      "source": [
        "pd.isnull(df).sum()"
      ],
      "execution_count": null,
      "outputs": [
        {
          "output_type": "execute_result",
          "data": {
            "text/plain": [
              "ID                             0\n",
              "Severity                       1\n",
              "Start_Time                     1\n",
              "End_Time                       1\n",
              "Start_Lat                      1\n",
              "Start_Lng                      1\n",
              "End_Lat                   186607\n",
              "End_Lng                   186607\n",
              "Distance(mi)                   1\n",
              "Description                    1\n",
              "Number                   1245412\n",
              "Street                         1\n",
              "Side                           1\n",
              "City                          77\n",
              "County                         1\n",
              "State                          1\n",
              "Zipcode                      721\n",
              "Country                        1\n",
              "Timezone                    2258\n",
              "Airport_Code                4304\n",
              "Weather_Timestamp          30847\n",
              "Temperature(F)             44210\n",
              "Wind_Chill(F)             779371\n",
              "Humidity(%)                46897\n",
              "Pressure(in)               37450\n",
              "Visibility(mi)             47445\n",
              "Wind_Direction             41687\n",
              "Wind_Speed(mph)           202345\n",
              "Precipitation(in)         856472\n",
              "Weather_Condition          47314\n",
              "Amenity                        1\n",
              "Bump                           1\n",
              "Crossing                       1\n",
              "Give_Way                       1\n",
              "Junction                       1\n",
              "No_Exit                        1\n",
              "Railway                        1\n",
              "Roundabout                     1\n",
              "Station                        1\n",
              "Stop                           1\n",
              "Traffic_Calming                1\n",
              "Traffic_Signal                 1\n",
              "Turning_Loop                   1\n",
              "Sunrise_Sunset                78\n",
              "Civil_Twilight                78\n",
              "Nautical_Twilight             78\n",
              "Astronomical_Twilight         78\n",
              "dtype: int64"
            ]
          },
          "metadata": {
            "tags": []
          },
          "execution_count": 58
        }
      ]
    },
    {
      "cell_type": "markdown",
      "metadata": {
        "id": "ZQRs6OJDJ7Kj"
      },
      "source": [
        "##Percentage of missing values per column"
      ]
    },
    {
      "cell_type": "markdown",
      "metadata": {
        "id": "iE12AiqLK8qr"
      },
      "source": [
        "initially sorting all columns according to the missing values in descending order)"
      ]
    },
    {
      "cell_type": "code",
      "metadata": {
        "id": "6Q2Hi0HizVx0",
        "colab": {
          "base_uri": "https://localhost:8080/"
        },
        "outputId": "28f72e03-af61-48f9-9f08-a28faecb8ac0"
      },
      "source": [
        "pd.isnull(df).sum().sort_values(axis=0, ascending=False)"
      ],
      "execution_count": null,
      "outputs": [
        {
          "output_type": "execute_result",
          "data": {
            "text/plain": [
              "Number                   1245412\n",
              "Precipitation(in)         856472\n",
              "Wind_Chill(F)             779371\n",
              "Wind_Speed(mph)           202345\n",
              "End_Lat                   186607\n",
              "End_Lng                   186607\n",
              "Visibility(mi)             47445\n",
              "Weather_Condition          47314\n",
              "Humidity(%)                46897\n",
              "Temperature(F)             44210\n",
              "Wind_Direction             41687\n",
              "Pressure(in)               37450\n",
              "Weather_Timestamp          30847\n",
              "Airport_Code                4304\n",
              "Timezone                    2258\n",
              "Zipcode                      721\n",
              "Nautical_Twilight             78\n",
              "Astronomical_Twilight         78\n",
              "Civil_Twilight                78\n",
              "Sunrise_Sunset                78\n",
              "City                          77\n",
              "Amenity                        1\n",
              "Severity                       1\n",
              "Start_Time                     1\n",
              "End_Time                       1\n",
              "Start_Lat                      1\n",
              "Start_Lng                      1\n",
              "Distance(mi)                   1\n",
              "Description                    1\n",
              "Turning_Loop                   1\n",
              "Street                         1\n",
              "Side                           1\n",
              "County                         1\n",
              "Bump                           1\n",
              "State                          1\n",
              "Traffic_Signal                 1\n",
              "Country                        1\n",
              "Traffic_Calming                1\n",
              "Stop                           1\n",
              "Station                        1\n",
              "Roundabout                     1\n",
              "Railway                        1\n",
              "No_Exit                        1\n",
              "Junction                       1\n",
              "Give_Way                       1\n",
              "Crossing                       1\n",
              "ID                             0\n",
              "dtype: int64"
            ]
          },
          "metadata": {
            "tags": []
          },
          "execution_count": 59
        }
      ]
    },
    {
      "cell_type": "code",
      "metadata": {
        "id": "MwOB8im9zVui",
        "colab": {
          "base_uri": "https://localhost:8080/"
        },
        "outputId": "108b8871-47e4-4ebf-cb17-cba88d87ae46"
      },
      "source": [
        "#getting missing values in percentage\n",
        "missing_percentage=pd.isnull(df).sum().sort_values(axis=0, ascending=False) / len(df)\n",
        "missing_percentage"
      ],
      "execution_count": null,
      "outputs": [
        {
          "output_type": "execute_result",
          "data": {
            "text/plain": [
              "Number                   6.505828e-01\n",
              "Precipitation(in)        4.474069e-01\n",
              "Wind_Chill(F)            4.071306e-01\n",
              "Wind_Speed(mph)          1.057017e-01\n",
              "End_Lat                  9.748044e-02\n",
              "End_Lng                  9.748044e-02\n",
              "Visibility(mi)           2.478449e-02\n",
              "Weather_Condition        2.471606e-02\n",
              "Humidity(%)              2.449822e-02\n",
              "Temperature(F)           2.309458e-02\n",
              "Wind_Direction           2.177661e-02\n",
              "Pressure(in)             1.956327e-02\n",
              "Weather_Timestamp        1.611397e-02\n",
              "Airport_Code             2.248339e-03\n",
              "Timezone                 1.179542e-03\n",
              "Zipcode                  3.766386e-04\n",
              "Nautical_Twilight        4.074592e-05\n",
              "Astronomical_Twilight    4.074592e-05\n",
              "Civil_Twilight           4.074592e-05\n",
              "Sunrise_Sunset           4.074592e-05\n",
              "City                     4.022354e-05\n",
              "Amenity                  5.223836e-07\n",
              "Severity                 5.223836e-07\n",
              "Start_Time               5.223836e-07\n",
              "End_Time                 5.223836e-07\n",
              "Start_Lat                5.223836e-07\n",
              "Start_Lng                5.223836e-07\n",
              "Distance(mi)             5.223836e-07\n",
              "Description              5.223836e-07\n",
              "Turning_Loop             5.223836e-07\n",
              "Street                   5.223836e-07\n",
              "Side                     5.223836e-07\n",
              "County                   5.223836e-07\n",
              "Bump                     5.223836e-07\n",
              "State                    5.223836e-07\n",
              "Traffic_Signal           5.223836e-07\n",
              "Country                  5.223836e-07\n",
              "Traffic_Calming          5.223836e-07\n",
              "Stop                     5.223836e-07\n",
              "Station                  5.223836e-07\n",
              "Roundabout               5.223836e-07\n",
              "Railway                  5.223836e-07\n",
              "No_Exit                  5.223836e-07\n",
              "Junction                 5.223836e-07\n",
              "Give_Way                 5.223836e-07\n",
              "Crossing                 5.223836e-07\n",
              "ID                       0.000000e+00\n",
              "dtype: float64"
            ]
          },
          "metadata": {
            "tags": []
          },
          "execution_count": 60
        }
      ]
    },
    {
      "cell_type": "markdown",
      "metadata": {
        "id": "c3lL8xzxM04l"
      },
      "source": [
        "Lets plot the percentage missing values:"
      ]
    },
    {
      "cell_type": "code",
      "metadata": {
        "id": "u7QgdGDpzVkF",
        "colab": {
          "base_uri": "https://localhost:8080/",
          "height": 284
        },
        "outputId": "286f5fe8-1ee4-4806-f2d8-0325a0755a5c"
      },
      "source": [
        "missing_percentage.plot(kind = \"barh\")"
      ],
      "execution_count": null,
      "outputs": [
        {
          "output_type": "execute_result",
          "data": {
            "text/plain": [
              "<matplotlib.axes._subplots.AxesSubplot at 0x7f557d01aa50>"
            ]
          },
          "metadata": {
            "tags": []
          },
          "execution_count": 61
        },
        {
          "output_type": "display_data",
          "data": {
            "image/png": "[encoded data removed]",
            "text/plain": [
              "<Figure size 432x288 with 1 Axes>"
            ]
          },
          "metadata": {
            "tags": [],
            "needs_background": "light"
          }
        }
      ]
    },
    {
      "cell_type": "markdown",
      "metadata": {
        "id": "2G8PW18mNfka"
      },
      "source": [
        "since its not understandable because it also contains those index values that are = 0,we need to filter our series containing only missing percentages values"
      ]
    },
    {
      "cell_type": "code",
      "metadata": {
        "colab": {
          "base_uri": "https://localhost:8080/"
        },
        "id": "VniIW6-aNvsC",
        "outputId": "f0917a2a-8051-4b83-adb3-db039da1d1b6"
      },
      "source": [
        "missing_percentage[missing_percentage > 0]"
      ],
      "execution_count": null,
      "outputs": [
        {
          "output_type": "execute_result",
          "data": {
            "text/plain": [
              "Number                   6.505828e-01\n",
              "Precipitation(in)        4.474069e-01\n",
              "Wind_Chill(F)            4.071306e-01\n",
              "Wind_Speed(mph)          1.057017e-01\n",
              "End_Lat                  9.748044e-02\n",
              "End_Lng                  9.748044e-02\n",
              "Visibility(mi)           2.478449e-02\n",
              "Weather_Condition        2.471606e-02\n",
              "Humidity(%)              2.449822e-02\n",
              "Temperature(F)           2.309458e-02\n",
              "Wind_Direction           2.177661e-02\n",
              "Pressure(in)             1.956327e-02\n",
              "Weather_Timestamp        1.611397e-02\n",
              "Airport_Code             2.248339e-03\n",
              "Timezone                 1.179542e-03\n",
              "Zipcode                  3.766386e-04\n",
              "Nautical_Twilight        4.074592e-05\n",
              "Astronomical_Twilight    4.074592e-05\n",
              "Civil_Twilight           4.074592e-05\n",
              "Sunrise_Sunset           4.074592e-05\n",
              "City                     4.022354e-05\n",
              "Amenity                  5.223836e-07\n",
              "Severity                 5.223836e-07\n",
              "Start_Time               5.223836e-07\n",
              "End_Time                 5.223836e-07\n",
              "Start_Lat                5.223836e-07\n",
              "Start_Lng                5.223836e-07\n",
              "Distance(mi)             5.223836e-07\n",
              "Description              5.223836e-07\n",
              "Turning_Loop             5.223836e-07\n",
              "Street                   5.223836e-07\n",
              "Side                     5.223836e-07\n",
              "County                   5.223836e-07\n",
              "Bump                     5.223836e-07\n",
              "State                    5.223836e-07\n",
              "Traffic_Signal           5.223836e-07\n",
              "Country                  5.223836e-07\n",
              "Traffic_Calming          5.223836e-07\n",
              "Stop                     5.223836e-07\n",
              "Station                  5.223836e-07\n",
              "Roundabout               5.223836e-07\n",
              "Railway                  5.223836e-07\n",
              "No_Exit                  5.223836e-07\n",
              "Junction                 5.223836e-07\n",
              "Give_Way                 5.223836e-07\n",
              "Crossing                 5.223836e-07\n",
              "dtype: float64"
            ]
          },
          "metadata": {
            "tags": []
          },
          "execution_count": 62
        }
      ]
    },
    {
      "cell_type": "code",
      "metadata": {
        "colab": {
          "base_uri": "https://localhost:8080/",
          "height": 284
        },
        "id": "5UixMBDINvp0",
        "outputId": "3aa776b1-91db-42e6-ba5c-a5baad9eb9e0"
      },
      "source": [
        "missing_percentage[missing_percentage > 0].plot(kind='barh')"
      ],
      "execution_count": null,
      "outputs": [
        {
          "output_type": "execute_result",
          "data": {
            "text/plain": [
              "<matplotlib.axes._subplots.AxesSubplot at 0x7f555989fcd0>"
            ]
          },
          "metadata": {
            "tags": []
          },
          "execution_count": 63
        },
        {
          "output_type": "display_data",
          "data": {
            "image/png": "[encoded data removed]",
            "text/plain": [
              "<Figure size 432x288 with 1 Axes>"
            ]
          },
          "metadata": {
            "tags": [],
            "needs_background": "light"
          }
        }
      ]
    },
    {
      "cell_type": "markdown",
      "metadata": {
        "id": "AIJqjo3ujuQT"
      },
      "source": [
        "very high percentage of missing values can be skipped since those are not valuable enough for accidents\n",
        "either dont consider those highly missing values columns or you can drop those unuseful columns\n",
        "\n",
        "we will consider only those columns having no null values or least null values"
      ]
    },
    {
      "cell_type": "code",
      "metadata": {
        "id": "lt-n6a3pNvm9"
      },
      "source": [
        ""
      ],
      "execution_count": null,
      "outputs": []
    },
    {
      "cell_type": "code",
      "metadata": {
        "id": "IAtB3n4ONvkW"
      },
      "source": [
        ""
      ],
      "execution_count": null,
      "outputs": []
    },
    {
      "cell_type": "code",
      "metadata": {
        "id": "oLQyl3KnNvZr"
      },
      "source": [
        ""
      ],
      "execution_count": null,
      "outputs": []
    },
    {
      "cell_type": "markdown",
      "metadata": {
        "id": "dhCaPuJ6n_tx"
      },
      "source": [
        "##Exploratory Analysis and Visualisation"
      ]
    },
    {
      "cell_type": "markdown",
      "metadata": {
        "id": "ebNizOERlMvx"
      },
      "source": [
        "looking and analysing some of the columns using graphs"
      ]
    },
    {
      "cell_type": "markdown",
      "metadata": {
        "id": "8DSpKOpaluSC"
      },
      "source": [
        "Columns we'll analyse:\n",
        "\n",
        "\n",
        "1.   City\n",
        "2.   Start Time\n",
        "3.   Start Lat, start Lng\n",
        "4.   Temperature\n",
        "5.  Weather Condition\n",
        "\n",
        "\n",
        "\n"
      ]
    },
    {
      "cell_type": "code",
      "metadata": {
        "colab": {
          "base_uri": "https://localhost:8080/"
        },
        "id": "j7GBnvYDk3w1",
        "outputId": "66ecec23-30c4-434a-c8ec-4d653828bbfc"
      },
      "source": [
        "df.columns"
      ],
      "execution_count": null,
      "outputs": [
        {
          "output_type": "execute_result",
          "data": {
            "text/plain": [
              "Index(['ID', 'Severity', 'Start_Time', 'End_Time', 'Start_Lat', 'Start_Lng',\n",
              "       'End_Lat', 'End_Lng', 'Distance(mi)', 'Description', 'Number', 'Street',\n",
              "       'Side', 'City', 'County', 'State', 'Zipcode', 'Country', 'Timezone',\n",
              "       'Airport_Code', 'Weather_Timestamp', 'Temperature(F)', 'Wind_Chill(F)',\n",
              "       'Humidity(%)', 'Pressure(in)', 'Visibility(mi)', 'Wind_Direction',\n",
              "       'Wind_Speed(mph)', 'Precipitation(in)', 'Weather_Condition', 'Amenity',\n",
              "       'Bump', 'Crossing', 'Give_Way', 'Junction', 'No_Exit', 'Railway',\n",
              "       'Roundabout', 'Station', 'Stop', 'Traffic_Calming', 'Traffic_Signal',\n",
              "       'Turning_Loop', 'Sunrise_Sunset', 'Civil_Twilight', 'Nautical_Twilight',\n",
              "       'Astronomical_Twilight'],\n",
              "      dtype='object')"
            ]
          },
          "metadata": {
            "tags": []
          },
          "execution_count": 64
        }
      ]
    },
    {
      "cell_type": "code",
      "metadata": {
        "id": "VqFs7tC7n4Ey",
        "colab": {
          "base_uri": "https://localhost:8080/"
        },
        "outputId": "46435702-18e6-4a5a-a6a6-f79c0db0f13d"
      },
      "source": [
        "df.City"
      ],
      "execution_count": null,
      "outputs": [
        {
          "output_type": "execute_result",
          "data": {
            "text/plain": [
              "0               Greenville\n",
              "1                Charlotte\n",
              "2                Los Gatos\n",
              "3              Carson City\n",
              "4          Fort Lauderdale\n",
              "                ...       \n",
              "1914297             Reston\n",
              "1914298             Layton\n",
              "1914299         Sun Valley\n",
              "1914300           Richmond\n",
              "1914301                NaN\n",
              "Name: City, Length: 1914302, dtype: object"
            ]
          },
          "metadata": {
            "tags": []
          },
          "execution_count": 65
        }
      ]
    },
    {
      "cell_type": "code",
      "metadata": {
        "id": "pDHVJaQuoKZg",
        "colab": {
          "base_uri": "https://localhost:8080/"
        },
        "outputId": "a824c1f5-d073-40b1-eaa3-361a46212b9d"
      },
      "source": [
        "cities=df.City.unique()\n",
        "len(df.City.unique())"
      ],
      "execution_count": null,
      "outputs": [
        {
          "output_type": "execute_result",
          "data": {
            "text/plain": [
              "11179"
            ]
          },
          "metadata": {
            "tags": []
          },
          "execution_count": 66
        }
      ]
    },
    {
      "cell_type": "markdown",
      "metadata": {
        "id": "8fr0RDw0uUB3"
      },
      "source": [
        "since we cant analyze each and every accidents ina city,so we cant count number of cities by accidents,since each row represents accidents,so we will sum up all accidents for each cities individually."
      ]
    },
    {
      "cell_type": "code",
      "metadata": {
        "id": "5h2DTLTGoKWW",
        "colab": {
          "base_uri": "https://localhost:8080/"
        },
        "outputId": "2f4dcb1d-4690-4f01-d4b7-eb29c901b23f"
      },
      "source": [
        "cities_by_accidents = df.City.value_counts()\n",
        "cities_by_accidents"
      ],
      "execution_count": null,
      "outputs": [
        {
          "output_type": "execute_result",
          "data": {
            "text/plain": [
              "Los Angeles      45220\n",
              "Houston          44856\n",
              "Charlotte        37101\n",
              "Miami            32888\n",
              "Dallas           31884\n",
              "                 ...  \n",
              "Elm Grove            1\n",
              "Normandy Park        1\n",
              "Tacna                1\n",
              "Ivoryton             1\n",
              "Rich Hill            1\n",
              "Name: City, Length: 11178, dtype: int64"
            ]
          },
          "metadata": {
            "tags": []
          },
          "execution_count": 67
        }
      ]
    },
    {
      "cell_type": "code",
      "metadata": {
        "id": "pqZKSjexoKTi",
        "colab": {
          "base_uri": "https://localhost:8080/"
        },
        "outputId": "6a2f2106-6696-47e2-a220-923ec76bbd09"
      },
      "source": [
        "cities_by_accidents[:10]"
      ],
      "execution_count": null,
      "outputs": [
        {
          "output_type": "execute_result",
          "data": {
            "text/plain": [
              "Los Angeles    45220\n",
              "Houston        44856\n",
              "Charlotte      37101\n",
              "Miami          32888\n",
              "Dallas         31884\n",
              "Austin         25521\n",
              "Raleigh        20672\n",
              "Atlanta        19283\n",
              "Sacramento     19099\n",
              "Orlando        18443\n",
              "Name: City, dtype: int64"
            ]
          },
          "metadata": {
            "tags": []
          },
          "execution_count": 68
        }
      ]
    },
    {
      "cell_type": "markdown",
      "metadata": {
        "id": "RMxWS5RZzLDT"
      },
      "source": [
        "since new york is highest populated city but its not showing as in accidents in above\n",
        "so,lets check if new york is present in our Dataframe or not."
      ]
    },
    {
      "cell_type": "code",
      "metadata": {
        "id": "E1GqsEOBoKQe",
        "colab": {
          "base_uri": "https://localhost:8080/"
        },
        "outputId": "c46d5e5a-d58b-4338-90e7-a2c7655d003c"
      },
      "source": [
        "\"City\" in df[\"City\"]"
      ],
      "execution_count": null,
      "outputs": [
        {
          "output_type": "execute_result",
          "data": {
            "text/plain": [
              "False"
            ]
          },
          "metadata": {
            "tags": []
          },
          "execution_count": 69
        }
      ]
    },
    {
      "cell_type": "code",
      "metadata": {
        "id": "ucIhRNiXoKNg",
        "colab": {
          "base_uri": "https://localhost:8080/"
        },
        "outputId": "cf4ae490-e9fb-4b53-fb9c-eb2b34288eea"
      },
      "source": [
        "\"Los Angeles\" in df[\"City\"]"
      ],
      "execution_count": null,
      "outputs": [
        {
          "output_type": "execute_result",
          "data": {
            "text/plain": [
              "False"
            ]
          },
          "metadata": {
            "tags": []
          },
          "execution_count": 70
        }
      ]
    },
    {
      "cell_type": "code",
      "metadata": {
        "colab": {
          "base_uri": "https://localhost:8080/"
        },
        "id": "KCc_G03E0E4-",
        "outputId": "c4d5a1d6-1a5f-490c-ee30-ed34b1f074e1"
      },
      "source": [
        "\"City\" in df.City"
      ],
      "execution_count": null,
      "outputs": [
        {
          "output_type": "execute_result",
          "data": {
            "text/plain": [
              "False"
            ]
          },
          "metadata": {
            "tags": []
          },
          "execution_count": 71
        }
      ]
    },
    {
      "cell_type": "code",
      "metadata": {
        "colab": {
          "base_uri": "https://localhost:8080/"
        },
        "id": "FkhesFLj0E12",
        "outputId": "6f1e5f3f-96f9-4035-89c4-49ad0647c8e0"
      },
      "source": [
        "df.City"
      ],
      "execution_count": null,
      "outputs": [
        {
          "output_type": "execute_result",
          "data": {
            "text/plain": [
              "0               Greenville\n",
              "1                Charlotte\n",
              "2                Los Gatos\n",
              "3              Carson City\n",
              "4          Fort Lauderdale\n",
              "                ...       \n",
              "1914297             Reston\n",
              "1914298             Layton\n",
              "1914299         Sun Valley\n",
              "1914300           Richmond\n",
              "1914301                NaN\n",
              "Name: City, Length: 1914302, dtype: object"
            ]
          },
          "metadata": {
            "tags": []
          },
          "execution_count": 72
        }
      ]
    },
    {
      "cell_type": "code",
      "metadata": {
        "colab": {
          "base_uri": "https://localhost:8080/"
        },
        "id": "g-cpoa9m0EzT",
        "outputId": "7134b75f-abd1-4b80-8e3e-69af45217112"
      },
      "source": [
        "\"New York\" in df.City.values"
      ],
      "execution_count": null,
      "outputs": [
        {
          "output_type": "execute_result",
          "data": {
            "text/plain": [
              "True"
            ]
          },
          "metadata": {
            "tags": []
          },
          "execution_count": 73
        }
      ]
    },
    {
      "cell_type": "code",
      "metadata": {
        "id": "-WcHJzcR0Etz",
        "colab": {
          "base_uri": "https://localhost:8080/",
          "height": 282
        },
        "outputId": "0a7123a3-2517-45d5-c1ca-89b47e82ce1e"
      },
      "source": [
        "cities_by_accidents[:20].plot(kind=\"barh\")"
      ],
      "execution_count": null,
      "outputs": [
        {
          "output_type": "execute_result",
          "data": {
            "text/plain": [
              "<matplotlib.axes._subplots.AxesSubplot at 0x7f55934173d0>"
            ]
          },
          "metadata": {
            "tags": []
          },
          "execution_count": 74
        },
        {
          "output_type": "display_data",
          "data": {
            "image/png": "[encoded data removed]",
            "text/plain": [
              "<Figure size 432x288 with 1 Axes>"
            ]
          },
          "metadata": {
            "tags": [],
            "needs_background": "light"
          }
        }
      ]
    },
    {
      "cell_type": "markdown",
      "metadata": {
        "id": "2nKoXYdQNurh"
      },
      "source": [
        ""
      ]
    },
    {
      "cell_type": "code",
      "metadata": {
        "id": "t6kZAG310Eqk"
      },
      "source": [
        "high_accidents_cities= cities_by_accidents[cities_by_accidents >=1000]\n",
        "low_accidents_cities= cities_by_accidents[cities_by_accidents <1000]"
      ],
      "execution_count": null,
      "outputs": []
    },
    {
      "cell_type": "code",
      "metadata": {
        "id": "eJ3woK4E0En7",
        "colab": {
          "base_uri": "https://localhost:8080/"
        },
        "outputId": "c41aed24-d23c-4d75-c297-e570b8156d2c"
      },
      "source": [
        "len(high_accidents_cities)"
      ],
      "execution_count": null,
      "outputs": [
        {
          "output_type": "execute_result",
          "data": {
            "text/plain": [
              "293"
            ]
          },
          "metadata": {
            "tags": []
          },
          "execution_count": 76
        }
      ]
    },
    {
      "cell_type": "code",
      "metadata": {
        "colab": {
          "base_uri": "https://localhost:8080/"
        },
        "id": "2KfNB8wMchSb",
        "outputId": "f2062c60-97fd-4bd7-ee2f-939211c3eb05"
      },
      "source": [
        "df.City.count()"
      ],
      "execution_count": null,
      "outputs": [
        {
          "output_type": "execute_result",
          "data": {
            "text/plain": [
              "1914225"
            ]
          },
          "metadata": {
            "tags": []
          },
          "execution_count": 77
        }
      ]
    },
    {
      "cell_type": "code",
      "metadata": {
        "colab": {
          "base_uri": "https://localhost:8080/"
        },
        "id": "VDLUGhs6chPw",
        "outputId": "2d657332-40d5-42ac-b9f8-cb8296192864"
      },
      "source": [
        "len(high_accidents_cities) / len(cities)\n",
        "#% of high accident cities"
      ],
      "execution_count": null,
      "outputs": [
        {
          "output_type": "execute_result",
          "data": {
            "text/plain": [
              "0.02620985776903122"
            ]
          },
          "metadata": {
            "tags": []
          },
          "execution_count": 78
        }
      ]
    },
    {
      "cell_type": "markdown",
      "metadata": {
        "id": "lLOXfE9Ldo1P"
      },
      "source": [
        "#Visualisation"
      ]
    },
    {
      "cell_type": "code",
      "metadata": {
        "colab": {
          "base_uri": "https://localhost:8080/",
          "height": 386
        },
        "id": "mNPiA79pchMx",
        "outputId": "d9d8e1de-af67-48d0-f8e3-aadbfbca1a40"
      },
      "source": [
        "import seaborn as sns\n",
        "sns.displot(high_accidents_cities)"
      ],
      "execution_count": null,
      "outputs": [
        {
          "output_type": "execute_result",
          "data": {
            "text/plain": [
              "<seaborn.axisgrid.FacetGrid at 0x7f55596356d0>"
            ]
          },
          "metadata": {
            "tags": []
          },
          "execution_count": 79
        },
        {
          "output_type": "display_data",
          "data": {
            "image/png": "[encoded data removed]",
            "text/plain": [
              "<Figure size 360x360 with 1 Axes>"
            ]
          },
          "metadata": {
            "tags": [],
            "needs_background": "light"
          }
        }
      ]
    },
    {
      "cell_type": "code",
      "metadata": {
        "colab": {
          "base_uri": "https://localhost:8080/",
          "height": 386
        },
        "id": "D7lv8em0chKN",
        "outputId": "7323b19c-9d28-4418-8efd-4f7d4a4f6bea"
      },
      "source": [
        "sns.displot(low_accidents_cities)"
      ],
      "execution_count": null,
      "outputs": [
        {
          "output_type": "execute_result",
          "data": {
            "text/plain": [
              "<seaborn.axisgrid.FacetGrid at 0x7f55aa909750>"
            ]
          },
          "metadata": {
            "tags": []
          },
          "execution_count": 80
        },
        {
          "output_type": "display_data",
          "data": {
            "image/png": "[encoded data removed]",
            "text/plain": [
              "<Figure size 360x360 with 1 Axes>"
            ]
          },
          "metadata": {
            "tags": [],
            "needs_background": "light"
          }
        }
      ]
    },
    {
      "cell_type": "code",
      "metadata": {
        "colab": {
          "base_uri": "https://localhost:8080/"
        },
        "id": "lGAFOtu4chHT",
        "outputId": "3cc3c766-0a3f-46fa-9183-438ffd343674"
      },
      "source": [
        "cities_by_accidents[cities_by_accidents == 1]"
      ],
      "execution_count": null,
      "outputs": [
        {
          "output_type": "execute_result",
          "data": {
            "text/plain": [
              "Morris Run       1\n",
              "Falkner          1\n",
              "Hawesville       1\n",
              "Branscomb        1\n",
              "Gotebo           1\n",
              "                ..\n",
              "Elm Grove        1\n",
              "Normandy Park    1\n",
              "Tacna            1\n",
              "Ivoryton         1\n",
              "Rich Hill        1\n",
              "Name: City, Length: 1489, dtype: int64"
            ]
          },
          "metadata": {
            "tags": []
          },
          "execution_count": 81
        }
      ]
    },
    {
      "cell_type": "markdown",
      "metadata": {
        "id": "rDP8GW5Xq696"
      },
      "source": [
        "#OR"
      ]
    },
    {
      "cell_type": "code",
      "metadata": {
        "colab": {
          "base_uri": "https://localhost:8080/"
        },
        "id": "4y2d4I_VchE4",
        "outputId": "2037bde0-1b2b-4c7a-bb5c-9a9383d45fee"
      },
      "source": [
        "low_accidents_cities[low_accidents_cities ==1]"
      ],
      "execution_count": null,
      "outputs": [
        {
          "output_type": "execute_result",
          "data": {
            "text/plain": [
              "Morris Run       1\n",
              "Falkner          1\n",
              "Hawesville       1\n",
              "Branscomb        1\n",
              "Gotebo           1\n",
              "                ..\n",
              "Elm Grove        1\n",
              "Normandy Park    1\n",
              "Tacna            1\n",
              "Ivoryton         1\n",
              "Rich Hill        1\n",
              "Name: City, Length: 1489, dtype: int64"
            ]
          },
          "metadata": {
            "tags": []
          },
          "execution_count": 82
        }
      ]
    },
    {
      "cell_type": "code",
      "metadata": {
        "colab": {
          "base_uri": "https://localhost:8080/"
        },
        "id": "s8OJwXBmchBg",
        "outputId": "1720c734-9fa1-4f10-8c08-6c2ee02bd190"
      },
      "source": [
        "len(low_accidents_cities)"
      ],
      "execution_count": null,
      "outputs": [
        {
          "output_type": "execute_result",
          "data": {
            "text/plain": [
              "10885"
            ]
          },
          "metadata": {
            "tags": []
          },
          "execution_count": 83
        }
      ]
    },
    {
      "cell_type": "code",
      "metadata": {
        "colab": {
          "base_uri": "https://localhost:8080/"
        },
        "id": "CMuYVubxpLki",
        "outputId": "9e50efef-9fb1-480f-a1f4-37d58d1a4081"
      },
      "source": [
        "low_accidents_cities"
      ],
      "execution_count": null,
      "outputs": [
        {
          "output_type": "execute_result",
          "data": {
            "text/plain": [
              "San Pablo        998\n",
              "Milpitas         998\n",
              "Paramount        995\n",
              "Fullerton        994\n",
              "Spokane          989\n",
              "                ... \n",
              "Elm Grove          1\n",
              "Normandy Park      1\n",
              "Tacna              1\n",
              "Ivoryton           1\n",
              "Rich Hill          1\n",
              "Name: City, Length: 10885, dtype: int64"
            ]
          },
          "metadata": {
            "tags": []
          },
          "execution_count": 84
        }
      ]
    },
    {
      "cell_type": "code",
      "metadata": {
        "colab": {
          "base_uri": "https://localhost:8080/"
        },
        "id": "Ikca0ZuBpLfd",
        "outputId": "9e608fcf-85ee-48e5-92c7-d202f1403573"
      },
      "source": [
        "cities_by_accidents[\"New York\"]"
      ],
      "execution_count": null,
      "outputs": [
        {
          "output_type": "execute_result",
          "data": {
            "text/plain": [
              "4807"
            ]
          },
          "metadata": {
            "tags": []
          },
          "execution_count": 85
        }
      ]
    },
    {
      "cell_type": "code",
      "metadata": {
        "colab": {
          "base_uri": "https://localhost:8080/"
        },
        "id": "4qRGai8OpLdP",
        "outputId": "1f2cb075-3109-4f54-bfa6-d8346b52e15a"
      },
      "source": [
        "cities_by_accidents"
      ],
      "execution_count": null,
      "outputs": [
        {
          "output_type": "execute_result",
          "data": {
            "text/plain": [
              "Los Angeles      45220\n",
              "Houston          44856\n",
              "Charlotte        37101\n",
              "Miami            32888\n",
              "Dallas           31884\n",
              "                 ...  \n",
              "Elm Grove            1\n",
              "Normandy Park        1\n",
              "Tacna                1\n",
              "Ivoryton             1\n",
              "Rich Hill            1\n",
              "Name: City, Length: 11178, dtype: int64"
            ]
          },
          "metadata": {
            "tags": []
          },
          "execution_count": 86
        }
      ]
    },
    {
      "cell_type": "code",
      "metadata": {
        "colab": {
          "base_uri": "https://localhost:8080/"
        },
        "id": "n-rKOM-hpLaS",
        "outputId": "b921aa51-a67b-486c-ee2a-cf39c1888e85"
      },
      "source": [
        "low_accidents_cities"
      ],
      "execution_count": null,
      "outputs": [
        {
          "output_type": "execute_result",
          "data": {
            "text/plain": [
              "San Pablo        998\n",
              "Milpitas         998\n",
              "Paramount        995\n",
              "Fullerton        994\n",
              "Spokane          989\n",
              "                ... \n",
              "Elm Grove          1\n",
              "Normandy Park      1\n",
              "Tacna              1\n",
              "Ivoryton           1\n",
              "Rich Hill          1\n",
              "Name: City, Length: 10885, dtype: int64"
            ]
          },
          "metadata": {
            "tags": []
          },
          "execution_count": 87
        }
      ]
    },
    {
      "cell_type": "code",
      "metadata": {
        "colab": {
          "base_uri": "https://localhost:8080/"
        },
        "id": "jY1XT8hyllQK",
        "outputId": "bce6d2ca-7a6d-4efe-a664-03bc3fca4b67"
      },
      "source": [
        "from google.colab import drive\n",
        "drive.mount('/content/drive')"
      ],
      "execution_count": null,
      "outputs": [
        {
          "output_type": "stream",
          "text": [
            "Drive already mounted at /content/drive; to attempt to forcibly remount, call drive.mount(\"/content/drive\", force_remount=True).\n"
          ],
          "name": "stdout"
        }
      ]
    },
    {
      "cell_type": "code",
      "metadata": {
        "colab": {
          "base_uri": "https://localhost:8080/"
        },
        "id": "LHFviLM7pLXr",
        "outputId": "d8b2ce53-e1d5-498b-8d93-93228a524ea5"
      },
      "source": [
        "cities"
      ],
      "execution_count": null,
      "outputs": [
        {
          "output_type": "execute_result",
          "data": {
            "text/plain": [
              "array(['Greenville', 'Charlotte', 'Los Gatos', ..., 'Peconic',\n",
              "       'Farmerville', 'Grand Cane'], dtype=object)"
            ]
          },
          "metadata": {
            "tags": []
          },
          "execution_count": 89
        }
      ]
    },
    {
      "cell_type": "markdown",
      "metadata": {
        "id": "4nVh2mzush0-"
      },
      "source": [
        "#working with \"Start time\" column"
      ]
    },
    {
      "cell_type": "code",
      "metadata": {
        "colab": {
          "base_uri": "https://localhost:8080/"
        },
        "id": "7KUUgaE4pLT4",
        "outputId": "45451abc-4d28-4190-92bb-58d0d0bee025"
      },
      "source": [
        "df.columns"
      ],
      "execution_count": null,
      "outputs": [
        {
          "output_type": "execute_result",
          "data": {
            "text/plain": [
              "Index(['ID', 'Severity', 'Start_Time', 'End_Time', 'Start_Lat', 'Start_Lng',\n",
              "       'End_Lat', 'End_Lng', 'Distance(mi)', 'Description', 'Number', 'Street',\n",
              "       'Side', 'City', 'County', 'State', 'Zipcode', 'Country', 'Timezone',\n",
              "       'Airport_Code', 'Weather_Timestamp', 'Temperature(F)', 'Wind_Chill(F)',\n",
              "       'Humidity(%)', 'Pressure(in)', 'Visibility(mi)', 'Wind_Direction',\n",
              "       'Wind_Speed(mph)', 'Precipitation(in)', 'Weather_Condition', 'Amenity',\n",
              "       'Bump', 'Crossing', 'Give_Way', 'Junction', 'No_Exit', 'Railway',\n",
              "       'Roundabout', 'Station', 'Stop', 'Traffic_Calming', 'Traffic_Signal',\n",
              "       'Turning_Loop', 'Sunrise_Sunset', 'Civil_Twilight', 'Nautical_Twilight',\n",
              "       'Astronomical_Twilight'],\n",
              "      dtype='object')"
            ]
          },
          "metadata": {
            "tags": []
          },
          "execution_count": 90
        }
      ]
    },
    {
      "cell_type": "code",
      "metadata": {
        "colab": {
          "base_uri": "https://localhost:8080/"
        },
        "id": "RtEbtVTBpLQl",
        "outputId": "40301396-2f88-48ae-b536-f6b7514dcd54"
      },
      "source": [
        "df.Start_Time"
      ],
      "execution_count": null,
      "outputs": [
        {
          "output_type": "execute_result",
          "data": {
            "text/plain": [
              "0          2019-05-21 08:29:55\n",
              "1          2019-10-07 17:43:09\n",
              "2          2020-12-13 21:53:00\n",
              "3          2018-04-17 16:51:23\n",
              "4          2016-08-31 17:40:49\n",
              "                  ...         \n",
              "1914297    2020-11-21 01:47:52\n",
              "1914298    2020-01-31 16:38:00\n",
              "1914299    2018-05-08 12:17:02\n",
              "1914300    2020-11-12 17:44:19\n",
              "1914301                    NaN\n",
              "Name: Start_Time, Length: 1914302, dtype: object"
            ]
          },
          "metadata": {
            "tags": []
          },
          "execution_count": 91
        }
      ]
    },
    {
      "cell_type": "code",
      "metadata": {
        "colab": {
          "base_uri": "https://localhost:8080/"
        },
        "id": "lrMqi7TvtAPJ",
        "outputId": "e9f13fee-f67c-418b-e6fe-231ec4bfbde8"
      },
      "source": [
        "type(df.Start_Time[0])"
      ],
      "execution_count": null,
      "outputs": [
        {
          "output_type": "execute_result",
          "data": {
            "text/plain": [
              "str"
            ]
          },
          "metadata": {
            "tags": []
          },
          "execution_count": 92
        }
      ]
    },
    {
      "cell_type": "markdown",
      "metadata": {
        "id": "rwKPQTpEtIya"
      },
      "source": [
        "need to change from str to datetime stamp"
      ]
    },
    {
      "cell_type": "code",
      "metadata": {
        "id": "EBG5sqoVtAMn"
      },
      "source": [
        ""
      ],
      "execution_count": null,
      "outputs": []
    },
    {
      "cell_type": "code",
      "metadata": {
        "id": "jUMi8--_tAJx"
      },
      "source": [
        "df.Start_Time = pd.to_datetime(df.Start_Time)"
      ],
      "execution_count": null,
      "outputs": []
    },
    {
      "cell_type": "code",
      "metadata": {
        "colab": {
          "base_uri": "https://localhost:8080/"
        },
        "id": "opUEDZKotAHM",
        "outputId": "f8e22826-64e0-4aae-ac76-4dc3f35b3cb2"
      },
      "source": [
        "df.Start_Time"
      ],
      "execution_count": null,
      "outputs": [
        {
          "output_type": "execute_result",
          "data": {
            "text/plain": [
              "0         2019-05-21 08:29:55\n",
              "1         2019-10-07 17:43:09\n",
              "2         2020-12-13 21:53:00\n",
              "3         2018-04-17 16:51:23\n",
              "4         2016-08-31 17:40:49\n",
              "                  ...        \n",
              "1914297   2020-11-21 01:47:52\n",
              "1914298   2020-01-31 16:38:00\n",
              "1914299   2018-05-08 12:17:02\n",
              "1914300   2020-11-12 17:44:19\n",
              "1914301                   NaT\n",
              "Name: Start_Time, Length: 1914302, dtype: datetime64[ns]"
            ]
          },
          "metadata": {
            "tags": []
          },
          "execution_count": 94
        }
      ]
    },
    {
      "cell_type": "code",
      "metadata": {
        "colab": {
          "base_uri": "https://localhost:8080/"
        },
        "id": "DAeV8ey4tAES",
        "outputId": "58602497-5110-4278-b15e-e376851a4a34"
      },
      "source": [
        "type(df.Start_Time[0])"
      ],
      "execution_count": null,
      "outputs": [
        {
          "output_type": "execute_result",
          "data": {
            "text/plain": [
              "pandas._libs.tslibs.timestamps.Timestamp"
            ]
          },
          "metadata": {
            "tags": []
          },
          "execution_count": 95
        }
      ]
    },
    {
      "cell_type": "code",
      "metadata": {
        "colab": {
          "base_uri": "https://localhost:8080/"
        },
        "id": "GtDMWWMTtABZ",
        "outputId": "95de5468-1212-43d9-9168-b3961a2b23f7"
      },
      "source": [
        "df.Start_Time[0]"
      ],
      "execution_count": null,
      "outputs": [
        {
          "output_type": "execute_result",
          "data": {
            "text/plain": [
              "Timestamp('2019-05-21 08:29:55')"
            ]
          },
          "metadata": {
            "tags": []
          },
          "execution_count": 96
        }
      ]
    },
    {
      "cell_type": "markdown",
      "metadata": {
        "id": "1xgrzT0VvgWr"
      },
      "source": [
        "we cannot plot anything particular regarding timestamp,better to pullout hour from timestamp"
      ]
    },
    {
      "cell_type": "code",
      "metadata": {
        "colab": {
          "base_uri": "https://localhost:8080/"
        },
        "id": "ckpO8Qi9s_-Y",
        "outputId": "cf4f3b74-9d7a-4980-b41e-b438cd3b952e"
      },
      "source": [
        "df.Start_Time.dt.hour "
      ],
      "execution_count": null,
      "outputs": [
        {
          "output_type": "execute_result",
          "data": {
            "text/plain": [
              "0           8.0\n",
              "1          17.0\n",
              "2          21.0\n",
              "3          16.0\n",
              "4          17.0\n",
              "           ... \n",
              "1914297     1.0\n",
              "1914298    16.0\n",
              "1914299    12.0\n",
              "1914300    17.0\n",
              "1914301     NaN\n",
              "Name: Start_Time, Length: 1914302, dtype: float64"
            ]
          },
          "metadata": {
            "tags": []
          },
          "execution_count": 97
        }
      ]
    },
    {
      "cell_type": "markdown",
      "metadata": {
        "id": "IevxExyqwtCw"
      },
      "source": [
        "now lets analyse the new Start_Time column"
      ]
    },
    {
      "cell_type": "code",
      "metadata": {
        "colab": {
          "base_uri": "https://localhost:8080/",
          "height": 297
        },
        "id": "Gv_uABv0s_7i",
        "outputId": "1a17000c-38b6-4197-a658-6f8681b8c9a7"
      },
      "source": [
        "sns.histplot(df.Start_Time.dt.hour,bins=24)"
      ],
      "execution_count": null,
      "outputs": [
        {
          "output_type": "execute_result",
          "data": {
            "text/plain": [
              "<matplotlib.axes._subplots.AxesSubplot at 0x7f555921a790>"
            ]
          },
          "metadata": {
            "tags": []
          },
          "execution_count": 98
        },
        {
          "output_type": "display_data",
          "data": {
            "image/png": "[encoded data removed]",
            "text/plain": [
              "<Figure size 432x288 with 1 Axes>"
            ]
          },
          "metadata": {
            "tags": [],
            "needs_background": "light"
          }
        }
      ]
    },
    {
      "cell_type": "code",
      "metadata": {
        "colab": {
          "base_uri": "https://localhost:8080/"
        },
        "id": "XblIqqTCs_4k",
        "outputId": "51e72031-f246-4833-c46e-892b05bfa4de"
      },
      "source": [
        "df.Start_Time.dt.hour.value_counts()\n",
        "#getting count of each hours in accidents"
      ],
      "execution_count": null,
      "outputs": [
        {
          "output_type": "execute_result",
          "data": {
            "text/plain": [
              "8.0     144967\n",
              "7.0     141773\n",
              "17.0    136116\n",
              "16.0    133286\n",
              "15.0    116464\n",
              "18.0    109462\n",
              "14.0    102095\n",
              "13.0     96214\n",
              "6.0      95927\n",
              "9.0      93935\n",
              "12.0     86836\n",
              "11.0     85085\n",
              "10.0     84953\n",
              "19.0     77114\n",
              "20.0     59583\n",
              "5.0      54484\n",
              "21.0     49336\n",
              "22.0     46064\n",
              "4.0      39846\n",
              "23.0     37517\n",
              "0.0      35212\n",
              "1.0      32706\n",
              "2.0      29996\n",
              "3.0      25330\n",
              "Name: Start_Time, dtype: int64"
            ]
          },
          "metadata": {
            "tags": []
          },
          "execution_count": 99
        }
      ]
    },
    {
      "cell_type": "code",
      "metadata": {
        "colab": {
          "base_uri": "https://localhost:8080/"
        },
        "id": "dyXP1-TYs_1d",
        "outputId": "b7d7f308-91e6-45d6-86da-10c38a88488d"
      },
      "source": [
        "#getting percentage of occuring of each hours in accidents\n",
        "df.Start_Time.dt.hour.value_counts() / len(df)"
      ],
      "execution_count": null,
      "outputs": [
        {
          "output_type": "execute_result",
          "data": {
            "text/plain": [
              "8.0     0.075728\n",
              "7.0     0.074060\n",
              "17.0    0.071105\n",
              "16.0    0.069626\n",
              "15.0    0.060839\n",
              "18.0    0.057181\n",
              "14.0    0.053333\n",
              "13.0    0.050261\n",
              "6.0     0.050111\n",
              "9.0     0.049070\n",
              "12.0    0.045362\n",
              "11.0    0.044447\n",
              "10.0    0.044378\n",
              "19.0    0.040283\n",
              "20.0    0.031125\n",
              "5.0     0.028462\n",
              "21.0    0.025772\n",
              "22.0    0.024063\n",
              "4.0     0.020815\n",
              "23.0    0.019598\n",
              "0.0     0.018394\n",
              "1.0     0.017085\n",
              "2.0     0.015669\n",
              "3.0     0.013232\n",
              "Name: Start_Time, dtype: float64"
            ]
          },
          "metadata": {
            "tags": []
          },
          "execution_count": 100
        }
      ]
    },
    {
      "cell_type": "code",
      "metadata": {
        "colab": {
          "base_uri": "https://localhost:8080/",
          "height": 350
        },
        "id": "NA187e3Rs_yg",
        "outputId": "103b7a73-fc71-4f79-ecb8-ea1b8e675131"
      },
      "source": [
        "#plotting percentage of accidents according to hours \n",
        "sns.distplot(df.Start_Time.dt.hour,bins=24,kde=False,norm_hist=True)"
      ],
      "execution_count": null,
      "outputs": [
        {
          "output_type": "stream",
          "text": [
            "/usr/local/lib/python3.7/dist-packages/seaborn/distributions.py:2557: FutureWarning: `distplot` is a deprecated function and will be removed in a future version. Please adapt your code to use either `displot` (a figure-level function with similar flexibility) or `histplot` (an axes-level function for histograms).\n",
            "  warnings.warn(msg, FutureWarning)\n"
          ],
          "name": "stderr"
        },
        {
          "output_type": "execute_result",
          "data": {
            "text/plain": [
              "<matplotlib.axes._subplots.AxesSubplot at 0x7f5559199c10>"
            ]
          },
          "metadata": {
            "tags": []
          },
          "execution_count": 101
        },
        {
          "output_type": "display_data",
          "data": {
            "image/png": "[encoded data removed]",
            "text/plain": [
              "<Figure size 432x288 with 1 Axes>"
            ]
          },
          "metadata": {
            "tags": [],
            "needs_background": "light"
          }
        }
      ]
    },
    {
      "cell_type": "markdown",
      "metadata": {
        "id": "I2d3tkAN6wVX"
      },
      "source": [
        "most accidents happened around 7pm and 8pm,because maybe rush hour for working professionals and also while returning from offices around 3pm to 6pm"
      ]
    },
    {
      "cell_type": "markdown",
      "metadata": {
        "id": "FK2UlNy88NfT"
      },
      "source": [
        "###now checking for count of accidents in a day of week"
      ]
    },
    {
      "cell_type": "code",
      "metadata": {
        "colab": {
          "base_uri": "https://localhost:8080/",
          "height": 350
        },
        "id": "z2Vz-KiGs_vg",
        "outputId": "67aeee39-cd2c-41dd-a09f-370bbf0514ff"
      },
      "source": [
        "sns.distplot(df.Start_Time.dt.dayofweek,bins=7,kde=False,norm_hist=True)"
      ],
      "execution_count": null,
      "outputs": [
        {
          "output_type": "stream",
          "text": [
            "/usr/local/lib/python3.7/dist-packages/seaborn/distributions.py:2557: FutureWarning: `distplot` is a deprecated function and will be removed in a future version. Please adapt your code to use either `displot` (a figure-level function with similar flexibility) or `histplot` (an axes-level function for histograms).\n",
            "  warnings.warn(msg, FutureWarning)\n"
          ],
          "name": "stderr"
        },
        {
          "output_type": "execute_result",
          "data": {
            "text/plain": [
              "<matplotlib.axes._subplots.AxesSubplot at 0x7f55590c9490>"
            ]
          },
          "metadata": {
            "tags": []
          },
          "execution_count": 102
        },
        {
          "output_type": "display_data",
          "data": {
            "image/png": "[encoded data removed]",
            "text/plain": [
              "<Figure size 432x288 with 1 Axes>"
            ]
          },
          "metadata": {
            "tags": [],
            "needs_background": "light"
          }
        }
      ]
    },
    {
      "cell_type": "markdown",
      "metadata": {
        "id": "DYaA3zfT8183"
      },
      "source": [
        "most accidents occur in weekdays compared to weekends"
      ]
    },
    {
      "cell_type": "code",
      "metadata": {
        "colab": {
          "base_uri": "https://localhost:8080/"
        },
        "id": "a87dagERs_sn",
        "outputId": "58ca12c2-eb16-4478-f14b-713e69c19066"
      },
      "source": [
        "df.Start_Time[df.Start_Time.dt.dayofweek == 6]"
      ],
      "execution_count": null,
      "outputs": [
        {
          "output_type": "execute_result",
          "data": {
            "text/plain": [
              "2         2020-12-13 21:53:00\n",
              "45        2019-12-15 13:47:00\n",
              "79        2019-06-30 10:21:30\n",
              "81        2017-05-07 15:44:45\n",
              "85        2020-10-18 10:26:01\n",
              "                  ...        \n",
              "1914204   2018-04-29 12:06:05\n",
              "1914221   2020-10-25 20:46:00\n",
              "1914224   2020-12-20 17:20:00\n",
              "1914269   2019-08-18 17:32:12\n",
              "1914285   2016-12-11 16:57:36\n",
              "Name: Start_Time, Length: 126348, dtype: datetime64[ns]"
            ]
          },
          "metadata": {
            "tags": []
          },
          "execution_count": 103
        }
      ]
    },
    {
      "cell_type": "code",
      "metadata": {
        "colab": {
          "base_uri": "https://localhost:8080/"
        },
        "id": "2nemwHs8s_qB",
        "outputId": "c6590a9c-389b-4034-b312-fbf83d1abc23"
      },
      "source": [
        "sundays=df.Start_Time[df.Start_Time.dt.dayofweek == 6]\n",
        "sundays"
      ],
      "execution_count": null,
      "outputs": [
        {
          "output_type": "execute_result",
          "data": {
            "text/plain": [
              "2         2020-12-13 21:53:00\n",
              "45        2019-12-15 13:47:00\n",
              "79        2019-06-30 10:21:30\n",
              "81        2017-05-07 15:44:45\n",
              "85        2020-10-18 10:26:01\n",
              "                  ...        \n",
              "1914204   2018-04-29 12:06:05\n",
              "1914221   2020-10-25 20:46:00\n",
              "1914224   2020-12-20 17:20:00\n",
              "1914269   2019-08-18 17:32:12\n",
              "1914285   2016-12-11 16:57:36\n",
              "Name: Start_Time, Length: 126348, dtype: datetime64[ns]"
            ]
          },
          "metadata": {
            "tags": []
          },
          "execution_count": 104
        }
      ]
    },
    {
      "cell_type": "code",
      "metadata": {
        "colab": {
          "base_uri": "https://localhost:8080/"
        },
        "id": "bwegRw_GTcxN",
        "outputId": "dda70508-5ed3-4fc2-eda9-95b9a993595a"
      },
      "source": [
        "sundays.dt.hour"
      ],
      "execution_count": null,
      "outputs": [
        {
          "output_type": "execute_result",
          "data": {
            "text/plain": [
              "2          21\n",
              "45         13\n",
              "79         10\n",
              "81         15\n",
              "85         10\n",
              "           ..\n",
              "1914204    12\n",
              "1914221    20\n",
              "1914224    17\n",
              "1914269    17\n",
              "1914285    16\n",
              "Name: Start_Time, Length: 126348, dtype: int64"
            ]
          },
          "metadata": {
            "tags": []
          },
          "execution_count": 105
        }
      ]
    },
    {
      "cell_type": "code",
      "metadata": {
        "colab": {
          "base_uri": "https://localhost:8080/",
          "height": 350
        },
        "id": "QQO4m15Es_m2",
        "outputId": "0400651b-a470-453f-c8b8-cdb617b01fef"
      },
      "source": [
        "sns.distplot(sundays.dt.hour,bins=7,kde=False,norm_hist=True)"
      ],
      "execution_count": null,
      "outputs": [
        {
          "output_type": "stream",
          "text": [
            "/usr/local/lib/python3.7/dist-packages/seaborn/distributions.py:2557: FutureWarning: `distplot` is a deprecated function and will be removed in a future version. Please adapt your code to use either `displot` (a figure-level function with similar flexibility) or `histplot` (an axes-level function for histograms).\n",
            "  warnings.warn(msg, FutureWarning)\n"
          ],
          "name": "stderr"
        },
        {
          "output_type": "execute_result",
          "data": {
            "text/plain": [
              "<matplotlib.axes._subplots.AxesSubplot at 0x7f5559048ad0>"
            ]
          },
          "metadata": {
            "tags": []
          },
          "execution_count": 106
        },
        {
          "output_type": "display_data",
          "data": {
            "image/png": "[encoded data removed]",
            "text/plain": [
              "<Figure size 432x288 with 1 Axes>"
            ]
          },
          "metadata": {
            "tags": [],
            "needs_background": "light"
          }
        }
      ]
    },
    {
      "cell_type": "markdown",
      "metadata": {
        "id": "TG0g7622Ei7k"
      },
      "source": [
        "so most accidents on sundays are around 10 am to 12 pm,maybe because people wakes up late and move out with their vehicle)"
      ]
    },
    {
      "cell_type": "markdown",
      "metadata": {
        "id": "o6LqOvTME5Su"
      },
      "source": [
        "###saturdays"
      ]
    },
    {
      "cell_type": "code",
      "metadata": {
        "colab": {
          "base_uri": "https://localhost:8080/"
        },
        "id": "xV_e6uoTDLnC",
        "outputId": "47e1988f-4217-45cc-b6e7-76703e5f17e9"
      },
      "source": [
        "saturdays=df.Start_Time[df.Start_Time.dt.dayofweek == 5]\n",
        "saturdays"
      ],
      "execution_count": null,
      "outputs": [
        {
          "output_type": "execute_result",
          "data": {
            "text/plain": [
              "7         2019-12-21 23:59:00\n",
              "16        2016-07-09 14:54:01\n",
              "17        2020-11-21 16:32:00\n",
              "19        2020-04-18 14:41:08\n",
              "20        2020-08-22 16:19:52\n",
              "                  ...        \n",
              "1914263   2020-11-14 03:34:00\n",
              "1914290   2020-05-23 12:50:43\n",
              "1914293   2020-04-04 12:38:00\n",
              "1914296   2020-09-12 19:51:34\n",
              "1914297   2020-11-21 01:47:52\n",
              "Name: Start_Time, Length: 142272, dtype: datetime64[ns]"
            ]
          },
          "metadata": {
            "tags": []
          },
          "execution_count": 107
        }
      ]
    },
    {
      "cell_type": "code",
      "metadata": {
        "colab": {
          "base_uri": "https://localhost:8080/",
          "height": 350
        },
        "id": "q6cVrKClDLku",
        "outputId": "be08a5dc-2ec2-403c-abcb-85cf1616043c"
      },
      "source": [
        "sns.distplot(saturdays.dt.hour,bins=7,kde=False,norm_hist=True)"
      ],
      "execution_count": null,
      "outputs": [
        {
          "output_type": "stream",
          "text": [
            "/usr/local/lib/python3.7/dist-packages/seaborn/distributions.py:2557: FutureWarning: `distplot` is a deprecated function and will be removed in a future version. Please adapt your code to use either `displot` (a figure-level function with similar flexibility) or `histplot` (an axes-level function for histograms).\n",
            "  warnings.warn(msg, FutureWarning)\n"
          ],
          "name": "stderr"
        },
        {
          "output_type": "execute_result",
          "data": {
            "text/plain": [
              "<matplotlib.axes._subplots.AxesSubplot at 0x7f5558fb3a50>"
            ]
          },
          "metadata": {
            "tags": []
          },
          "execution_count": 108
        },
        {
          "output_type": "display_data",
          "data": {
            "image/png": "[encoded data removed]",
            "text/plain": [
              "<Figure size 432x288 with 1 Axes>"
            ]
          },
          "metadata": {
            "tags": [],
            "needs_background": "light"
          }
        }
      ]
    },
    {
      "cell_type": "markdown",
      "metadata": {
        "id": "LqsY0uKmFyrY"
      },
      "source": [
        "###Most accidents on which particular months"
      ]
    },
    {
      "cell_type": "code",
      "metadata": {
        "colab": {
          "base_uri": "https://localhost:8080/",
          "height": 350
        },
        "id": "ZDN-ZvXwDLh0",
        "outputId": "91fa95e1-436c-4549-87a1-abb2fa310cd3"
      },
      "source": [
        "sns.distplot(df.Start_Time.dt.month,bins=12,kde=False,norm_hist=True)"
      ],
      "execution_count": null,
      "outputs": [
        {
          "output_type": "stream",
          "text": [
            "/usr/local/lib/python3.7/dist-packages/seaborn/distributions.py:2557: FutureWarning: `distplot` is a deprecated function and will be removed in a future version. Please adapt your code to use either `displot` (a figure-level function with similar flexibility) or `histplot` (an axes-level function for histograms).\n",
            "  warnings.warn(msg, FutureWarning)\n"
          ],
          "name": "stderr"
        },
        {
          "output_type": "execute_result",
          "data": {
            "text/plain": [
              "<matplotlib.axes._subplots.AxesSubplot at 0x7f5559566090>"
            ]
          },
          "metadata": {
            "tags": []
          },
          "execution_count": 109
        },
        {
          "output_type": "display_data",
          "data": {
            "image/png": "[encoded data removed]",
            "text/plain": [
              "<Figure size 432x288 with 1 Axes>"
            ]
          },
          "metadata": {
            "tags": [],
            "needs_background": "light"
          }
        }
      ]
    },
    {
      "cell_type": "markdown",
      "metadata": {
        "id": "VUkllzmTGFvY"
      },
      "source": [
        "most accidents occur around year ends"
      ]
    },
    {
      "cell_type": "markdown",
      "metadata": {
        "id": "cD0n0E60QlgG"
      },
      "source": [
        "##accident analysis year wise"
      ]
    },
    {
      "cell_type": "code",
      "metadata": {
        "id": "75Vmzyu8DLfj"
      },
      "source": [
        "accidents_2016=df.Start_Time[df.Start_Time.dt.year == 2016]"
      ],
      "execution_count": null,
      "outputs": []
    },
    {
      "cell_type": "code",
      "metadata": {
        "id": "meDdESBNDLck",
        "colab": {
          "base_uri": "https://localhost:8080/"
        },
        "outputId": "5de1da41-f041-47a9-94ec-782af925c57d"
      },
      "source": [
        "accidents_2016"
      ],
      "execution_count": null,
      "outputs": [
        {
          "output_type": "execute_result",
          "data": {
            "text/plain": [
              "4         2016-08-31 17:40:49\n",
              "16        2016-07-09 14:54:01\n",
              "35        2016-07-08 12:38:55\n",
              "43        2016-12-29 07:35:34\n",
              "57        2016-05-20 17:23:00\n",
              "                  ...        \n",
              "1914227   2016-11-10 18:50:07\n",
              "1914250   2016-12-19 06:46:30\n",
              "1914273   2016-12-28 10:11:13\n",
              "1914285   2016-12-11 16:57:36\n",
              "1914294   2016-06-28 08:19:40\n",
              "Name: Start_Time, Length: 177928, dtype: datetime64[ns]"
            ]
          },
          "metadata": {
            "tags": []
          },
          "execution_count": 111
        }
      ]
    },
    {
      "cell_type": "code",
      "metadata": {
        "id": "qUGYN4gKDLZs",
        "colab": {
          "base_uri": "https://localhost:8080/",
          "height": 386
        },
        "outputId": "81a4dcc1-a920-4b7d-ecd6-b6ae6d0fe7c8"
      },
      "source": [
        "accidents_2016=df.Start_Time[df.Start_Time.dt.year == 2016]\n",
        "sns.displot(accidents_2016.dt.month,bins=12,kde=False)"
      ],
      "execution_count": null,
      "outputs": [
        {
          "output_type": "execute_result",
          "data": {
            "text/plain": [
              "<seaborn.axisgrid.FacetGrid at 0x7f555961c0d0>"
            ]
          },
          "metadata": {
            "tags": []
          },
          "execution_count": 112
        },
        {
          "output_type": "display_data",
          "data": {
            "image/png": "[encoded data removed]",
            "text/plain": [
              "<Figure size 360x360 with 1 Axes>"
            ]
          },
          "metadata": {
            "tags": [],
            "needs_background": "light"
          }
        }
      ]
    },
    {
      "cell_type": "code",
      "metadata": {
        "id": "mwca8uJHDLWt",
        "colab": {
          "base_uri": "https://localhost:8080/"
        },
        "outputId": "cb3b275e-cc87-4fa8-b72f-50b2f9f7c8fc"
      },
      "source": [
        "df.Start_Time[accidents_2016.dt.month].dt.month ==7"
      ],
      "execution_count": null,
      "outputs": [
        {
          "output_type": "execute_result",
          "data": {
            "text/plain": [
              "8     False\n",
              "7     False\n",
              "7     False\n",
              "12    False\n",
              "5     False\n",
              "      ...  \n",
              "11    False\n",
              "12    False\n",
              "12    False\n",
              "12    False\n",
              "6     False\n",
              "Name: Start_Time, Length: 177928, dtype: bool"
            ]
          },
          "metadata": {
            "tags": []
          },
          "execution_count": 113
        }
      ]
    },
    {
      "cell_type": "code",
      "metadata": {
        "colab": {
          "base_uri": "https://localhost:8080/"
        },
        "id": "vlzQ6yxiWiKo",
        "outputId": "ddfb6e27-52ce-43dc-8a7a-37cee437248b"
      },
      "source": [
        "accidents_2016.dt.month"
      ],
      "execution_count": null,
      "outputs": [
        {
          "output_type": "execute_result",
          "data": {
            "text/plain": [
              "4           8\n",
              "16          7\n",
              "35          7\n",
              "43         12\n",
              "57          5\n",
              "           ..\n",
              "1914227    11\n",
              "1914250    12\n",
              "1914273    12\n",
              "1914285    12\n",
              "1914294     6\n",
              "Name: Start_Time, Length: 177928, dtype: int64"
            ]
          },
          "metadata": {
            "tags": []
          },
          "execution_count": 114
        }
      ]
    },
    {
      "cell_type": "code",
      "metadata": {
        "id": "wfzoIO1XUv-1"
      },
      "source": [
        "accidents_2016=df.Start_Time[df.Start_Time.dt.year== 2016]"
      ],
      "execution_count": null,
      "outputs": []
    },
    {
      "cell_type": "code",
      "metadata": {
        "id": "9pMgXK2VDLTy",
        "colab": {
          "base_uri": "https://localhost:8080/"
        },
        "outputId": "4c87c92f-ba6a-4c2f-b64c-9005e9b5d13e"
      },
      "source": [
        "accidents_2016"
      ],
      "execution_count": null,
      "outputs": [
        {
          "output_type": "execute_result",
          "data": {
            "text/plain": [
              "4         2016-08-31 17:40:49\n",
              "16        2016-07-09 14:54:01\n",
              "35        2016-07-08 12:38:55\n",
              "43        2016-12-29 07:35:34\n",
              "57        2016-05-20 17:23:00\n",
              "                  ...        \n",
              "1914227   2016-11-10 18:50:07\n",
              "1914250   2016-12-19 06:46:30\n",
              "1914273   2016-12-28 10:11:13\n",
              "1914285   2016-12-11 16:57:36\n",
              "1914294   2016-06-28 08:19:40\n",
              "Name: Start_Time, Length: 177928, dtype: datetime64[ns]"
            ]
          },
          "metadata": {
            "tags": []
          },
          "execution_count": 116
        }
      ]
    },
    {
      "cell_type": "markdown",
      "metadata": {
        "id": "kAlxxXYrfvsU"
      },
      "source": [
        "#considering columns Start Latitude and Start Longitude"
      ]
    },
    {
      "cell_type": "code",
      "metadata": {
        "colab": {
          "base_uri": "https://localhost:8080/"
        },
        "id": "jF0jElLrf-wa",
        "outputId": "6dd9a9c8-3f62-49c4-908f-850d0b025c44"
      },
      "source": [
        "df.Start_Lat"
      ],
      "execution_count": null,
      "outputs": [
        {
          "output_type": "execute_result",
          "data": {
            "text/plain": [
              "0          34.808868\n",
              "1          35.090080\n",
              "2          37.145730\n",
              "3          39.110390\n",
              "4          26.102942\n",
              "             ...    \n",
              "1914297    38.950985\n",
              "1914298    41.066780\n",
              "1914299    34.227380\n",
              "1914300    37.601169\n",
              "1914301          NaN\n",
              "Name: Start_Lat, Length: 1914302, dtype: float64"
            ]
          },
          "metadata": {
            "tags": []
          },
          "execution_count": 117
        }
      ]
    },
    {
      "cell_type": "code",
      "metadata": {
        "colab": {
          "base_uri": "https://localhost:8080/"
        },
        "id": "DoQVIzBuf-sc",
        "outputId": "5049ea5b-68f0-4895-988a-e86d4c30d536"
      },
      "source": [
        "df.Start_Lng"
      ],
      "execution_count": null,
      "outputs": [
        {
          "output_type": "execute_result",
          "data": {
            "text/plain": [
              "0          -82.269157\n",
              "1          -80.745560\n",
              "2         -121.985052\n",
              "3         -119.773781\n",
              "4          -80.265091\n",
              "              ...    \n",
              "1914297    -77.349189\n",
              "1914298   -111.969950\n",
              "1914299   -118.410620\n",
              "1914300    -77.419313\n",
              "1914301           NaN\n",
              "Name: Start_Lng, Length: 1914302, dtype: float64"
            ]
          },
          "metadata": {
            "tags": []
          },
          "execution_count": 118
        }
      ]
    },
    {
      "cell_type": "code",
      "metadata": {
        "colab": {
          "base_uri": "https://localhost:8080/",
          "height": 299
        },
        "id": "czUrtA0hf-qF",
        "outputId": "c30c63ba-8e2f-4a11-daca-e608f7b5ee8e"
      },
      "source": [
        "sns.scatterplot(x=df.Start_Lng,y=df.Start_Lat)"
      ],
      "execution_count": null,
      "outputs": [
        {
          "output_type": "execute_result",
          "data": {
            "text/plain": [
              "<matplotlib.axes._subplots.AxesSubplot at 0x7f5558e2a610>"
            ]
          },
          "metadata": {
            "tags": []
          },
          "execution_count": 119
        },
        {
          "output_type": "display_data",
          "data": {
            "image/png": "[encoded data removed]",
            "text/plain": [
              "<Figure size 432x288 with 1 Axes>"
            ]
          },
          "metadata": {
            "tags": [],
            "needs_background": "light"
          }
        }
      ]
    },
    {
      "cell_type": "markdown",
      "metadata": {
        "id": "VCOyRS2UrTwy"
      },
      "source": [
        "decreasing number of plots"
      ]
    },
    {
      "cell_type": "code",
      "metadata": {
        "id": "Ftk-0G3ff-nd"
      },
      "source": [
        "sample_df=df.sample(int(0.1 * len(df)))"
      ],
      "execution_count": null,
      "outputs": []
    },
    {
      "cell_type": "code",
      "metadata": {
        "colab": {
          "base_uri": "https://localhost:8080/",
          "height": 958
        },
        "id": "A6_CzTD3f-kW",
        "outputId": "e35b85b6-e999-47f1-87de-9eb20e444174"
      },
      "source": [
        "sample_df"
      ],
      "execution_count": null,
      "outputs": [
        {
          "output_type": "execute_result",
          "data": {
            "text/html": [
              "<div>\n",
              "<style scoped>\n",
              "    .dataframe tbody tr th:only-of-type {\n",
              "        vertical-align: middle;\n",
              "    }\n",
              "\n",
              "    .dataframe tbody tr th {\n",
              "        vertical-align: top;\n",
              "    }\n",
              "\n",
              "    .dataframe thead th {\n",
              "        text-align: right;\n",
              "    }\n",
              "</style>\n",
              "<table border=\"1\" class=\"dataframe\">\n",
              "  <thead>\n",
              "    <tr style=\"text-align: right;\">\n",
              "      <th></th>\n",
              "      <th>ID</th>\n",
              "      <th>Severity</th>\n",
              "      <th>Start_Time</th>\n",
              "      <th>End_Time</th>\n",
              "      <th>Start_Lat</th>\n",
              "      <th>Start_Lng</th>\n",
              "      <th>End_Lat</th>\n",
              "      <th>End_Lng</th>\n",
              "      <th>Distance(mi)</th>\n",
              "      <th>Description</th>\n",
              "      <th>Number</th>\n",
              "      <th>Street</th>\n",
              "      <th>Side</th>\n",
              "      <th>City</th>\n",
              "      <th>County</th>\n",
              "      <th>State</th>\n",
              "      <th>Zipcode</th>\n",
              "      <th>Country</th>\n",
              "      <th>Timezone</th>\n",
              "      <th>Airport_Code</th>\n",
              "      <th>Weather_Timestamp</th>\n",
              "      <th>Temperature(F)</th>\n",
              "      <th>Wind_Chill(F)</th>\n",
              "      <th>Humidity(%)</th>\n",
              "      <th>Pressure(in)</th>\n",
              "      <th>Visibility(mi)</th>\n",
              "      <th>Wind_Direction</th>\n",
              "      <th>Wind_Speed(mph)</th>\n",
              "      <th>Precipitation(in)</th>\n",
              "      <th>Weather_Condition</th>\n",
              "      <th>Amenity</th>\n",
              "      <th>Bump</th>\n",
              "      <th>Crossing</th>\n",
              "      <th>Give_Way</th>\n",
              "      <th>Junction</th>\n",
              "      <th>No_Exit</th>\n",
              "      <th>Railway</th>\n",
              "      <th>Roundabout</th>\n",
              "      <th>Station</th>\n",
              "      <th>Stop</th>\n",
              "      <th>Traffic_Calming</th>\n",
              "      <th>Traffic_Signal</th>\n",
              "      <th>Turning_Loop</th>\n",
              "      <th>Sunrise_Sunset</th>\n",
              "      <th>Civil_Twilight</th>\n",
              "      <th>Nautical_Twilight</th>\n",
              "      <th>Astronomical_Twilight</th>\n",
              "    </tr>\n",
              "  </thead>\n",
              "  <tbody>\n",
              "    <tr>\n",
              "      <th>871862</th>\n",
              "      <td>A-871863</td>\n",
              "      <td>2.0</td>\n",
              "      <td>2018-07-02 13:53:20</td>\n",
              "      <td>2018-07-02 19:53:20</td>\n",
              "      <td>40.464081</td>\n",
              "      <td>-74.284971</td>\n",
              "      <td>40.464081</td>\n",
              "      <td>-74.284971</td>\n",
              "      <td>0.000</td>\n",
              "      <td>At US-9/Exit 123 - Accident. Left lane blocked.</td>\n",
              "      <td>NaN</td>\n",
              "      <td>Garden State Pkwy N</td>\n",
              "      <td>R</td>\n",
              "      <td>South Amboy</td>\n",
              "      <td>Middlesex</td>\n",
              "      <td>NJ</td>\n",
              "      <td>08879</td>\n",
              "      <td>US</td>\n",
              "      <td>US/Eastern</td>\n",
              "      <td>KLDJ</td>\n",
              "      <td>2018-07-02 08:35:00</td>\n",
              "      <td>82.4</td>\n",
              "      <td>NaN</td>\n",
              "      <td>62.0</td>\n",
              "      <td>30.05</td>\n",
              "      <td>10.00</td>\n",
              "      <td>Calm</td>\n",
              "      <td>NaN</td>\n",
              "      <td>NaN</td>\n",
              "      <td>Clear</td>\n",
              "      <td>False</td>\n",
              "      <td>False</td>\n",
              "      <td>False</td>\n",
              "      <td>False</td>\n",
              "      <td>False</td>\n",
              "      <td>False</td>\n",
              "      <td>False</td>\n",
              "      <td>False</td>\n",
              "      <td>False</td>\n",
              "      <td>False</td>\n",
              "      <td>False</td>\n",
              "      <td>False</td>\n",
              "      <td>False</td>\n",
              "      <td>Day</td>\n",
              "      <td>Day</td>\n",
              "      <td>Day</td>\n",
              "      <td>Day</td>\n",
              "    </tr>\n",
              "    <tr>\n",
              "      <th>1569705</th>\n",
              "      <td>A-1569706</td>\n",
              "      <td>3.0</td>\n",
              "      <td>2019-08-05 07:27:16</td>\n",
              "      <td>2019-08-05 07:56:34</td>\n",
              "      <td>26.345870</td>\n",
              "      <td>-80.118000</td>\n",
              "      <td>26.355380</td>\n",
              "      <td>-80.118590</td>\n",
              "      <td>0.658</td>\n",
              "      <td>At Palmetto Park Rd/Exit 44 - Accident.</td>\n",
              "      <td>NaN</td>\n",
              "      <td>I-95 N</td>\n",
              "      <td>R</td>\n",
              "      <td>Boca Raton</td>\n",
              "      <td>Palm Beach</td>\n",
              "      <td>FL</td>\n",
              "      <td>33486</td>\n",
              "      <td>US</td>\n",
              "      <td>US/Eastern</td>\n",
              "      <td>KBCT</td>\n",
              "      <td>2019-08-05 07:53:00</td>\n",
              "      <td>80.0</td>\n",
              "      <td>80.0</td>\n",
              "      <td>90.0</td>\n",
              "      <td>29.99</td>\n",
              "      <td>10.00</td>\n",
              "      <td>WNW</td>\n",
              "      <td>3.0</td>\n",
              "      <td>0.00</td>\n",
              "      <td>Fair</td>\n",
              "      <td>False</td>\n",
              "      <td>False</td>\n",
              "      <td>False</td>\n",
              "      <td>False</td>\n",
              "      <td>False</td>\n",
              "      <td>False</td>\n",
              "      <td>False</td>\n",
              "      <td>False</td>\n",
              "      <td>False</td>\n",
              "      <td>False</td>\n",
              "      <td>False</td>\n",
              "      <td>False</td>\n",
              "      <td>False</td>\n",
              "      <td>Day</td>\n",
              "      <td>Day</td>\n",
              "      <td>Day</td>\n",
              "      <td>Day</td>\n",
              "    </tr>\n",
              "    <tr>\n",
              "      <th>61625</th>\n",
              "      <td>A-61626</td>\n",
              "      <td>2.0</td>\n",
              "      <td>2020-12-09 12:36:30</td>\n",
              "      <td>2020-12-09 23:39:59</td>\n",
              "      <td>25.760891</td>\n",
              "      <td>-80.399486</td>\n",
              "      <td>25.760888</td>\n",
              "      <td>-80.392834</td>\n",
              "      <td>0.414</td>\n",
              "      <td>Stationary traffic on US-41 S from SW 127th Av...</td>\n",
              "      <td>12570.0</td>\n",
              "      <td>SW 8th St</td>\n",
              "      <td>L</td>\n",
              "      <td>Miami</td>\n",
              "      <td>Miami-Dade</td>\n",
              "      <td>FL</td>\n",
              "      <td>33184-1424</td>\n",
              "      <td>US</td>\n",
              "      <td>US/Eastern</td>\n",
              "      <td>KTMB</td>\n",
              "      <td>2020-12-09 12:53:00</td>\n",
              "      <td>62.0</td>\n",
              "      <td>62.0</td>\n",
              "      <td>53.0</td>\n",
              "      <td>30.17</td>\n",
              "      <td>10.00</td>\n",
              "      <td>NNW</td>\n",
              "      <td>16.0</td>\n",
              "      <td>0.00</td>\n",
              "      <td>Fair</td>\n",
              "      <td>False</td>\n",
              "      <td>False</td>\n",
              "      <td>False</td>\n",
              "      <td>False</td>\n",
              "      <td>False</td>\n",
              "      <td>False</td>\n",
              "      <td>False</td>\n",
              "      <td>False</td>\n",
              "      <td>False</td>\n",
              "      <td>False</td>\n",
              "      <td>False</td>\n",
              "      <td>False</td>\n",
              "      <td>False</td>\n",
              "      <td>Day</td>\n",
              "      <td>Day</td>\n",
              "      <td>Day</td>\n",
              "      <td>Day</td>\n",
              "    </tr>\n",
              "    <tr>\n",
              "      <th>1382179</th>\n",
              "      <td>A-1382180</td>\n",
              "      <td>2.0</td>\n",
              "      <td>2020-04-30 16:49:10</td>\n",
              "      <td>2020-04-30 17:49:10</td>\n",
              "      <td>43.164490</td>\n",
              "      <td>-77.732430</td>\n",
              "      <td>43.164490</td>\n",
              "      <td>-77.732430</td>\n",
              "      <td>0.000</td>\n",
              "      <td>At CR-117/Lyell Rd - Accident.</td>\n",
              "      <td>3880.0</td>\n",
              "      <td>Lyell Rd</td>\n",
              "      <td>R</td>\n",
              "      <td>Rochester</td>\n",
              "      <td>Monroe</td>\n",
              "      <td>NY</td>\n",
              "      <td>14606-4402</td>\n",
              "      <td>US</td>\n",
              "      <td>US/Eastern</td>\n",
              "      <td>KROC</td>\n",
              "      <td>2020-04-30 16:49:00</td>\n",
              "      <td>54.0</td>\n",
              "      <td>54.0</td>\n",
              "      <td>94.0</td>\n",
              "      <td>29.07</td>\n",
              "      <td>6.00</td>\n",
              "      <td>N</td>\n",
              "      <td>13.0</td>\n",
              "      <td>0.09</td>\n",
              "      <td>Rain</td>\n",
              "      <td>False</td>\n",
              "      <td>False</td>\n",
              "      <td>False</td>\n",
              "      <td>False</td>\n",
              "      <td>False</td>\n",
              "      <td>False</td>\n",
              "      <td>False</td>\n",
              "      <td>False</td>\n",
              "      <td>False</td>\n",
              "      <td>False</td>\n",
              "      <td>False</td>\n",
              "      <td>True</td>\n",
              "      <td>False</td>\n",
              "      <td>Day</td>\n",
              "      <td>Day</td>\n",
              "      <td>Day</td>\n",
              "      <td>Day</td>\n",
              "    </tr>\n",
              "    <tr>\n",
              "      <th>55318</th>\n",
              "      <td>A-55319</td>\n",
              "      <td>3.0</td>\n",
              "      <td>2020-03-28 08:36:47</td>\n",
              "      <td>2020-03-28 09:36:47</td>\n",
              "      <td>39.153300</td>\n",
              "      <td>-76.748220</td>\n",
              "      <td>39.165680</td>\n",
              "      <td>-76.734940</td>\n",
              "      <td>1.113</td>\n",
              "      <td>Between MD-175 and MD-100 - Accident. Two lane...</td>\n",
              "      <td>NaN</td>\n",
              "      <td>Baltimore Washington Pkwy N</td>\n",
              "      <td>R</td>\n",
              "      <td>Jessup</td>\n",
              "      <td>Anne Arundel</td>\n",
              "      <td>MD</td>\n",
              "      <td>20794</td>\n",
              "      <td>US</td>\n",
              "      <td>US/Eastern</td>\n",
              "      <td>KFME</td>\n",
              "      <td>2020-03-28 08:45:00</td>\n",
              "      <td>52.0</td>\n",
              "      <td>52.0</td>\n",
              "      <td>100.0</td>\n",
              "      <td>29.89</td>\n",
              "      <td>2.00</td>\n",
              "      <td>ESE</td>\n",
              "      <td>7.0</td>\n",
              "      <td>NaN</td>\n",
              "      <td>Cloudy</td>\n",
              "      <td>False</td>\n",
              "      <td>False</td>\n",
              "      <td>False</td>\n",
              "      <td>False</td>\n",
              "      <td>False</td>\n",
              "      <td>False</td>\n",
              "      <td>False</td>\n",
              "      <td>False</td>\n",
              "      <td>False</td>\n",
              "      <td>False</td>\n",
              "      <td>False</td>\n",
              "      <td>False</td>\n",
              "      <td>False</td>\n",
              "      <td>Day</td>\n",
              "      <td>Day</td>\n",
              "      <td>Day</td>\n",
              "      <td>Day</td>\n",
              "    </tr>\n",
              "    <tr>\n",
              "      <th>...</th>\n",
              "      <td>...</td>\n",
              "      <td>...</td>\n",
              "      <td>...</td>\n",
              "      <td>...</td>\n",
              "      <td>...</td>\n",
              "      <td>...</td>\n",
              "      <td>...</td>\n",
              "      <td>...</td>\n",
              "      <td>...</td>\n",
              "      <td>...</td>\n",
              "      <td>...</td>\n",
              "      <td>...</td>\n",
              "      <td>...</td>\n",
              "      <td>...</td>\n",
              "      <td>...</td>\n",
              "      <td>...</td>\n",
              "      <td>...</td>\n",
              "      <td>...</td>\n",
              "      <td>...</td>\n",
              "      <td>...</td>\n",
              "      <td>...</td>\n",
              "      <td>...</td>\n",
              "      <td>...</td>\n",
              "      <td>...</td>\n",
              "      <td>...</td>\n",
              "      <td>...</td>\n",
              "      <td>...</td>\n",
              "      <td>...</td>\n",
              "      <td>...</td>\n",
              "      <td>...</td>\n",
              "      <td>...</td>\n",
              "      <td>...</td>\n",
              "      <td>...</td>\n",
              "      <td>...</td>\n",
              "      <td>...</td>\n",
              "      <td>...</td>\n",
              "      <td>...</td>\n",
              "      <td>...</td>\n",
              "      <td>...</td>\n",
              "      <td>...</td>\n",
              "      <td>...</td>\n",
              "      <td>...</td>\n",
              "      <td>...</td>\n",
              "      <td>...</td>\n",
              "      <td>...</td>\n",
              "      <td>...</td>\n",
              "      <td>...</td>\n",
              "    </tr>\n",
              "    <tr>\n",
              "      <th>1457099</th>\n",
              "      <td>A-1457100</td>\n",
              "      <td>3.0</td>\n",
              "      <td>2017-12-06 06:01:07</td>\n",
              "      <td>2017-12-06 12:01:07</td>\n",
              "      <td>25.915680</td>\n",
              "      <td>-80.325150</td>\n",
              "      <td>25.909470</td>\n",
              "      <td>-80.324850</td>\n",
              "      <td>0.429</td>\n",
              "      <td>At 154th St/Miami Lakes Dr - Accident.</td>\n",
              "      <td>NaN</td>\n",
              "      <td>Palmetto Expy S</td>\n",
              "      <td>R</td>\n",
              "      <td>Hialeah</td>\n",
              "      <td>Miami-Dade</td>\n",
              "      <td>FL</td>\n",
              "      <td>33014</td>\n",
              "      <td>US</td>\n",
              "      <td>US/Eastern</td>\n",
              "      <td>KOPF</td>\n",
              "      <td>2017-12-06 05:53:00</td>\n",
              "      <td>68.0</td>\n",
              "      <td>NaN</td>\n",
              "      <td>96.0</td>\n",
              "      <td>30.10</td>\n",
              "      <td>10.00</td>\n",
              "      <td>NNE</td>\n",
              "      <td>3.5</td>\n",
              "      <td>NaN</td>\n",
              "      <td>Clear</td>\n",
              "      <td>False</td>\n",
              "      <td>False</td>\n",
              "      <td>False</td>\n",
              "      <td>False</td>\n",
              "      <td>True</td>\n",
              "      <td>False</td>\n",
              "      <td>False</td>\n",
              "      <td>False</td>\n",
              "      <td>False</td>\n",
              "      <td>False</td>\n",
              "      <td>False</td>\n",
              "      <td>False</td>\n",
              "      <td>False</td>\n",
              "      <td>Night</td>\n",
              "      <td>Night</td>\n",
              "      <td>Day</td>\n",
              "      <td>Day</td>\n",
              "    </tr>\n",
              "    <tr>\n",
              "      <th>960185</th>\n",
              "      <td>A-960186</td>\n",
              "      <td>2.0</td>\n",
              "      <td>2020-12-24 20:18:00</td>\n",
              "      <td>2020-12-24 20:47:00</td>\n",
              "      <td>33.935340</td>\n",
              "      <td>-118.368791</td>\n",
              "      <td>33.932300</td>\n",
              "      <td>-118.359601</td>\n",
              "      <td>0.567</td>\n",
              "      <td>Stationary traffic from exit [45] to Felton Av...</td>\n",
              "      <td>NaN</td>\n",
              "      <td>I-405 S</td>\n",
              "      <td>R</td>\n",
              "      <td>Inglewood</td>\n",
              "      <td>Los Angeles</td>\n",
              "      <td>CA</td>\n",
              "      <td>90304</td>\n",
              "      <td>US</td>\n",
              "      <td>US/Pacific</td>\n",
              "      <td>KHHR</td>\n",
              "      <td>2020-12-24 19:53:00</td>\n",
              "      <td>57.0</td>\n",
              "      <td>57.0</td>\n",
              "      <td>40.0</td>\n",
              "      <td>30.09</td>\n",
              "      <td>10.00</td>\n",
              "      <td>CALM</td>\n",
              "      <td>0.0</td>\n",
              "      <td>0.00</td>\n",
              "      <td>Fair</td>\n",
              "      <td>False</td>\n",
              "      <td>False</td>\n",
              "      <td>False</td>\n",
              "      <td>False</td>\n",
              "      <td>True</td>\n",
              "      <td>False</td>\n",
              "      <td>False</td>\n",
              "      <td>False</td>\n",
              "      <td>False</td>\n",
              "      <td>False</td>\n",
              "      <td>False</td>\n",
              "      <td>False</td>\n",
              "      <td>False</td>\n",
              "      <td>Night</td>\n",
              "      <td>Night</td>\n",
              "      <td>Night</td>\n",
              "      <td>Night</td>\n",
              "    </tr>\n",
              "    <tr>\n",
              "      <th>1607438</th>\n",
              "      <td>A-1607439</td>\n",
              "      <td>2.0</td>\n",
              "      <td>2019-12-09 07:26:00</td>\n",
              "      <td>2019-12-09 08:02:33</td>\n",
              "      <td>33.985198</td>\n",
              "      <td>-117.549062</td>\n",
              "      <td>33.985198</td>\n",
              "      <td>-117.549062</td>\n",
              "      <td>0.000</td>\n",
              "      <td>At Limonite Ave - Accident.</td>\n",
              "      <td>NaN</td>\n",
              "      <td>I-15 S</td>\n",
              "      <td>R</td>\n",
              "      <td>Mira Loma</td>\n",
              "      <td>Riverside</td>\n",
              "      <td>CA</td>\n",
              "      <td>91752</td>\n",
              "      <td>US</td>\n",
              "      <td>US/Pacific</td>\n",
              "      <td>KRAL</td>\n",
              "      <td>2019-12-09 07:22:00</td>\n",
              "      <td>50.0</td>\n",
              "      <td>50.0</td>\n",
              "      <td>93.0</td>\n",
              "      <td>29.18</td>\n",
              "      <td>0.25</td>\n",
              "      <td>WSW</td>\n",
              "      <td>3.0</td>\n",
              "      <td>0.00</td>\n",
              "      <td>Fog</td>\n",
              "      <td>False</td>\n",
              "      <td>False</td>\n",
              "      <td>False</td>\n",
              "      <td>False</td>\n",
              "      <td>False</td>\n",
              "      <td>False</td>\n",
              "      <td>False</td>\n",
              "      <td>False</td>\n",
              "      <td>False</td>\n",
              "      <td>False</td>\n",
              "      <td>False</td>\n",
              "      <td>False</td>\n",
              "      <td>False</td>\n",
              "      <td>Day</td>\n",
              "      <td>Day</td>\n",
              "      <td>Day</td>\n",
              "      <td>Day</td>\n",
              "    </tr>\n",
              "    <tr>\n",
              "      <th>294791</th>\n",
              "      <td>A-294792</td>\n",
              "      <td>2.0</td>\n",
              "      <td>2016-09-08 13:13:43</td>\n",
              "      <td>2016-09-08 19:13:43</td>\n",
              "      <td>36.522750</td>\n",
              "      <td>-121.459480</td>\n",
              "      <td>36.522750</td>\n",
              "      <td>-121.459480</td>\n",
              "      <td>0.000</td>\n",
              "      <td>At Old Stage Rd - Accident.</td>\n",
              "      <td>NaN</td>\n",
              "      <td>El Camino Real S</td>\n",
              "      <td>R</td>\n",
              "      <td>Gonzales</td>\n",
              "      <td>Monterey</td>\n",
              "      <td>CA</td>\n",
              "      <td>93926</td>\n",
              "      <td>US</td>\n",
              "      <td>US/Pacific</td>\n",
              "      <td>KSNS</td>\n",
              "      <td>2016-09-08 12:53:00</td>\n",
              "      <td>66.9</td>\n",
              "      <td>NaN</td>\n",
              "      <td>66.0</td>\n",
              "      <td>30.12</td>\n",
              "      <td>10.00</td>\n",
              "      <td>WNW</td>\n",
              "      <td>10.4</td>\n",
              "      <td>NaN</td>\n",
              "      <td>Partly Cloudy</td>\n",
              "      <td>False</td>\n",
              "      <td>False</td>\n",
              "      <td>False</td>\n",
              "      <td>False</td>\n",
              "      <td>False</td>\n",
              "      <td>False</td>\n",
              "      <td>False</td>\n",
              "      <td>False</td>\n",
              "      <td>False</td>\n",
              "      <td>False</td>\n",
              "      <td>False</td>\n",
              "      <td>False</td>\n",
              "      <td>False</td>\n",
              "      <td>Day</td>\n",
              "      <td>Day</td>\n",
              "      <td>Day</td>\n",
              "      <td>Day</td>\n",
              "    </tr>\n",
              "    <tr>\n",
              "      <th>1801500</th>\n",
              "      <td>A-1801501</td>\n",
              "      <td>2.0</td>\n",
              "      <td>2020-12-01 18:40:10</td>\n",
              "      <td>2020-12-01 20:40:34</td>\n",
              "      <td>47.558087</td>\n",
              "      <td>-92.546092</td>\n",
              "      <td>47.572667</td>\n",
              "      <td>-92.544932</td>\n",
              "      <td>1.009</td>\n",
              "      <td>Accident on MN-135 (West) (US-53) from MN-169 ...</td>\n",
              "      <td>6472.0</td>\n",
              "      <td>Highway 53</td>\n",
              "      <td>R</td>\n",
              "      <td>Virginia</td>\n",
              "      <td>St. Louis</td>\n",
              "      <td>MN</td>\n",
              "      <td>55792-8015</td>\n",
              "      <td>US</td>\n",
              "      <td>US/Central</td>\n",
              "      <td>KEVM</td>\n",
              "      <td>2020-12-01 18:35:00</td>\n",
              "      <td>19.0</td>\n",
              "      <td>19.0</td>\n",
              "      <td>72.0</td>\n",
              "      <td>28.59</td>\n",
              "      <td>10.00</td>\n",
              "      <td>CALM</td>\n",
              "      <td>0.0</td>\n",
              "      <td>0.00</td>\n",
              "      <td>Fair</td>\n",
              "      <td>False</td>\n",
              "      <td>False</td>\n",
              "      <td>False</td>\n",
              "      <td>False</td>\n",
              "      <td>False</td>\n",
              "      <td>False</td>\n",
              "      <td>False</td>\n",
              "      <td>False</td>\n",
              "      <td>False</td>\n",
              "      <td>False</td>\n",
              "      <td>False</td>\n",
              "      <td>False</td>\n",
              "      <td>False</td>\n",
              "      <td>Night</td>\n",
              "      <td>Night</td>\n",
              "      <td>Night</td>\n",
              "      <td>Night</td>\n",
              "    </tr>\n",
              "  </tbody>\n",
              "</table>\n",
              "<p>191430 rows × 47 columns</p>\n",
              "</div>"
            ],
            "text/plain": [
              "                ID  Severity  ... Nautical_Twilight Astronomical_Twilight\n",
              "871862    A-871863       2.0  ...               Day                   Day\n",
              "1569705  A-1569706       3.0  ...               Day                   Day\n",
              "61625      A-61626       2.0  ...               Day                   Day\n",
              "1382179  A-1382180       2.0  ...               Day                   Day\n",
              "55318      A-55319       3.0  ...               Day                   Day\n",
              "...            ...       ...  ...               ...                   ...\n",
              "1457099  A-1457100       3.0  ...               Day                   Day\n",
              "960185    A-960186       2.0  ...             Night                 Night\n",
              "1607438  A-1607439       2.0  ...               Day                   Day\n",
              "294791    A-294792       2.0  ...               Day                   Day\n",
              "1801500  A-1801501       2.0  ...             Night                 Night\n",
              "\n",
              "[191430 rows x 47 columns]"
            ]
          },
          "metadata": {
            "tags": []
          },
          "execution_count": 121
        }
      ]
    },
    {
      "cell_type": "code",
      "metadata": {
        "colab": {
          "base_uri": "https://localhost:8080/",
          "height": 300
        },
        "id": "Mk5N2avqf-fa",
        "outputId": "7691059c-8b14-4ba0-9bb9-2e73c631465d"
      },
      "source": [
        "sns.scatterplot(x=sample_df.Start_Lng,y=sample_df.Start_Lat,size=0.001)"
      ],
      "execution_count": null,
      "outputs": [
        {
          "output_type": "execute_result",
          "data": {
            "text/plain": [
              "<matplotlib.axes._subplots.AxesSubplot at 0x7f5558e5d150>"
            ]
          },
          "metadata": {
            "tags": []
          },
          "execution_count": 122
        },
        {
          "output_type": "display_data",
          "data": {
            "image/png": "[encoded data removed]",
            "text/plain": [
              "<Figure size 432x288 with 1 Axes>"
            ]
          },
          "metadata": {
            "tags": [],
            "needs_background": "light"
          }
        }
      ]
    },
    {
      "cell_type": "markdown",
      "metadata": {
        "id": "tzKcCdPJtL06"
      },
      "source": [
        "#plotiing latitude and longitude on a map"
      ]
    },
    {
      "cell_type": "code",
      "metadata": {
        "id": "HihCpwduf-cl"
      },
      "source": [
        "import folium"
      ],
      "execution_count": null,
      "outputs": []
    },
    {
      "cell_type": "code",
      "metadata": {
        "colab": {
          "base_uri": "https://localhost:8080/",
          "height": 685
        },
        "id": "KwKVmmDef-Zr",
        "outputId": "12797aca-554a-4363-cb88-de57434d5e54"
      },
      "source": [
        "folium.Map()"
      ],
      "execution_count": null,
      "outputs": [
        {
          "output_type": "execute_result",
          "data": {
            "text/html": [
              "<div style=\"width:100%;\"><div style=\"position:relative;width:100%;height:0;padding-bottom:60%;\"><span style=\"color:#565656\">Make this Notebook Trusted to load map: File -> Trust Notebook</span><iframe src=\"about:blank\" style=\"position:absolute;width:100%;height:100%;left:0;top:0;border:none !important;\" data-html=%3C%21DOCTYPE%20html%3E%0A%3Chead%3E%20%20%20%20%0A%20%20%20%20%3Cmeta%20http-equiv%3D%22content-type%22%20content%3D%22text/html%3B%20charset%3DUTF-8%22%20/%3E%0A%20%20%20%20%3Cscript%3EL_PREFER_CANVAS%3Dfalse%3B%20L_NO_TOUCH%3Dfalse%3B%20L_DISABLE_3D%3Dfalse%3B%3C/script%3E%0A%20%20%20%20%3Cscript%20src%3D%22https%3A//cdn.jsdelivr.net/npm/leaflet%401.4.0/dist/leaflet.js%22%3E%3C/script%3E%0A%20%20%20%20%3Cscript%20src%3D%22https%3A//code.jquery.com/jquery-1.12.4.min.js%22%3E%3C/script%3E%0A%20%20%20%20%3Cscript%20src%3D%22https%3A//maxcdn.bootstrapcdn.com/bootstrap/3.2.0/js/bootstrap.min.js%22%3E%3C/script%3E%0A%20%20%20%20%3Cscript%20src%3D%22https%3A//cdnjs.cloudflare.com/ajax/libs/Leaflet.awesome-markers/2.0.2/leaflet.awesome-markers.js%22%3E%3C/script%3E%0A%20%20%20%20%3Clink%20rel%3D%22stylesheet%22%20href%3D%22https%3A//cdn.jsdelivr.net/npm/leaflet%401.4.0/dist/leaflet.css%22/%3E%0A%20%20%20%20%3Clink%20rel%3D%22stylesheet%22%20href%3D%22https%3A//maxcdn.bootstrapcdn.com/bootstrap/3.2.0/css/bootstrap.min.css%22/%3E%0A%20%20%20%20%3Clink%20rel%3D%22stylesheet%22%20href%3D%22https%3A//maxcdn.bootstrapcdn.com/bootstrap/3.2.0/css/bootstrap-theme.min.css%22/%3E%0A%20%20%20%20%3Clink%20rel%3D%22stylesheet%22%20href%3D%22https%3A//maxcdn.bootstrapcdn.com/font-awesome/4.6.3/css/font-awesome.min.css%22/%3E%0A%20%20%20%20%3Clink%20rel%3D%22stylesheet%22%20href%3D%22https%3A//cdnjs.cloudflare.com/ajax/libs/Leaflet.awesome-markers/2.0.2/leaflet.awesome-markers.css%22/%3E%0A%20%20%20%20%3Clink%20rel%3D%22stylesheet%22%20href%3D%22https%3A//rawcdn.githack.com/python-visualization/folium/master/folium/templates/leaflet.awesome.rotate.css%22/%3E%0A%20%20%20%20%3Cstyle%3Ehtml%2C%20body%20%7Bwidth%3A%20100%25%3Bheight%3A%20100%25%3Bmargin%3A%200%3Bpadding%3A%200%3B%7D%3C/style%3E%0A%20%20%20%20%3Cstyle%3E%23map%20%7Bposition%3Aabsolute%3Btop%3A0%3Bbottom%3A0%3Bright%3A0%3Bleft%3A0%3B%7D%3C/style%3E%0A%20%20%20%20%0A%20%20%20%20%3Cmeta%20name%3D%22viewport%22%20content%3D%22width%3Ddevice-width%2C%0A%20%20%20%20%20%20%20%20initial-scale%3D1.0%2C%20maximum-scale%3D1.0%2C%20user-scalable%3Dno%22%20/%3E%0A%20%20%20%20%3Cstyle%3E%23map_7ae3df225d724b1f85eb2781e812b0ff%20%7B%0A%20%20%20%20%20%20%20%20position%3A%20relative%3B%0A%20%20%20%20%20%20%20%20width%3A%20100.0%25%3B%0A%20%20%20%20%20%20%20%20height%3A%20100.0%25%3B%0A%20%20%20%20%20%20%20%20left%3A%200.0%25%3B%0A%20%20%20%20%20%20%20%20top%3A%200.0%25%3B%0A%20%20%20%20%20%20%20%20%7D%0A%20%20%20%20%3C/style%3E%0A%3C/head%3E%0A%3Cbody%3E%20%20%20%20%0A%20%20%20%20%0A%20%20%20%20%3Cdiv%20class%3D%22folium-map%22%20id%3D%22map_7ae3df225d724b1f85eb2781e812b0ff%22%20%3E%3C/div%3E%0A%3C/body%3E%0A%3Cscript%3E%20%20%20%20%0A%20%20%20%20%0A%20%20%20%20%0A%20%20%20%20%20%20%20%20var%20bounds%20%3D%20null%3B%0A%20%20%20%20%0A%0A%20%20%20%20var%20map_7ae3df225d724b1f85eb2781e812b0ff%20%3D%20L.map%28%0A%20%20%20%20%20%20%20%20%27map_7ae3df225d724b1f85eb2781e812b0ff%27%2C%20%7B%0A%20%20%20%20%20%20%20%20center%3A%20%5B0%2C%200%5D%2C%0A%20%20%20%20%20%20%20%20zoom%3A%201%2C%0A%20%20%20%20%20%20%20%20maxBounds%3A%20bounds%2C%0A%20%20%20%20%20%20%20%20layers%3A%20%5B%5D%2C%0A%20%20%20%20%20%20%20%20worldCopyJump%3A%20false%2C%0A%20%20%20%20%20%20%20%20crs%3A%20L.CRS.EPSG3857%2C%0A%20%20%20%20%20%20%20%20zoomControl%3A%20true%2C%0A%20%20%20%20%20%20%20%20%7D%29%3B%0A%0A%0A%20%20%20%20%0A%20%20%20%20var%20tile_layer_081f923cea3b444f93dd980e7ecc81fb%20%3D%20L.tileLayer%28%0A%20%20%20%20%20%20%20%20%27https%3A//%7Bs%7D.tile.openstreetmap.org/%7Bz%7D/%7Bx%7D/%7By%7D.png%27%2C%0A%20%20%20%20%20%20%20%20%7B%0A%20%20%20%20%20%20%20%20%22attribution%22%3A%20null%2C%0A%20%20%20%20%20%20%20%20%22detectRetina%22%3A%20false%2C%0A%20%20%20%20%20%20%20%20%22maxNativeZoom%22%3A%2018%2C%0A%20%20%20%20%20%20%20%20%22maxZoom%22%3A%2018%2C%0A%20%20%20%20%20%20%20%20%22minZoom%22%3A%200%2C%0A%20%20%20%20%20%20%20%20%22noWrap%22%3A%20false%2C%0A%20%20%20%20%20%20%20%20%22opacity%22%3A%201%2C%0A%20%20%20%20%20%20%20%20%22subdomains%22%3A%20%22abc%22%2C%0A%20%20%20%20%20%20%20%20%22tms%22%3A%20false%0A%7D%29.addTo%28map_7ae3df225d724b1f85eb2781e812b0ff%29%3B%0A%3C/script%3E onload=\"this.contentDocument.open();this.contentDocument.write(    decodeURIComponent(this.getAttribute('data-html')));this.contentDocument.close();\" allowfullscreen webkitallowfullscreen mozallowfullscreen></iframe></div></div>"
            ],
            "text/plain": [
              "<folium.folium.Map at 0x7f5557846610>"
            ]
          },
          "metadata": {
            "tags": []
          },
          "execution_count": 124
        }
      ]
    },
    {
      "cell_type": "markdown",
      "metadata": {
        "id": "eICMuvEDt_TJ"
      },
      "source": [
        "lets plot one point on map"
      ]
    },
    {
      "cell_type": "code",
      "metadata": {
        "id": "CWBEfVKVf-XD"
      },
      "source": [
        "latitude,longitude= df.Start_Lat[0],df.Start_Lng[0]"
      ],
      "execution_count": null,
      "outputs": []
    },
    {
      "cell_type": "code",
      "metadata": {
        "colab": {
          "base_uri": "https://localhost:8080/"
        },
        "id": "OkXxUvVsf-T9",
        "outputId": "dc7b78a6-93cd-4810-bdab-625443f3937c"
      },
      "source": [
        "latitude,longitude"
      ],
      "execution_count": null,
      "outputs": [
        {
          "output_type": "execute_result",
          "data": {
            "text/plain": [
              "(34.808868, -82.26915699999998)"
            ]
          },
          "metadata": {
            "tags": []
          },
          "execution_count": 126
        }
      ]
    },
    {
      "cell_type": "markdown",
      "metadata": {
        "id": "FJxL1lWuu6FA"
      },
      "source": [
        "now lets apply this marker to map nad plotting one accident"
      ]
    },
    {
      "cell_type": "code",
      "metadata": {
        "colab": {
          "base_uri": "https://localhost:8080/",
          "height": 685
        },
        "id": "29GZylo7f-RI",
        "outputId": "1d8c95a8-8cf5-48fc-9dcc-2fe49ffadf28"
      },
      "source": [
        "map = folium.Map()#creating map\n",
        "marker=folium.Marker((latitude, longitude))#creating marker\n",
        "marker.add_to(map)#adding marker to map\n",
        "map"
      ],
      "execution_count": null,
      "outputs": [
        {
          "output_type": "execute_result",
          "data": {
            "text/html": [
              "<div style=\"width:100%;\"><div style=\"position:relative;width:100%;height:0;padding-bottom:60%;\"><span style=\"color:#565656\">Make this Notebook Trusted to load map: File -> Trust Notebook</span><iframe src=\"about:blank\" style=\"position:absolute;width:100%;height:100%;left:0;top:0;border:none !important;\" data-html=%3C%21DOCTYPE%20html%3E%0A%3Chead%3E%20%20%20%20%0A%20%20%20%20%3Cmeta%20http-equiv%3D%22content-type%22%20content%3D%22text/html%3B%20charset%3DUTF-8%22%20/%3E%0A%20%20%20%20%3Cscript%3EL_PREFER_CANVAS%3Dfalse%3B%20L_NO_TOUCH%3Dfalse%3B%20L_DISABLE_3D%3Dfalse%3B%3C/script%3E%0A%20%20%20%20%3Cscript%20src%3D%22https%3A//cdn.jsdelivr.net/npm/leaflet%401.4.0/dist/leaflet.js%22%3E%3C/script%3E%0A%20%20%20%20%3Cscript%20src%3D%22https%3A//code.jquery.com/jquery-1.12.4.min.js%22%3E%3C/script%3E%0A%20%20%20%20%3Cscript%20src%3D%22https%3A//maxcdn.bootstrapcdn.com/bootstrap/3.2.0/js/bootstrap.min.js%22%3E%3C/script%3E%0A%20%20%20%20%3Cscript%20src%3D%22https%3A//cdnjs.cloudflare.com/ajax/libs/Leaflet.awesome-markers/2.0.2/leaflet.awesome-markers.js%22%3E%3C/script%3E%0A%20%20%20%20%3Clink%20rel%3D%22stylesheet%22%20href%3D%22https%3A//cdn.jsdelivr.net/npm/leaflet%401.4.0/dist/leaflet.css%22/%3E%0A%20%20%20%20%3Clink%20rel%3D%22stylesheet%22%20href%3D%22https%3A//maxcdn.bootstrapcdn.com/bootstrap/3.2.0/css/bootstrap.min.css%22/%3E%0A%20%20%20%20%3Clink%20rel%3D%22stylesheet%22%20href%3D%22https%3A//maxcdn.bootstrapcdn.com/bootstrap/3.2.0/css/bootstrap-theme.min.css%22/%3E%0A%20%20%20%20%3Clink%20rel%3D%22stylesheet%22%20href%3D%22https%3A//maxcdn.bootstrapcdn.com/font-awesome/4.6.3/css/font-awesome.min.css%22/%3E%0A%20%20%20%20%3Clink%20rel%3D%22stylesheet%22%20href%3D%22https%3A//cdnjs.cloudflare.com/ajax/libs/Leaflet.awesome-markers/2.0.2/leaflet.awesome-markers.css%22/%3E%0A%20%20%20%20%3Clink%20rel%3D%22stylesheet%22%20href%3D%22https%3A//rawcdn.githack.com/python-visualization/folium/master/folium/templates/leaflet.awesome.rotate.css%22/%3E%0A%20%20%20%20%3Cstyle%3Ehtml%2C%20body%20%7Bwidth%3A%20100%25%3Bheight%3A%20100%25%3Bmargin%3A%200%3Bpadding%3A%200%3B%7D%3C/style%3E%0A%20%20%20%20%3Cstyle%3E%23map%20%7Bposition%3Aabsolute%3Btop%3A0%3Bbottom%3A0%3Bright%3A0%3Bleft%3A0%3B%7D%3C/style%3E%0A%20%20%20%20%0A%20%20%20%20%3Cmeta%20name%3D%22viewport%22%20content%3D%22width%3Ddevice-width%2C%0A%20%20%20%20%20%20%20%20initial-scale%3D1.0%2C%20maximum-scale%3D1.0%2C%20user-scalable%3Dno%22%20/%3E%0A%20%20%20%20%3Cstyle%3E%23map_cbbb533a8a1f42c0a53d006646868cf5%20%7B%0A%20%20%20%20%20%20%20%20position%3A%20relative%3B%0A%20%20%20%20%20%20%20%20width%3A%20100.0%25%3B%0A%20%20%20%20%20%20%20%20height%3A%20100.0%25%3B%0A%20%20%20%20%20%20%20%20left%3A%200.0%25%3B%0A%20%20%20%20%20%20%20%20top%3A%200.0%25%3B%0A%20%20%20%20%20%20%20%20%7D%0A%20%20%20%20%3C/style%3E%0A%3C/head%3E%0A%3Cbody%3E%20%20%20%20%0A%20%20%20%20%0A%20%20%20%20%3Cdiv%20class%3D%22folium-map%22%20id%3D%22map_cbbb533a8a1f42c0a53d006646868cf5%22%20%3E%3C/div%3E%0A%3C/body%3E%0A%3Cscript%3E%20%20%20%20%0A%20%20%20%20%0A%20%20%20%20%0A%20%20%20%20%20%20%20%20var%20bounds%20%3D%20null%3B%0A%20%20%20%20%0A%0A%20%20%20%20var%20map_cbbb533a8a1f42c0a53d006646868cf5%20%3D%20L.map%28%0A%20%20%20%20%20%20%20%20%27map_cbbb533a8a1f42c0a53d006646868cf5%27%2C%20%7B%0A%20%20%20%20%20%20%20%20center%3A%20%5B0%2C%200%5D%2C%0A%20%20%20%20%20%20%20%20zoom%3A%201%2C%0A%20%20%20%20%20%20%20%20maxBounds%3A%20bounds%2C%0A%20%20%20%20%20%20%20%20layers%3A%20%5B%5D%2C%0A%20%20%20%20%20%20%20%20worldCopyJump%3A%20false%2C%0A%20%20%20%20%20%20%20%20crs%3A%20L.CRS.EPSG3857%2C%0A%20%20%20%20%20%20%20%20zoomControl%3A%20true%2C%0A%20%20%20%20%20%20%20%20%7D%29%3B%0A%0A%0A%20%20%20%20%0A%20%20%20%20var%20tile_layer_aac1db742c2e4ae4a70010f8c3b779eb%20%3D%20L.tileLayer%28%0A%20%20%20%20%20%20%20%20%27https%3A//%7Bs%7D.tile.openstreetmap.org/%7Bz%7D/%7Bx%7D/%7By%7D.png%27%2C%0A%20%20%20%20%20%20%20%20%7B%0A%20%20%20%20%20%20%20%20%22attribution%22%3A%20null%2C%0A%20%20%20%20%20%20%20%20%22detectRetina%22%3A%20false%2C%0A%20%20%20%20%20%20%20%20%22maxNativeZoom%22%3A%2018%2C%0A%20%20%20%20%20%20%20%20%22maxZoom%22%3A%2018%2C%0A%20%20%20%20%20%20%20%20%22minZoom%22%3A%200%2C%0A%20%20%20%20%20%20%20%20%22noWrap%22%3A%20false%2C%0A%20%20%20%20%20%20%20%20%22opacity%22%3A%201%2C%0A%20%20%20%20%20%20%20%20%22subdomains%22%3A%20%22abc%22%2C%0A%20%20%20%20%20%20%20%20%22tms%22%3A%20false%0A%7D%29.addTo%28map_cbbb533a8a1f42c0a53d006646868cf5%29%3B%0A%20%20%20%20%0A%20%20%20%20%20%20%20%20var%20marker_a4caedbfc85a466497ac3f1c0ac92f55%20%3D%20L.marker%28%0A%20%20%20%20%20%20%20%20%20%20%20%20%5B34.808868%2C%20-82.26915699999998%5D%2C%0A%20%20%20%20%20%20%20%20%20%20%20%20%7B%0A%20%20%20%20%20%20%20%20%20%20%20%20%20%20%20%20icon%3A%20new%20L.Icon.Default%28%29%2C%0A%20%20%20%20%20%20%20%20%20%20%20%20%20%20%20%20%7D%0A%20%20%20%20%20%20%20%20%20%20%20%20%29.addTo%28map_cbbb533a8a1f42c0a53d006646868cf5%29%3B%0A%20%20%20%20%20%20%20%20%0A%3C/script%3E onload=\"this.contentDocument.open();this.contentDocument.write(    decodeURIComponent(this.getAttribute('data-html')));this.contentDocument.close();\" allowfullscreen webkitallowfullscreen mozallowfullscreen></iframe></div></div>"
            ],
            "text/plain": [
              "<folium.folium.Map at 0x7f555780a6d0>"
            ]
          },
          "metadata": {
            "tags": []
          },
          "execution_count": 127
        }
      ]
    },
    {
      "cell_type": "markdown",
      "metadata": {
        "id": "HUGms_ujWdzg"
      },
      "source": [
        ""
      ]
    },
    {
      "cell_type": "markdown",
      "metadata": {
        "id": "t5TZ3LluWgy_"
      },
      "source": [
        "since we plotted only one accidents,need to iterate over atleast some accidents and plot them accordingly"
      ]
    },
    {
      "cell_type": "code",
      "metadata": {
        "colab": {
          "base_uri": "https://localhost:8080/"
        },
        "id": "J05AolLeWebA",
        "outputId": "dfa587e5-dc61-419e-ff42-26ab3475573c"
      },
      "source": [
        "\n",
        "for i,j in df.sample(10)[[\"Start_Lat\",\"Start_Lng\"]].iterrows():\n",
        "  print(i,j)\n",
        "\n"
      ],
      "execution_count": null,
      "outputs": [
        {
          "output_type": "stream",
          "text": [
            "280040 Start_Lat    39.756786\n",
            "Start_Lng   -75.544159\n",
            "Name: 280040, dtype: float64\n",
            "471556 Start_Lat    41.62442\n",
            "Start_Lng   -87.04969\n",
            "Name: 471556, dtype: float64\n",
            "846314 Start_Lat     33.943147\n",
            "Start_Lng   -117.282506\n",
            "Name: 846314, dtype: float64\n",
            "1044242 Start_Lat    36.206360\n",
            "Start_Lng   -86.775902\n",
            "Name: 1044242, dtype: float64\n",
            "1100642 Start_Lat    40.847015\n",
            "Start_Lng   -73.933464\n",
            "Name: 1100642, dtype: float64\n",
            "745212 Start_Lat     37.897428\n",
            "Start_Lng   -122.081902\n",
            "Name: 745212, dtype: float64\n",
            "1126402 Start_Lat     33.954762\n",
            "Start_Lng   -117.305031\n",
            "Name: 1126402, dtype: float64\n",
            "1209272 Start_Lat     45.21486\n",
            "Start_Lng   -118.02496\n",
            "Name: 1209272, dtype: float64\n",
            "352875 Start_Lat    25.706881\n",
            "Start_Lng   -80.317719\n",
            "Name: 352875, dtype: float64\n",
            "1290779 Start_Lat    35.23823\n",
            "Start_Lng   -80.89848\n",
            "Name: 1290779, dtype: float64\n"
          ],
          "name": "stdout"
        }
      ]
    },
    {
      "cell_type": "markdown",
      "metadata": {
        "id": "JMUsXpAxgM7B"
      },
      "source": [
        "based on density of accidents,need to show a heatmap"
      ]
    },
    {
      "cell_type": "code",
      "metadata": {
        "id": "QBt8KqqtWfYg"
      },
      "source": [
        "from folium.plugins import HeatMap"
      ],
      "execution_count": null,
      "outputs": []
    },
    {
      "cell_type": "markdown",
      "metadata": {
        "id": "U187WPLEg7iW"
      },
      "source": [
        "need to create list of lat,long pairs like [[lat,long],[lat,long],[lat,long]] and then plot it on heatmap"
      ]
    },
    {
      "cell_type": "code",
      "metadata": {
        "colab": {
          "base_uri": "https://localhost:8080/"
        },
        "id": "3A2W4RZGWfV9",
        "outputId": "da6aedf5-33ad-4bd9-c4ba-36fbf169a097"
      },
      "source": [
        "#creating a list of lat,long pairs:\n",
        "list(zip(list(df.Start_Lat),list(df.Start_Lng)))"
      ],
      "execution_count": null,
      "outputs": [
        {
          "output_type": "execute_result",
          "data": {
            "text/plain": [
              "[(34.808868, -82.26915699999998),\n",
              " (35.09008, -80.74556),\n",
              " (37.14573, -121.985052),\n",
              " (39.11039, -119.773781),\n",
              " (26.102942, -80.265091),\n",
              " (35.34824000000001, -80.84722099999998),\n",
              " (39.52397, -107.777),\n",
              " (34.034017, -118.026972),\n",
              " (35.86349000000001, -86.83168),\n",
              " (34.42633, -118.5851),\n",
              " (28.021709, -82.203583),\n",
              " (40.91221, -73.875099),\n",
              " (32.86693, -96.66617),\n",
              " (32.265141, -110.90358700000002),\n",
              " (41.05982, -74.25092),\n",
              " (29.723339000000006, -95.497337),\n",
              " (34.103172, -118.249969),\n",
              " (34.186595000000004, -117.439427),\n",
              " (42.501929, -82.918056),\n",
              " (41.556862, -73.779556),\n",
              " (33.918056, -84.33802800000002),\n",
              " (35.596561, -78.759743),\n",
              " (29.640491, -95.482445),\n",
              " (37.40691, -79.913933),\n",
              " (40.9122, -73.88461),\n",
              " (37.994461, -122.069885),\n",
              " (32.87109, -80.010628),\n",
              " (30.426109000000004, -97.753906),\n",
              " (33.774159000000004, -118.049783),\n",
              " (43.22039, -85.500961),\n",
              " (25.684458, -80.445924),\n",
              " (43.003693, -78.412064),\n",
              " (39.922646, -86.11689),\n",
              " (30.420996, -91.140549),\n",
              " (35.23932999999999, -80.856415),\n",
              " (35.05473, -80.85037),\n",
              " (34.037781, -117.320625),\n",
              " (37.504467, -77.084549),\n",
              " (33.38548, -111.9432),\n",
              " (43.100197, -77.547005),\n",
              " (40.428002, -79.92677900000002),\n",
              " (38.510303, -121.464525),\n",
              " (42.764778, -73.760338),\n",
              " (28.698406, -82.451477),\n",
              " (32.7584, -97.25763),\n",
              " (40.619857, -122.365844),\n",
              " (33.913502, -118.143219),\n",
              " (44.852409, -93.247139),\n",
              " (29.690945000000006, -95.417068),\n",
              " (34.03542, -118.274465),\n",
              " (26.61341, -80.068784),\n",
              " (42.972679, -85.677254),\n",
              " (25.685477, -80.414796),\n",
              " (46.325429, -94.962033),\n",
              " (39.826813, -84.908905),\n",
              " (38.644922, -121.383059),\n",
              " (35.25935, -80.77776),\n",
              " (40.070709, -83.134422),\n",
              " (38.48819, -77.38915),\n",
              " (37.869022, -77.453568),\n",
              " (43.005009, -83.684975),\n",
              " (42.967983, -85.683899),\n",
              " (42.972506, -73.831128),\n",
              " (34.134365, -117.957603),\n",
              " (40.353738, -74.472659),\n",
              " (32.78758, -96.79058),\n",
              " (31.759741, -106.484001),\n",
              " (32.857914, -96.651512),\n",
              " (30.334675, -81.670998),\n",
              " (33.940923, -117.249238),\n",
              " (28.981974, -81.98734300000002),\n",
              " (33.4737, -112.26643),\n",
              " (32.805706, -117.156586),\n",
              " (38.864871, -76.846793),\n",
              " (41.755451, -72.650444),\n",
              " (37.8945, -122.116587),\n",
              " (39.617117, -120.591355),\n",
              " (36.577457, -121.908821),\n",
              " (33.900101, -84.447914),\n",
              " (42.928024, -83.691177),\n",
              " (39.71571, -84.219994),\n",
              " (41.773296, -87.993965),\n",
              " (37.328154, -121.111046),\n",
              " (44.95075, -93.09934),\n",
              " (34.007862, -117.52449),\n",
              " (26.429920000000006, -80.090312),\n",
              " (35.25833499999999, -80.794762),\n",
              " (38.80037, -77.11725),\n",
              " (35.266849, -119.030632),\n",
              " (38.384973, -75.422516),\n",
              " (37.884749, -122.308882),\n",
              " (44.570877, -92.645325),\n",
              " (40.703041, -73.566048),\n",
              " (43.077332, -77.546585),\n",
              " (29.702297, -95.359451),\n",
              " (41.80175, -88.16736999999998),\n",
              " (40.969318, -73.77409399999998),\n",
              " (35.07973, -90.06555),\n",
              " (42.229309, -88.144798),\n",
              " (40.67361500000001, -73.857185),\n",
              " (34.247787, -118.42585),\n",
              " (37.010113, -94.548073),\n",
              " (39.63915, -75.09758000000002),\n",
              " (45.52641, -122.47999),\n",
              " (33.043757, -111.987923),\n",
              " (32.295361, -111.011978),\n",
              " (41.256569, -95.940956),\n",
              " (40.68459, -73.64304),\n",
              " (29.849245, -95.411613),\n",
              " (39.301532, -121.671249),\n",
              " (34.320664, -118.495922),\n",
              " (35.059368, -85.131248),\n",
              " (34.153442, -118.6521),\n",
              " (39.5652, -104.87226),\n",
              " (44.88001, -93.14115),\n",
              " (40.931221, -73.855896),\n",
              " (43.875922, -95.113021),\n",
              " (38.000336, -121.260314),\n",
              " (38.79095, -121.29229),\n",
              " (42.495152, -82.919205),\n",
              " (37.74219, -121.525634),\n",
              " (34.06514, -118.00026),\n",
              " (33.713829, -112.285217),\n",
              " (35.45930900000001, -97.491463),\n",
              " (29.70736, -95.25416),\n",
              " (33.95966, -81.22747),\n",
              " (35.963348, -79.018662),\n",
              " (33.923618, -98.503296),\n",
              " (34.052890999999995, -117.548149),\n",
              " (34.063072, -118.249306),\n",
              " (40.820934, -78.01289799999998),\n",
              " (40.69675, -111.94854),\n",
              " (35.590382, -78.63269),\n",
              " (43.18084, -77.59918),\n",
              " (37.756392, -122.148785),\n",
              " (25.942696, -80.20109599999998),\n",
              " (38.799801, -77.598946),\n",
              " (40.070331, -75.151593),\n",
              " (39.78436, -105.08863999999998),\n",
              " (45.664909, -122.434761),\n",
              " (34.005801, -118.176035),\n",
              " (39.966751, -76.705742),\n",
              " (34.753899, -86.740997),\n",
              " (33.884048, -118.351929),\n",
              " (38.454845, -120.867759),\n",
              " (34.04821, -118.26597),\n",
              " (40.64525, -75.42576),\n",
              " (39.01001, -122.05225),\n",
              " (32.3116, -80.979507),\n",
              " (36.171581, -86.869011),\n",
              " (34.14112, -118.17972),\n",
              " (33.92638, -118.378448),\n",
              " (30.424627, -97.671585),\n",
              " (34.071883, -117.872309),\n",
              " (44.347912, -88.737572),\n",
              " (42.430195, -71.10301199999998),\n",
              " (45.58187, -122.67851),\n",
              " (41.9589, -71.06367),\n",
              " (35.375984, -118.931871),\n",
              " (30.403622, -81.564785),\n",
              " (34.201108000000005, -118.473406),\n",
              " (38.22317, -122.61118),\n",
              " (47.650143, -122.347412),\n",
              " (46.21548, -123.86201),\n",
              " (25.627335, -80.37943299999998),\n",
              " (39.924939, -86.58699399999998),\n",
              " (38.918324, -76.95503199999997),\n",
              " (43.84918, -84.02081),\n",
              " (26.456837, -80.089449),\n",
              " (41.224018, -96.043098),\n",
              " (41.177315, -73.17304200000002),\n",
              " (39.014515, -77.48455),\n",
              " (30.464523, -90.917725),\n",
              " (45.542439, -122.484029),\n",
              " (34.40578, -88.9207),\n",
              " (38.017952, -121.894058),\n",
              " (30.456015, -97.666321),\n",
              " (41.27264, -72.970589),\n",
              " (45.123852, -93.33902),\n",
              " (34.557976000000004, -118.132591),\n",
              " (39.841164, -75.404449),\n",
              " (34.165503, -118.492347),\n",
              " (45.531761, -122.565521),\n",
              " (38.358604, -121.934029),\n",
              " (35.585209000000006, -97.5672),\n",
              " (27.76623, -82.768204),\n",
              " (40.611329, -111.90618),\n",
              " (35.84600800000001, -78.836472),\n",
              " (33.931194, -117.993202),\n",
              " (40.18096, -74.10131),\n",
              " (33.544922, -81.677643),\n",
              " (37.47018, -121.90886),\n",
              " (35.221828, -80.828453),\n",
              " (29.784912, -95.688347),\n",
              " (44.31172, -93.99379),\n",
              " (32.958290000000005, -97.14342),\n",
              " (32.71983, -117.11757),\n",
              " (39.26285, -76.56695),\n",
              " (33.46147, -112.28829),\n",
              " (40.903866, -74.15786700000002),\n",
              " (33.68363, -117.87666000000002),\n",
              " (34.693901000000004, -82.733963),\n",
              " (29.21297, -81.10059),\n",
              " (34.82976, -82.29406),\n",
              " (39.632698, -104.906487),\n",
              " (42.26919, -83.2251),\n",
              " (39.976933, -75.198631),\n",
              " (38.521811, -78.836011),\n",
              " (38.657713, -121.363862),\n",
              " (39.105335, -94.709862),\n",
              " (37.267, -80.13744200000002),\n",
              " (34.036971, -118.43854),\n",
              " (33.49411, -86.330162),\n",
              " (29.797159000000004, -95.031898),\n",
              " (30.337242, -81.669167),\n",
              " (35.11739, -81.306679),\n",
              " (36.521611, -121.44837),\n",
              " (33.895256, -84.263733),\n",
              " (44.86555, -93.29896),\n",
              " (32.768566, -96.674858),\n",
              " (25.734321, -80.251918),\n",
              " (34.698074, -82.30504599999998),\n",
              " (29.79659, -95.579627),\n",
              " (33.651927, -84.497727),\n",
              " (37.948418, -121.300972),\n",
              " (38.938068, -94.398103),\n",
              " (33.65761, -117.74564),\n",
              " (34.03078, -118.21791),\n",
              " (29.186419, -82.185303),\n",
              " (40.355076, -76.379272),\n",
              " (32.472916, -93.796127),\n",
              " (27.95956, -82.42554),\n",
              " (37.634975, -122.086945),\n",
              " (40.484029, -74.302049),\n",
              " (33.997040000000005, -117.931015),\n",
              " (37.789969, -121.291099),\n",
              " (39.7174, -86.12572),\n",
              " (45.828438, -122.843275),\n",
              " (28.348536, -81.56498),\n",
              " (47.463745, -122.29391499999998),\n",
              " (38.23583, -85.61639),\n",
              " (26.31321, -80.117207),\n",
              " (40.68915300000001, -74.3014),\n",
              " (35.162048, -80.970139),\n",
              " (33.516411, -81.729156),\n",
              " (34.09943, -117.846367),\n",
              " (33.732585, -117.989329),\n",
              " (36.77562, -119.784837),\n",
              " (34.034725, -117.974474),\n",
              " (34.259491, -118.437836),\n",
              " (39.74004, -84.194923),\n",
              " (38.432375, -122.715965),\n",
              " (37.622681, -77.457741),\n",
              " (39.865639, -88.972939),\n",
              " (35.423435, -97.618668),\n",
              " (37.696018, -122.115387),\n",
              " (39.651718, -86.05403100000002),\n",
              " (39.327599, -77.582863),\n",
              " (45.041573, -93.28492),\n",
              " (34.061809000000004, -118.457189),\n",
              " (41.580649, -72.899661),\n",
              " (44.736202, -119.191689),\n",
              " (43.04277, -124.12115),\n",
              " (26.46674, -80.08927),\n",
              " (35.304, -80.84886),\n",
              " (33.89956, -117.47298),\n",
              " (38.008226, -121.871205),\n",
              " (28.285931, -80.608664),\n",
              " (42.385137, -83.280821),\n",
              " (37.620403, -122.425995),\n",
              " (33.908318, -117.882774),\n",
              " (44.144381, -69.925377),\n",
              " (44.030651, -92.488159),\n",
              " (35.496719, -97.601158),\n",
              " (40.817029, -73.836497),\n",
              " (33.994858, -80.958282),\n",
              " (41.597691, -93.718437),\n",
              " (35.557968, -97.638351),\n",
              " (33.461964, -112.151688),\n",
              " (37.64955, -122.45233),\n",
              " (40.654079, -74.007675),\n",
              " (36.34705, -86.87468),\n",
              " (30.466084, -97.844037),\n",
              " (43.043734, -83.723338),\n",
              " (26.70676, -80.11098),\n",
              " (40.196327, -76.108688),\n",
              " (38.562206, -121.487221),\n",
              " (39.062382, -94.6259),\n",
              " (39.343011, -120.337151),\n",
              " (36.175961, -86.76619699999998),\n",
              " (42.94145, -78.76647),\n",
              " (29.734968, -95.347444),\n",
              " (33.946648, -118.368512),\n",
              " (35.551079, -97.565651),\n",
              " (42.36147, -83.07294),\n",
              " (34.14565, -118.75722),\n",
              " (42.397328, -121.36068),\n",
              " (37.54805, -77.35896),\n",
              " (41.17161, -73.191683),\n",
              " (40.79871, -74.189888),\n",
              " (40.247822, -75.635788),\n",
              " (34.433743, -118.385757),\n",
              " (28.66436, -81.38871999999998),\n",
              " (44.11386, -123.18217),\n",
              " (35.094120000000004, -81.854828),\n",
              " (42.167667, -71.937218),\n",
              " (41.877819, -93.571083),\n",
              " (33.535, -112.186234),\n",
              " (40.70396, -111.93896),\n",
              " (33.18652, -97.108223),\n",
              " (34.185817, -118.217363),\n",
              " (38.597375, -121.419965),\n",
              " (39.88203, -86.244186),\n",
              " (40.160965, -76.392044),\n",
              " (34.121311, -117.514503),\n",
              " (38.258007, -85.765343),\n",
              " (39.187038, -77.169777),\n",
              " (34.028813, -117.575703),\n",
              " (42.489758, -73.677544),\n",
              " (34.892540000000004, -82.160202),\n",
              " (33.996331, -117.92722),\n",
              " (40.73724, -73.172539),\n",
              " (38.111683, -85.672958),\n",
              " (43.138062, -77.60041),\n",
              " (33.291782, -111.904217),\n",
              " (34.994781, -81.978729),\n",
              " (42.666294, -73.75489),\n",
              " (44.912191, -122.97781299999998),\n",
              " (30.350527000000003, -97.500694),\n",
              " (33.089451000000004, -117.301628),\n",
              " (34.93185, -81.08152),\n",
              " (26.564581, -81.856346),\n",
              " (38.59085, -121.50469),\n",
              " (32.90871, -96.899732),\n",
              " (34.436634000000005, -82.68933100000002),\n",
              " (38.989737, -76.626846),\n",
              " (34.002491, -118.411911),\n",
              " (40.065258, -75.320206),\n",
              " (37.552776, -77.443588),\n",
              " (29.9518, -90.06726),\n",
              " (34.051727, -80.923485),\n",
              " (34.856169, -82.267323),\n",
              " (30.63799, -90.5242),\n",
              " (34.044212, -118.169844),\n",
              " (38.684384, -121.72836),\n",
              " (45.93963, -123.91922),\n",
              " (28.51001, -81.248032),\n",
              " (42.153564, -87.988268),\n",
              " (39.250969, -76.681099),\n",
              " (39.07931, -94.49073),\n",
              " (30.44211, -91.0401),\n",
              " (40.284412, -79.39363),\n",
              " (41.668731, -72.844148),\n",
              " (40.776439, -73.467088),\n",
              " (32.475221999999995, -93.797218),\n",
              " (43.297569, -73.678947),\n",
              " (34.861706, -82.276009),\n",
              " (30.36783, -81.66879),\n",
              " (25.87242, -80.20888000000002),\n",
              " (37.539156, -77.333116),\n",
              " (30.435011, -84.201233),\n",
              " (33.5411, -84.267738),\n",
              " (39.20583, -76.68930999999998),\n",
              " (29.813528, -95.317154),\n",
              " (39.88358, -75.24481),\n",
              " (41.843773, -87.9702),\n",
              " (41.87688, -88.23516),\n",
              " (42.808024, -121.835043),\n",
              " (32.792156, -96.729103),\n",
              " (34.066146999999994, -117.509277),\n",
              " (25.945438, -80.186628),\n",
              " (40.285888, -76.821141),\n",
              " (38.660194, -121.071808),\n",
              " (33.90214, -118.18644),\n",
              " (42.14015, -121.88498),\n",
              " (28.66403, -81.27516899999998),\n",
              " (38.33462, -77.49722),\n",
              " (40.812576, -74.39267),\n",
              " (36.845222, -76.283592),\n",
              " (33.901752, -118.370316),\n",
              " (33.8541, -117.79493),\n",
              " (41.49366, -94.23755),\n",
              " (29.91696, -95.41274),\n",
              " (45.082928, -93.402077),\n",
              " (35.39197, -97.49846),\n",
              " (35.2943, -118.757423),\n",
              " (38.743896, -90.412605),\n",
              " (37.282066, -121.808708),\n",
              " (33.992068, -118.402353),\n",
              " (33.778082, -117.789865),\n",
              " (38.544779, -121.47398),\n",
              " (38.55085800000001, -121.422653),\n",
              " (40.83593, -73.870201),\n",
              " (45.562813, -122.590408),\n",
              " (47.46919000000001, -122.26836000000002),\n",
              " (40.888208, -80.723656),\n",
              " (25.733028, -80.318649),\n",
              " (42.36298, -83.12684),\n",
              " (33.67016, -117.689803),\n",
              " (38.93532, -94.72042),\n",
              " (40.24158900000001, -75.575129),\n",
              " (35.82915900000001, -78.884323),\n",
              " (45.27793, -123.010934),\n",
              " (40.39204, -74.09959),\n",
              " (41.22699, -95.990227),\n",
              " (27.960513, -82.75910999999998),\n",
              " (41.04086, -73.83776),\n",
              " (36.206554, -86.77624499999997),\n",
              " (34.24316, -117.28183),\n",
              " (33.403724, -84.599029),\n",
              " (29.905119, -95.31073),\n",
              " (29.677942, -95.352493),\n",
              " (27.388454, -82.487072),\n",
              " (39.15658, -76.60065),\n",
              " (30.877176, -88.044342),\n",
              " (30.139681, -81.537231),\n",
              " (34.15311, -118.36934),\n",
              " (33.46222, -112.047433),\n",
              " (34.06132, -117.396399),\n",
              " (39.74847000000001, -77.56276700000002),\n",
              " (34.128815, -118.346886),\n",
              " (32.17783, -110.975853),\n",
              " (32.779443, -117.112515),\n",
              " (37.959408, -120.236236),\n",
              " (39.020229, -94.175552),\n",
              " (40.426502, -80.05695300000002),\n",
              " (38.299835, -122.034061),\n",
              " (44.91861, -122.99738),\n",
              " (39.870079, -75.005981),\n",
              " (42.99213, -83.71045),\n",
              " (36.02177800000001, -86.654488),\n",
              " (34.19957, -118.338249),\n",
              " (42.03027, -88.27771),\n",
              " (31.77798, -106.46249),\n",
              " (35.240379, -80.920937),\n",
              " (33.411137, -86.97020699999999),\n",
              " (26.203583, -80.141755),\n",
              " (38.85297, -77.39779),\n",
              " (38.93507, -94.733157),\n",
              " (47.16736, -122.47563),\n",
              " (41.299488, -96.014259),\n",
              " (38.714451, -90.447556),\n",
              " (37.34535, -77.339744),\n",
              " (29.840179, -95.38967),\n",
              " (32.663940000000004, -96.90086),\n",
              " (45.44009000000001, -122.56884),\n",
              " (33.551689, -117.672981),\n",
              " (34.774818, -80.790314),\n",
              " (42.24531, -71.199),\n",
              " (28.069836, -82.354057),\n",
              " (39.12569000000001, -121.57576),\n",
              " (37.846089, -122.48667),\n",
              " (39.154588, -94.587209),\n",
              " (38.86012, -77.17886999999997),\n",
              " (41.88232100000001, -112.481903),\n",
              " (38.45626, -121.94223999999998),\n",
              " (41.99173, -87.87095),\n",
              " (41.989578, -87.86792),\n",
              " (38.84218, -104.81505),\n",
              " (40.440636, -122.287979),\n",
              " (28.171101, -81.301735),\n",
              " (29.625639000000003, -95.605909),\n",
              " (36.26545, -86.664017),\n",
              " (35.2719, -89.98331999999998),\n",
              " (34.065228000000005, -117.806824),\n",
              " (30.23708, -93.25941),\n",
              " (42.97337, -85.64375),\n",
              " (32.778492, -96.916878),\n",
              " (39.75475, -86.14495),\n",
              " (33.87631, -118.12106),\n",
              " (41.033882, -74.07123100000003),\n",
              " (33.860405, -118.31263),\n",
              " (32.223412, -110.909508),\n",
              " (44.95071, -93.101265),\n",
              " (41.595047, -73.764015),\n",
              " (44.848248, -93.085258),\n",
              " (33.916758, -118.285871),\n",
              " (25.875916, -80.169012),\n",
              " (42.218056, -87.845528),\n",
              " (40.944124, -77.729827),\n",
              " (37.7855, -122.391823),\n",
              " (42.291234, -87.904834),\n",
              " (40.66045, -73.8672),\n",
              " (42.279732, -87.87854),\n",
              " (28.74878, -81.93167),\n",
              " (40.59617, -75.33734),\n",
              " (39.53414, -77.920006),\n",
              " (33.0448, -117.28601),\n",
              " (34.739841, -86.662178),\n",
              " (40.792934, -73.82396700000002),\n",
              " (35.761955, -78.744987),\n",
              " (42.298378, -83.878075),\n",
              " (40.891945, -79.81309499999998),\n",
              " (37.929001, -122.057755),\n",
              " (32.93891, -80.04954000000002),\n",
              " (42.874249, -78.787849),\n",
              " (47.649307, -122.34946399999998),\n",
              " (47.668671, -122.376221),\n",
              " (41.565275, -72.774369),\n",
              " (37.37431, -77.40599),\n",
              " (34.177111, -118.4685),\n",
              " (41.190815, -96.08139),\n",
              " (37.192772, -77.327789),\n",
              " (40.552364, -74.31774899999998),\n",
              " (34.293619, -118.470243),\n",
              " (40.62268, -80.09659),\n",
              " (40.704742, -73.995041),\n",
              " (38.646744, -90.530266),\n",
              " (32.811832, -96.817413),\n",
              " (40.80842, -73.94493),\n",
              " (30.428614000000003, -97.681252),\n",
              " (37.55187, -122.30963),\n",
              " (30.158553, -97.776615),\n",
              " (26.61306, -81.793472),\n",
              " (40.629429, -111.90229),\n",
              " (43.012321, -85.657928),\n",
              " (34.366240999999995, -117.65341200000002),\n",
              " (35.827309, -78.620354),\n",
              " (34.148075, -118.469818),\n",
              " (32.749599, -116.92968799999998),\n",
              " (29.68305, -95.349144),\n",
              " (35.27271500000001, -80.836258),\n",
              " (36.990612, -121.557852),\n",
              " (42.51616, -73.60991),\n",
              " (44.76519, -93.78126),\n",
              " (37.699375, -121.92906200000002),\n",
              " (45.222591, -93.029099),\n",
              " (38.906714, -120.842419),\n",
              " (36.239861, -119.42112),\n",
              " (30.656706, -87.905559),\n",
              " (34.016742, -118.173354),\n",
              " (37.316757, -121.922081),\n",
              " (26.16483, -80.23935999999998),\n",
              " (39.572697, -119.807961),\n",
              " (33.49127, -86.82158000000003),\n",
              " (40.764152, -73.724091),\n",
              " (40.644755, -77.293184),\n",
              " (39.665768, -121.743866),\n",
              " (34.641855, -118.209961),\n",
              " (28.630995, -81.387535),\n",
              " (40.263206, -76.181976),\n",
              " (30.44323, -91.153587),\n",
              " (40.70204, -73.48705),\n",
              " (33.922749, -118.029207),\n",
              " (33.912348, -117.446456),\n",
              " (37.898679, -122.070733),\n",
              " (34.704551, -82.64201),\n",
              " (42.212754, -71.14894699999998),\n",
              " (33.431629, -79.142303),\n",
              " (32.773254, -96.856499),\n",
              " (30.069355, -95.183022),\n",
              " (34.07893, -118.227524),\n",
              " (39.092316, -104.862534),\n",
              " (40.130443, -76.873456),\n",
              " (43.26641, -119.83921),\n",
              " (32.825161, -86.620613),\n",
              " (42.98843, -87.984047),\n",
              " (39.752129, -84.176109),\n",
              " (35.888927, -78.71189100000002),\n",
              " (33.58017, -117.6716),\n",
              " (29.378901000000006, -98.403954),\n",
              " (30.135435, -92.009377),\n",
              " (42.792507, -73.762527),\n",
              " (39.16785, -76.62316),\n",
              " (43.83709, -95.15798),\n",
              " (38.67138, -121.58608999999998),\n",
              " (38.818534, -76.91265899999998),\n",
              " (37.76345300000001, -77.460447),\n",
              " (40.255001, -75.64179200000002),\n",
              " (37.21507, -76.59236999999997),\n",
              " (32.873901000000004, -96.897476),\n",
              " (41.322926, -95.956635),\n",
              " (40.96344000000001, -81.465019),\n",
              " (42.35776, -71.17735),\n",
              " (47.2564, -122.51485),\n",
              " (40.111813, -75.28514100000002),\n",
              " (29.739517, -95.381279),\n",
              " (47.7086, -122.32862),\n",
              " (33.739643, -84.328194),\n",
              " (32.69132800000001, -96.823269),\n",
              " (42.912819, -85.647102),\n",
              " (47.60147, -122.32485),\n",
              " (36.606567, -119.662682),\n",
              " (37.387119, -77.419726),\n",
              " (38.691372, -104.719327),\n",
              " (39.529675, -119.829788),\n",
              " (41.668608, -72.922841),\n",
              " (38.16735, -122.20279),\n",
              " (34.019241, -118.422203),\n",
              " (42.01990900000001, -91.550224),\n",
              " (36.931141, -76.266922),\n",
              " (38.87091, -76.98875),\n",
              " (33.90034, -117.47285),\n",
              " (41.90542, -87.98835),\n",
              " (34.762852, -82.545387),\n",
              " (39.157853, -76.831834),\n",
              " (36.666962, -121.756935),\n",
              " (35.921349, -84.064949),\n",
              " (44.918663, -73.739655),\n",
              " (33.815277, -118.185081),\n",
              " (42.334366, -71.095314),\n",
              " (43.554192, -73.40007),\n",
              " (38.654709, -121.036942),\n",
              " (38.321544, -121.32546),\n",
              " (28.697873, -82.104239),\n",
              " (33.946217, -117.38871),\n",
              " (39.23406, -76.70889),\n",
              " (33.83368, -84.33232),\n",
              " (33.753777, -118.29126),\n",
              " (35.151089, -118.823372),\n",
              " (33.751446, -84.446114),\n",
              " (34.23274, -118.47299),\n",
              " (33.563098, -117.656415),\n",
              " (42.02602, -87.81624000000002),\n",
              " (40.14737, -84.21929),\n",
              " (38.23587, -85.658455),\n",
              " (37.639245, -121.007109),\n",
              " (43.02751, -88.01263),\n",
              " (39.514629, -118.856812),\n",
              " (33.930969, -118.300323),\n",
              " (36.170837, -86.76417),\n",
              " (32.612583, -83.742805),\n",
              " (42.42837100000001, -71.25882),\n",
              " (38.24572, -122.625526),\n",
              " (35.073608, -85.18820699999998),\n",
              " (38.56368300000001, -121.636625),\n",
              " (45.163956, -93.276695),\n",
              " (40.029678, -76.493042),\n",
              " (37.362774, -121.887871),\n",
              " (29.766043, -95.455971),\n",
              " (29.729774, -95.605743),\n",
              " (27.95617, -82.4642),\n",
              " (33.764568, -84.384727),\n",
              " (42.494469, -82.938179),\n",
              " (37.710659, -122.166817),\n",
              " (34.114746000000004, -80.888672),\n",
              " (26.010791, -80.166826),\n",
              " (29.784473, -95.468704),\n",
              " (27.885455, -82.787019),\n",
              " (34.331055, -81.609154),\n",
              " (32.624374, -83.36969),\n",
              " (30.35552, -81.66866999999998),\n",
              " (32.515087, -93.748596),\n",
              " (30.340569, -97.554581),\n",
              " (33.78989, -84.49068),\n",
              " (34.03119, -118.03068),\n",
              " (34.145805, -81.23786199999998),\n",
              " (25.686405, -80.35164499999998),\n",
              " (34.257332, -118.853742),\n",
              " (35.748638, -78.834824),\n",
              " (25.963083, -80.15353499999998),\n",
              " (33.963913, -117.324977),\n",
              " (42.61479, -87.95227),\n",
              " (35.258881, -89.871643),\n",
              " (35.93572, -79.33326),\n",
              " (41.07552, -73.802017),\n",
              " (44.96603, -93.265116),\n",
              " (42.264896, -83.271271),\n",
              " (33.54546, -112.047539),\n",
              " (32.830425, -117.23262),\n",
              " (43.001141, -77.670395),\n",
              " (33.87628, -118.13109),\n",
              " (34.741413, -86.678698),\n",
              " (38.596024, -121.401497),\n",
              " (38.011761, -121.86622),\n",
              " (33.782509999999995, -118.35237),\n",
              " (27.441839, -82.459595),\n",
              " (38.231153000000006, -122.112747),\n",
              " (37.603195, -122.064285),\n",
              " (37.31749, -121.935356),\n",
              " (33.687782, -117.906548),\n",
              " (44.879065, -93.002742),\n",
              " (43.04929, -75.233482),\n",
              " (42.909031, -83.604378),\n",
              " (35.75377, -78.64441),\n",
              " (40.37692, -111.823003),\n",
              " (29.843294, -82.530411),\n",
              " (38.959431, -85.845001),\n",
              " (35.217152, -80.82399000000002),\n",
              " (33.791645, -84.391693),\n",
              " (38.790883, -77.176147),\n",
              " (37.742855, -122.198219),\n",
              " (32.774640000000005, -117.13446),\n",
              " (33.555344, -112.043892),\n",
              " (39.83181, -75.42732),\n",
              " (33.483948, -86.82634),\n",
              " (28.450769, -82.557404),\n",
              " (34.15005900000001, -118.468437),\n",
              " (34.559639000000004, -111.904762),\n",
              " (34.617359, -82.324852),\n",
              " (36.880207, -119.976631),\n",
              " (42.36788, -87.89508000000002),\n",
              " (36.751447, -119.793557),\n",
              " (43.196243, -77.576782),\n",
              " (34.74968, -82.50083199999997),\n",
              " (34.145939, -84.516632),\n",
              " (25.883393, -80.361758),\n",
              " (30.137239, -92.066566),\n",
              " (40.70215, -73.48571),\n",
              " (38.26073, -122.0606),\n",
              " (42.978516, -77.232529),\n",
              " (44.775101, -93.288506),\n",
              " (46.93051, -120.502127),\n",
              " (44.78704000000001, -68.80843),\n",
              " (37.33453, -122.027931),\n",
              " (42.231777, -87.830811),\n",
              " (39.811752, -86.176788),\n",
              " (41.932301, -87.678116),\n",
              " (34.12536, -118.47654),\n",
              " (39.87425, -75.10239),\n",
              " (38.85122, -77.07574),\n",
              " (41.099137, -73.440099),\n",
              " (31.771512, -106.377172),\n",
              " (39.210904, -120.783464),\n",
              " (25.889368, -80.206795),\n",
              " (33.418018, -86.687416),\n",
              " (33.96021, -117.908268),\n",
              " (40.4189, -74.208412),\n",
              " (41.0613, -73.51018),\n",
              " (27.792072, -82.66069),\n",
              " (34.042334000000004, -118.773637),\n",
              " (34.033696, -118.361083),\n",
              " (35.25859000000001, -112.14472),\n",
              " (39.964121, -77.24828199999997),\n",
              " (39.871022, -75.10212),\n",
              " (30.412809000000006, -97.696831),\n",
              " (37.702255, -121.744728),\n",
              " (34.17626, -83.91631),\n",
              " (40.653603, -111.98176200000002),\n",
              " (29.73068, -95.484161),\n",
              " (35.229172, -80.865356),\n",
              " (34.129452, -86.41124),\n",
              " (40.060783, -76.359779),\n",
              " (30.475215, -91.111308),\n",
              " (41.8153, -87.63048),\n",
              " (36.141407, -86.666557),\n",
              " (34.381173, -118.413408),\n",
              " (41.178349, -73.19519),\n",
              " (34.082256, -117.698196),\n",
              " (34.003284, -117.380767),\n",
              " (28.37145, -81.40438),\n",
              " (29.675388, -95.550169),\n",
              " (41.94935200000001, -71.340848),\n",
              " (30.543131, -91.028587),\n",
              " (40.71806, -112.11437),\n",
              " (40.25008, -75.388733),\n",
              " (38.012596, -122.002274),\n",
              " (40.06489600000001, -75.32122),\n",
              " (38.617735, -121.382879),\n",
              " (30.18701, -81.73946),\n",
              " (34.028675, -118.228828),\n",
              " (34.037999, -118.276449),\n",
              " (34.912468, -82.429283),\n",
              " (44.94409, -93.07786),\n",
              " (36.758495, -76.30364399999998),\n",
              " (29.61107, -95.4883),\n",
              " (40.854481, -73.96579),\n",
              " (37.670472, -122.110379),\n",
              " (34.129723, -117.933701),\n",
              " (33.58918, -111.83617),\n",
              " (40.28586, -74.71434),\n",
              " (33.738712, -117.091906),\n",
              " (36.66982, -80.708903),\n",
              " (34.021034, -118.195198),\n",
              " (44.951866, -93.146957),\n",
              " (32.898563, -96.769188),\n",
              " (41.82402, -78.35730699999998),\n",
              " (39.59483, -104.802345),\n",
              " (34.837709999999994, -82.28967),\n",
              " (32.79575, -96.6922),\n",
              " (37.09657, -80.563202),\n",
              " (37.540244, -120.895759),\n",
              " (33.876289, -118.102577),\n",
              " (33.394573, -80.64431),\n",
              " (34.16108, -118.46961),\n",
              " (40.59523, -73.65686),\n",
              " (33.85611, -118.00633),\n",
              " (34.865355, -82.433279),\n",
              " (33.8784, -118.19254),\n",
              " (35.777813, -78.560852),\n",
              " (33.787947, -117.880076),\n",
              " (44.81494, -120.93174),\n",
              " (46.301641, -94.267719),\n",
              " (39.77345, -104.83529),\n",
              " (41.95929, -88.089287),\n",
              " (40.709063, -73.819822),\n",
              " (40.683006, -75.280905),\n",
              " (41.581806, -93.703514),\n",
              " (44.952644, -93.041512),\n",
              " (34.035315999999995, -118.149963),\n",
              " (41.73481, -72.66427),\n",
              " (34.392521, -118.472832),\n",
              " (34.82251, -82.288048),\n",
              " (34.908939000000004, -91.196554),\n",
              " (34.070496, -117.392105),\n",
              " (34.124851, -117.509501),\n",
              " (27.903095, -82.636016),\n",
              " (33.230209, -86.80720500000002),\n",
              " (37.595968, -122.059106),\n",
              " (30.008568, -90.219955),\n",
              " (36.07215, -86.73288000000002),\n",
              " (41.477081, -74.312302),\n",
              " (34.186409000000005, -80.211472),\n",
              " (34.230522, -79.798828),\n",
              " (30.35021, -81.66854000000002),\n",
              " (42.17422, -84.658953),\n",
              " (33.392072, -117.174211),\n",
              " (47.478865, -92.871927),\n",
              " (43.65889, -116.657),\n",
              " (33.88998, -117.50985),\n",
              " (29.735954, -95.410675),\n",
              " (29.784895, -95.64492),\n",
              " (43.01559, -121.82597),\n",
              " (37.800674, -121.192345),\n",
              " (37.326692, -121.94071),\n",
              " (42.75262, -70.94408),\n",
              " (33.674887, -117.8384),\n",
              " (43.594297, -116.448243),\n",
              " (39.95111, -75.18283000000002),\n",
              " (40.004341, -83.15387700000002),\n",
              " (28.480616, -81.310112),\n",
              " (37.886386, -120.999881),\n",
              " (37.75015300000001, -121.138657),\n",
              " (33.72029000000001, -84.50253000000002),\n",
              " (38.630543, -121.498053),\n",
              " (28.548094, -81.260651),\n",
              " (41.93976, -85.65168),\n",
              " (30.389618, -87.067521),\n",
              " (32.709896, -97.024734),\n",
              " (33.80271, -84.38578199999998),\n",
              " (39.326984, -120.39026),\n",
              " (42.378181, -83.06276700000002),\n",
              " (42.06832, -88.29720999999998),\n",
              " (48.07196, -122.111336),\n",
              " (39.268185, -84.36068),\n",
              " (33.933499, -117.000073),\n",
              " (45.69356, -120.382422),\n",
              " (30.260363, -97.794464),\n",
              " (34.06446, -118.00388),\n",
              " (39.102356, -84.498451),\n",
              " (32.67099, -96.97586),\n",
              " (32.734257, -96.688438),\n",
              " (45.29932, -93.51108),\n",
              " (37.771553, -121.810371),\n",
              " (35.715639, -78.58413399999998),\n",
              " (34.00634, -118.41371200000002),\n",
              " (38.77343, -121.24282),\n",
              " (35.8242, -78.587456),\n",
              " (37.608707, -122.068192),\n",
              " (34.155396, -118.291702),\n",
              " (40.430185, -79.880839),\n",
              " (39.07679, -77.6064),\n",
              " (41.85697, -88.16093000000002),\n",
              " (40.844837, -73.904137),\n",
              " (40.91078, -74.50895),\n",
              " (45.575668, -94.124184),\n",
              " (39.69667000000001, -104.81922),\n",
              " (34.442143, -119.784885),\n",
              " (40.936253, -123.625681),\n",
              " (45.375734, -122.58606),\n",
              " (33.916225, -118.223022),\n",
              " (39.651531, -77.800186),\n",
              " (40.044579, -76.490997),\n",
              " (32.751759, -96.770355),\n",
              " (32.852734000000005, -79.98790699999998),\n",
              " (30.41016, -84.137787),\n",
              " (34.25581, -111.256042),\n",
              " (37.8952, -122.11238),\n",
              " (41.90015, -87.66059),\n",
              " (33.928740000000005, -118.25041),\n",
              " (29.9466, -95.41623),\n",
              " (39.11364, -94.892532),\n",
              " (41.527344, -73.916061),\n",
              " (34.916744, -82.00431800000001),\n",
              " (29.981182, -90.11367),\n",
              " (35.106468, -80.76664699999998),\n",
              " (41.029095, -74.251366),\n",
              " (33.934631, -84.494003),\n",
              " (30.23735, -93.26431),\n",
              " (34.078987, -118.291693),\n",
              " (47.661381, -122.336151),\n",
              " (37.807884, -121.297215),\n",
              " (45.062237, -93.159867),\n",
              " (36.845505, -76.196342),\n",
              " (32.746639, -97.30658),\n",
              " (33.629433, -84.40289),\n",
              " (32.759537, -97.062378),\n",
              " (40.42476, -76.52409),\n",
              " (28.041037, -82.558578),\n",
              " (40.847298, -72.883698),\n",
              " (33.968163, -118.16787),\n",
              " (32.67951, -96.82267),\n",
              " (34.01334, -117.34403),\n",
              " (33.954479, -80.924461),\n",
              " (28.001841, -82.30246),\n",
              " (32.792442, -96.685028),\n",
              " (35.05104, -80.76953),\n",
              " (37.768478, -122.006729),\n",
              " (32.95215, -117.10351),\n",
              " (35.833744, -77.978882),\n",
              " (34.02502, -117.73398),\n",
              " (37.092485, -80.573437),\n",
              " (34.025956, -118.040102),\n",
              " (45.079498, -93.052864),\n",
              " (46.23506, -123.87196000000002),\n",
              " (40.760189, -74.051147),\n",
              " (33.75119, -84.4963),\n",
              " (45.77352, -92.8301),\n",
              " (33.74071, -117.83391),\n",
              " (34.018436, -117.984634),\n",
              " (25.94235, -80.34227),\n",
              " (38.94522, -94.85307),\n",
              " (35.221835, -92.833131),\n",
              " (34.155727, -118.431236),\n",
              " (45.2133, -122.82353),\n",
              " (30.10803, -95.435562),\n",
              " (41.213799, -96.110283),\n",
              " (34.147237, -118.69888600000002),\n",
              " (37.892591, -122.159524),\n",
              " (34.020633000000004, -118.192258),\n",
              " (34.186754, -118.474275),\n",
              " (42.40348, -83.09566),\n",
              " (38.64056400000001, -121.47773),\n",
              " (40.5018, -74.44404),\n",
              " (33.901897, -118.291794),\n",
              " (42.19334, -120.37615),\n",
              " (36.261977, -86.738043),\n",
              " (36.289661, -119.117767),\n",
              " (39.884051, -76.160831),\n",
              " (40.10962, -79.38226),\n",
              " (41.035675, -73.816696),\n",
              " (25.630294, -80.41471800000002),\n",
              " (41.96341, -87.74721),\n",
              " (25.77773, -80.302995),\n",
              " (34.878521, -82.361328),\n",
              " (36.95016500000001, -121.471695),\n",
              " (38.737267, -77.192484),\n",
              " (40.03244, -111.758102),\n",
              " (33.90651, -84.43203000000003),\n",
              " (27.576923, -82.42546999999998),\n",
              " (38.911391, -76.579894),\n",
              " (33.856840000000005, -118.284809),\n",
              " (43.327518, -73.68463100000002),\n",
              " (38.863026, -77.369875),\n",
              " (47.608002, -122.29628),\n",
              " (37.759823, -122.392258),\n",
              " (33.797779, -118.293724),\n",
              " (41.219711, -95.953331),\n",
              " (33.986732, -117.906235),\n",
              " (45.244923, -123.047989),\n",
              " (33.7677, -117.92028),\n",
              " (37.390098, -121.991977),\n",
              " (30.224709000000004, -92.052452),\n",
              " (34.104040000000005, -118.319696),\n",
              " (36.168259, -86.782036),\n",
              " (35.15279, -80.774117),\n",
              " (29.872042, -95.262558),\n",
              " (34.303802000000005, -118.478905),\n",
              " (38.628149, -120.208637),\n",
              " (34.055695, -118.451965),\n",
              " (34.15424, -118.375259),\n",
              " (35.76886, -78.736099),\n",
              " (40.85306, -73.96011),\n",
              " (39.514046, -77.319283),\n",
              " (30.184739, -81.637291),\n",
              " (45.053483, -93.058029),\n",
              " (35.827312, -78.620384),\n",
              " (27.567875, -82.568765),\n",
              " (30.160873, -81.747263),\n",
              " (42.783209, -86.07985),\n",
              " (42.840167, -73.483921),\n",
              " (42.945187, -83.62281800000002),\n",
              " (27.93755, -82.32975),\n",
              " (33.575444, -81.740948),\n",
              " (43.174896, -77.613722),\n",
              " (44.697693, -93.288147),\n",
              " (33.77817, -117.86739),\n",
              " (29.624031, -95.430809),\n",
              " (30.425835, -91.010925),\n",
              " (34.00444, -118.4122),\n",
              " (28.727290000000004, -81.60181),\n",
              " (38.84737, -77.42849),\n",
              " (26.13603, -80.219009),\n",
              " (33.743111, -118.002724),\n",
              " (26.6217, -81.71521),\n",
              " (36.941958, -80.917374),\n",
              " (38.16722, -122.20299),\n",
              " (44.784027, -93.20884),\n",
              " (37.56174, -122.27629),\n",
              " (26.45408, -80.17444),\n",
              " (40.758507, -73.854675),\n",
              " (28.635424, -81.448527),\n",
              " (38.70697, -77.223),\n",
              " (40.785793, -77.8545),\n",
              " (35.83492000000001, -78.60642),\n",
              " (42.066444, -88.22333499999998),\n",
              " (45.069469, -93.285942),\n",
              " (47.636021, -122.227669),\n",
              " (42.912641, -85.626609),\n",
              " (45.507012, -122.670754),\n",
              " ...]"
            ]
          },
          "metadata": {
            "tags": []
          },
          "execution_count": 130
        }
      ]
    },
    {
      "cell_type": "code",
      "metadata": {
        "id": "V2wK4aGIjfAO"
      },
      "source": [
        "sample_df= df.sample(int(0.001 * len(df)))\n",
        "lat_long_pairs=list(zip(list(sample_df.Start_Lat),list(sample_df.Start_Lng)))"
      ],
      "execution_count": null,
      "outputs": []
    },
    {
      "cell_type": "code",
      "metadata": {
        "colab": {
          "base_uri": "https://localhost:8080/",
          "height": 685
        },
        "id": "L4UNrWApWfTB",
        "outputId": "a70d25fe-6363-438e-f31c-4615ac5089f1"
      },
      "source": [
        "map = folium.Map()\n",
        "HeatMap(lat_long_pairs[0:100]).add_to(map)\n",
        "map"
      ],
      "execution_count": null,
      "outputs": [
        {
          "output_type": "execute_result",
          "data": {
            "text/html": [
              "<div style=\"width:100%;\"><div style=\"position:relative;width:100%;height:0;padding-bottom:60%;\"><span style=\"color:#565656\">Make this Notebook Trusted to load map: File -> Trust Notebook</span><iframe src=\"about:blank\" style=\"position:absolute;width:100%;height:100%;left:0;top:0;border:none !important;\" data-html=%3C%21DOCTYPE%20html%3E%0A%3Chead%3E%20%20%20%20%0A%20%20%20%20%3Cmeta%20http-equiv%3D%22content-type%22%20content%3D%22text/html%3B%20charset%3DUTF-8%22%20/%3E%0A%20%20%20%20%3Cscript%3EL_PREFER_CANVAS%3Dfalse%3B%20L_NO_TOUCH%3Dfalse%3B%20L_DISABLE_3D%3Dfalse%3B%3C/script%3E%0A%20%20%20%20%3Cscript%20src%3D%22https%3A//cdn.jsdelivr.net/npm/leaflet%401.4.0/dist/leaflet.js%22%3E%3C/script%3E%0A%20%20%20%20%3Cscript%20src%3D%22https%3A//code.jquery.com/jquery-1.12.4.min.js%22%3E%3C/script%3E%0A%20%20%20%20%3Cscript%20src%3D%22https%3A//maxcdn.bootstrapcdn.com/bootstrap/3.2.0/js/bootstrap.min.js%22%3E%3C/script%3E%0A%20%20%20%20%3Cscript%20src%3D%22https%3A//cdnjs.cloudflare.com/ajax/libs/Leaflet.awesome-markers/2.0.2/leaflet.awesome-markers.js%22%3E%3C/script%3E%0A%20%20%20%20%3Clink%20rel%3D%22stylesheet%22%20href%3D%22https%3A//cdn.jsdelivr.net/npm/leaflet%401.4.0/dist/leaflet.css%22/%3E%0A%20%20%20%20%3Clink%20rel%3D%22stylesheet%22%20href%3D%22https%3A//maxcdn.bootstrapcdn.com/bootstrap/3.2.0/css/bootstrap.min.css%22/%3E%0A%20%20%20%20%3Clink%20rel%3D%22stylesheet%22%20href%3D%22https%3A//maxcdn.bootstrapcdn.com/bootstrap/3.2.0/css/bootstrap-theme.min.css%22/%3E%0A%20%20%20%20%3Clink%20rel%3D%22stylesheet%22%20href%3D%22https%3A//maxcdn.bootstrapcdn.com/font-awesome/4.6.3/css/font-awesome.min.css%22/%3E%0A%20%20%20%20%3Clink%20rel%3D%22stylesheet%22%20href%3D%22https%3A//cdnjs.cloudflare.com/ajax/libs/Leaflet.awesome-markers/2.0.2/leaflet.awesome-markers.css%22/%3E%0A%20%20%20%20%3Clink%20rel%3D%22stylesheet%22%20href%3D%22https%3A//rawcdn.githack.com/python-visualization/folium/master/folium/templates/leaflet.awesome.rotate.css%22/%3E%0A%20%20%20%20%3Cstyle%3Ehtml%2C%20body%20%7Bwidth%3A%20100%25%3Bheight%3A%20100%25%3Bmargin%3A%200%3Bpadding%3A%200%3B%7D%3C/style%3E%0A%20%20%20%20%3Cstyle%3E%23map%20%7Bposition%3Aabsolute%3Btop%3A0%3Bbottom%3A0%3Bright%3A0%3Bleft%3A0%3B%7D%3C/style%3E%0A%20%20%20%20%0A%20%20%20%20%3Cmeta%20name%3D%22viewport%22%20content%3D%22width%3Ddevice-width%2C%0A%20%20%20%20%20%20%20%20initial-scale%3D1.0%2C%20maximum-scale%3D1.0%2C%20user-scalable%3Dno%22%20/%3E%0A%20%20%20%20%3Cstyle%3E%23map_ae03ffd0d7e848f28375121fe774d522%20%7B%0A%20%20%20%20%20%20%20%20position%3A%20relative%3B%0A%20%20%20%20%20%20%20%20width%3A%20100.0%25%3B%0A%20%20%20%20%20%20%20%20height%3A%20100.0%25%3B%0A%20%20%20%20%20%20%20%20left%3A%200.0%25%3B%0A%20%20%20%20%20%20%20%20top%3A%200.0%25%3B%0A%20%20%20%20%20%20%20%20%7D%0A%20%20%20%20%3C/style%3E%0A%20%20%20%20%3Cscript%20src%3D%22https%3A//leaflet.github.io/Leaflet.heat/dist/leaflet-heat.js%22%3E%3C/script%3E%0A%3C/head%3E%0A%3Cbody%3E%20%20%20%20%0A%20%20%20%20%0A%20%20%20%20%3Cdiv%20class%3D%22folium-map%22%20id%3D%22map_ae03ffd0d7e848f28375121fe774d522%22%20%3E%3C/div%3E%0A%3C/body%3E%0A%3Cscript%3E%20%20%20%20%0A%20%20%20%20%0A%20%20%20%20%0A%20%20%20%20%20%20%20%20var%20bounds%20%3D%20null%3B%0A%20%20%20%20%0A%0A%20%20%20%20var%20map_ae03ffd0d7e848f28375121fe774d522%20%3D%20L.map%28%0A%20%20%20%20%20%20%20%20%27map_ae03ffd0d7e848f28375121fe774d522%27%2C%20%7B%0A%20%20%20%20%20%20%20%20center%3A%20%5B0%2C%200%5D%2C%0A%20%20%20%20%20%20%20%20zoom%3A%201%2C%0A%20%20%20%20%20%20%20%20maxBounds%3A%20bounds%2C%0A%20%20%20%20%20%20%20%20layers%3A%20%5B%5D%2C%0A%20%20%20%20%20%20%20%20worldCopyJump%3A%20false%2C%0A%20%20%20%20%20%20%20%20crs%3A%20L.CRS.EPSG3857%2C%0A%20%20%20%20%20%20%20%20zoomControl%3A%20true%2C%0A%20%20%20%20%20%20%20%20%7D%29%3B%0A%0A%0A%20%20%20%20%0A%20%20%20%20var%20tile_layer_afb57844b1c64e46be2ee882266afde2%20%3D%20L.tileLayer%28%0A%20%20%20%20%20%20%20%20%27https%3A//%7Bs%7D.tile.openstreetmap.org/%7Bz%7D/%7Bx%7D/%7By%7D.png%27%2C%0A%20%20%20%20%20%20%20%20%7B%0A%20%20%20%20%20%20%20%20%22attribution%22%3A%20null%2C%0A%20%20%20%20%20%20%20%20%22detectRetina%22%3A%20false%2C%0A%20%20%20%20%20%20%20%20%22maxNativeZoom%22%3A%2018%2C%0A%20%20%20%20%20%20%20%20%22maxZoom%22%3A%2018%2C%0A%20%20%20%20%20%20%20%20%22minZoom%22%3A%200%2C%0A%20%20%20%20%20%20%20%20%22noWrap%22%3A%20false%2C%0A%20%20%20%20%20%20%20%20%22opacity%22%3A%201%2C%0A%20%20%20%20%20%20%20%20%22subdomains%22%3A%20%22abc%22%2C%0A%20%20%20%20%20%20%20%20%22tms%22%3A%20false%0A%7D%29.addTo%28map_ae03ffd0d7e848f28375121fe774d522%29%3B%0A%20%20%20%20%0A%20%20%20%20%20%20%20%20%20%20%20%20var%20heat_map_98cd5ba4621141918c4514f3e55d9f6d%20%3D%20L.heatLayer%28%0A%20%20%20%20%20%20%20%20%20%20%20%20%20%20%20%20%5B%5B44.77814%2C%20-93.50546%5D%2C%20%5B32.993164%2C%20-117.19455%5D%2C%20%5B40.752088%2C%20-74.11918299999998%5D%2C%20%5B39.73804000000001%2C%20-84.09812%5D%2C%20%5B39.600145%2C%20-77.83214%5D%2C%20%5B33.006652%2C%20-96.829215%5D%2C%20%5B37.491108%2C%20-121.94632%5D%2C%20%5B29.423309000000003%2C%20-98.389381%5D%2C%20%5B40.10529%2C%20-82.97454%5D%2C%20%5B47.977829%2C%20-122.138954%5D%2C%20%5B32.68784%2C%20-96.8256%5D%2C%20%5B39.9329%2C%20-76.80795%5D%2C%20%5B33.765390999999994%2C%20-84.51018%5D%2C%20%5B41.266659%2C%20-111.969513%5D%2C%20%5B34.3375%2C%20-119.0825%5D%2C%20%5B38.539188%2C%20-90.495705%5D%2C%20%5B35.842869%2C%20-78.573624%5D%2C%20%5B40.178856%2C%20-76.17749%5D%2C%20%5B36.718423%2C%20-80.74626500000002%5D%2C%20%5B29.9139%2C%20-95.55615%5D%2C%20%5B33.196381%2C%20-87.484549%5D%2C%20%5B33.929482%2C%20-118.246254%5D%2C%20%5B34.375729%2C%20-118.523689%5D%2C%20%5B40.836492%2C%20-73.876887%5D%2C%20%5B34.202515000000005%2C%20-82.134941%5D%2C%20%5B35.442863%2C%20-80.87487%5D%2C%20%5B40.737051%2C%20-73.93190600000001%5D%2C%20%5B46.824414%2C%20-123.121457%5D%2C%20%5B47.160057%2C%20-122.467735%5D%2C%20%5B30.4259%2C%20-91.137703%5D%2C%20%5B45.559246%2C%20-122.559296%5D%2C%20%5B40.993305%2C%20-73.678123%5D%2C%20%5B38.195381%2C%20-85.707649%5D%2C%20%5B40.24366%2C%20-74.717842%5D%2C%20%5B37.36398%2C%20-121.90181%5D%2C%20%5B33.960133%2C%20-118.280518%5D%2C%20%5B38.67855%2C%20-121.23001200000002%5D%2C%20%5B30.448835%2C%20-82.932999%5D%2C%20%5B40.072958%2C%20-76.308275%5D%2C%20%5B47.66582%2C%20-122.13101%5D%2C%20%5B35.103599%2C%20-82.040087%5D%2C%20%5B30.457502%2C%20-91.172822%5D%2C%20%5B27.601384000000003%2C%20-82.539606%5D%2C%20%5B32.23547%2C%20-110.828133%5D%2C%20%5B40.987408%2C%20-73.670479%5D%2C%20%5B44.919666%2C%20-93.27449%5D%2C%20%5B37.31534600000001%2C%20-79.958145%5D%2C%20%5B28.24069%2C%20-82.31255999999998%5D%2C%20%5B45.303185%2C%20-93.554703%5D%2C%20%5B32.776018%2C%20-117.134894%5D%2C%20%5B43.177608%2C%20-83.76861600000002%5D%2C%20%5B37.364079%2C%20-121.901909%5D%2C%20%5B41.89531%2C%20-87.65685%5D%2C%20%5B33.884048%2C%20-118.351929%5D%2C%20%5B33.495064%2C%20-112.151451%5D%2C%20%5B33.895821000000005%2C%20-80.316597%5D%2C%20%5B32.814754%2C%20-117.15843999999998%5D%2C%20%5B43.633812%2C%20-116.356212%5D%2C%20%5B32.75908%2C%20-96.9174%5D%2C%20%5B38.656821%2C%20-77.250635%5D%2C%20%5B33.892628%2C%20-117.880569%5D%2C%20%5B28.354416%2C%20-81.49455999999998%5D%2C%20%5B34.14829%2C%20-118.08608999999998%5D%2C%20%5B30.302094%2C%20-81.922081%5D%2C%20%5B34.153866%2C%20-118.341156%5D%2C%20%5B42.253922%2C%20-76.958954%5D%2C%20%5B33.865696%2C%20-117.542336%5D%2C%20%5B41.214432%2C%20-73.810539%5D%2C%20%5B36.400813%2C%20-94.186368%5D%2C%20%5B41.18048%2C%20-73.14565999999998%5D%2C%20%5B33.780811%2C%20-117.748299%5D%2C%20%5B28.186056%2C%20-82.432753%5D%2C%20%5B44.861145%2C%20-93.319295%5D%2C%20%5B28.206091%2C%20-82.666122%5D%2C%20%5B32.90894%2C%20-96.89251%5D%2C%20%5B43.01261%2C%20-83.64766999999998%5D%2C%20%5B33.83368%2C%20-84.33232%5D%2C%20%5B35.877376%2C%20-78.513023%5D%2C%20%5B35.36040999999999%2C%20-119.03936000000002%5D%2C%20%5B34.023644%2C%20-118.172697%5D%2C%20%5B28.36614%2C%20-81.42047099999998%5D%2C%20%5B39.8327%2C%20-75.70749%5D%2C%20%5B32.521381%2C%20-93.808105%5D%2C%20%5B40.758896%2C%20-74.083031%5D%2C%20%5B34.748302%2C%20-92.391571%5D%2C%20%5B33.466911%2C%20-117.669861%5D%2C%20%5B30.438541%2C%20-91.024033%5D%2C%20%5B41.770633%2C%20-122.496081%5D%2C%20%5B40.198475%2C%20-74.099731%5D%2C%20%5B37.752987%2C%20-122.403%5D%2C%20%5B42.943951%2C%20-83.71315799999998%5D%2C%20%5B25.79454%2C%20-80.205513%5D%2C%20%5B33.846982000000004%2C%20-118.205352%5D%2C%20%5B37.637831%2C%20-121.158887%5D%2C%20%5B30.171587%2C%20-97.627586%5D%2C%20%5B32.96983%2C%20-117.24916100000002%5D%2C%20%5B32.503840999999994%2C%20-93.75853%5D%2C%20%5B34.14132%2C%20-118.17979%5D%2C%20%5B33.561612%2C%20-81.778374%5D%2C%20%5B32.71776%2C%20-117.08898%5D%5D%2C%0A%20%20%20%20%20%20%20%20%20%20%20%20%20%20%20%20%7B%0A%20%20%20%20%20%20%20%20%20%20%20%20%20%20%20%20%20%20%20%20minOpacity%3A%200.5%2C%0A%20%20%20%20%20%20%20%20%20%20%20%20%20%20%20%20%20%20%20%20maxZoom%3A%2018%2C%0A%20%20%20%20%20%20%20%20%20%20%20%20%20%20%20%20%20%20%20%20max%3A%201.0%2C%0A%20%20%20%20%20%20%20%20%20%20%20%20%20%20%20%20%20%20%20%20radius%3A%2025%2C%0A%20%20%20%20%20%20%20%20%20%20%20%20%20%20%20%20%20%20%20%20blur%3A%2015%2C%0A%20%20%20%20%20%20%20%20%20%20%20%20%20%20%20%20%20%20%20%20gradient%3A%20null%0A%20%20%20%20%20%20%20%20%20%20%20%20%20%20%20%20%20%20%20%20%7D%29%0A%20%20%20%20%20%20%20%20%20%20%20%20%20%20%20%20.addTo%28map_ae03ffd0d7e848f28375121fe774d522%29%3B%0A%20%20%20%20%20%20%20%20%0A%3C/script%3E onload=\"this.contentDocument.open();this.contentDocument.write(    decodeURIComponent(this.getAttribute('data-html')));this.contentDocument.close();\" allowfullscreen webkitallowfullscreen mozallowfullscreen></iframe></div></div>"
            ],
            "text/plain": [
              "<folium.folium.Map at 0x7f55577fe6d0>"
            ]
          },
          "metadata": {
            "tags": []
          },
          "execution_count": 132
        }
      ]
    },
    {
      "cell_type": "code",
      "metadata": {
        "id": "9GfvPnCPWfP5"
      },
      "source": [
        ""
      ],
      "execution_count": null,
      "outputs": []
    },
    {
      "cell_type": "code",
      "metadata": {
        "id": "GapGfzEvWfKn"
      },
      "source": [
        ""
      ],
      "execution_count": null,
      "outputs": []
    },
    {
      "cell_type": "code",
      "metadata": {
        "id": "fvagPWl4WfHf"
      },
      "source": [
        ""
      ],
      "execution_count": null,
      "outputs": []
    },
    {
      "cell_type": "code",
      "metadata": {
        "id": "nVBLSdn4WfEc"
      },
      "source": [
        ""
      ],
      "execution_count": null,
      "outputs": []
    },
    {
      "cell_type": "code",
      "metadata": {
        "id": "l7ZkGA4PWfBX"
      },
      "source": [
        ""
      ],
      "execution_count": null,
      "outputs": []
    },
    {
      "cell_type": "code",
      "metadata": {
        "id": "xduuazUdWe-E"
      },
      "source": [
        ""
      ],
      "execution_count": null,
      "outputs": []
    },
    {
      "cell_type": "code",
      "metadata": {
        "id": "WDb978nGWe6s"
      },
      "source": [
        ""
      ],
      "execution_count": null,
      "outputs": []
    },
    {
      "cell_type": "code",
      "metadata": {
        "id": "55MjFF0IWe2F"
      },
      "source": [
        ""
      ],
      "execution_count": null,
      "outputs": []
    },
    {
      "cell_type": "markdown",
      "metadata": {
        "id": "-EVqNbPw1dgT"
      },
      "source": [
        "##QUES. and ANS. Sections:\n",
        "\n",
        "\n",
        "1.  more accidents in warmer areas or at colder areas?\n",
        "\n",
        "2.  which states having high number of accidents?\n",
        "3. which states are there conatining top 100 cities met with most accidents\n",
        "4. what time of the day are most accidents frequent in?\n",
        "5. which days of the weeks have most accidents?\n",
        "6. which months has the most accidents?\n",
        "7.what is the trend of accidents year over year(decreasing/increasing)\n",
        "8. is the distribution of accidents by hours in weekends same as in that of weekdays.\n",
        "9. (doubt)?? how to get graph plotting for a particular month of a particular year? for example 7th month of 2016 year\n",
        "\n"
      ]
    },
    {
      "cell_type": "markdown",
      "metadata": {
        "id": "Tok5vcssdF0p"
      },
      "source": [
        ""
      ]
    },
    {
      "cell_type": "markdown",
      "metadata": {
        "id": "nTcXHZfIdFxR"
      },
      "source": [
        ""
      ]
    },
    {
      "cell_type": "markdown",
      "metadata": {
        "id": "YDZzsNtrdFt2"
      },
      "source": [
        ""
      ]
    },
    {
      "cell_type": "markdown",
      "metadata": {
        "id": "gUR5YsrCdGcP"
      },
      "source": [
        "#Summary and Insights"
      ]
    },
    {
      "cell_type": "markdown",
      "metadata": {
        "id": "HP3a3CAOdLbb"
      },
      "source": [
        "1. percentage of high accident cities to total unique cities = 1.96%\n",
        "2.New york with highest population in not present in top 10 high accident cities\n",
        "3. most accidents happened around 7pm and 8pm,because maybe rush hour for working professionals and also while returning from offices around 3pm to 6pm\n",
        "4. most accidents occur in weekdays compared to weekends\n",
        "5. so most accidents on sundays are around 10 am to 12 pm,maybe because people wakes up late and move out with their vehicle)\n",
        "6.most accidents occur around year ends\n",
        "7. much data is missing for 2016 year"
      ]
    },
    {
      "cell_type": "markdown",
      "metadata": {
        "id": "kZTCRstQdLYP"
      },
      "source": [
        ""
      ]
    },
    {
      "cell_type": "code",
      "metadata": {
        "id": "X70u5zXP2fik"
      },
      "source": [
        ""
      ],
      "execution_count": null,
      "outputs": []
    }
  ]
}